{
 "cells": [
  {
   "cell_type": "markdown",
   "id": "5898af26",
   "metadata": {},
   "source": [
    "# 영화진흥위원회 오픈API"
   ]
  },
  {
   "cell_type": "code",
   "execution_count": 1,
   "id": "81ad4f29",
   "metadata": {},
   "outputs": [
    {
     "name": "stderr",
     "output_type": "stream",
     "text": [
      "/Users/swoo64/Library/Python/3.9/lib/python/site-packages/urllib3/__init__.py:35: NotOpenSSLWarning: urllib3 v2 only supports OpenSSL 1.1.1+, currently the 'ssl' module is compiled with 'LibreSSL 2.8.3'. See: https://github.com/urllib3/urllib3/issues/3020\n",
      "  warnings.warn(\n"
     ]
    }
   ],
   "source": [
    "import requests\n",
    "import pandas as pd\n",
    "import time\n",
    "import math"
   ]
  },
  {
   "cell_type": "markdown",
   "id": "8d3fd58c",
   "metadata": {},
   "source": [
    "## 1. API 전체 목록 불러오기"
   ]
  },
  {
   "cell_type": "code",
   "execution_count": 4,
   "id": "b11697aa",
   "metadata": {},
   "outputs": [],
   "source": [
    "# 여기에 발급받은 API 키를 입력하세요.\n",
    "API_KEY = \"0fedb3690ed2dbeb688fb9f77f9b7fdc\"\n",
    "\n",
    "# 영화 목록 API의 기본 URL\n",
    "BASE_URL = \"http://www.kobis.or.kr/kobisopenapi/webservice/rest/movie/searchMovieList.json\""
   ]
  },
  {
   "cell_type": "code",
   "execution_count": 7,
   "id": "9b292416",
   "metadata": {},
   "outputs": [
    {
     "name": "stdout",
     "output_type": "stream",
     "text": [
      "영화 목록 데이터 추출을 시작합니다...\n",
      "페이지 204 처리 완료 | 수집된 영화 수: 100개\n",
      "더 이상 가져올 데이터가 없어 추출을 종료합니다.\n",
      "\n",
      "총 100개의 영화 데이터를 성공적으로 수집했습니다.\n"
     ]
    }
   ],
   "source": [
    "# 전체 영화 데이터를 저장할 리스트 초기화\n",
    "all_movies_list = []\n",
    "\n",
    "# 페이지 처리를 위한 변수 초기화\n",
    "cur_page = 204\n",
    "item_per_page = 100 # 한 페이지에 표시할 항목 수 (최대값으로 설정 권장)\n",
    "\n",
    "print(\"영화 목록 데이터 추출을 시작합니다...\")\n",
    "\n",
    "while True:\n",
    "    # API 요청에 필요한 파라미터 설정\n",
    "    params = {\n",
    "        'key': API_KEY,\n",
    "        'curPage': str(cur_page),\n",
    "        'itemPerPage': str(item_per_page),\n",
    "    }\n",
    "\n",
    "    try:\n",
    "        # API 요청 보내기\n",
    "        response = requests.get(BASE_URL, params=params)\n",
    "        response.raise_for_status() # 오류가 발생하면 예외를 발생시킴\n",
    "\n",
    "        # JSON 응답 파싱\n",
    "        data = response.json()\n",
    "        movie_list = data.get('movieListResult', {}).get('movieList', [])\n",
    "\n",
    "        # 더 이상 가져올 영화 목록이 없으면 반복 종료\n",
    "        if not movie_list:\n",
    "            print(\"더 이상 가져올 데이터가 없어 추출을 종료합니다.\")\n",
    "            break\n",
    "\n",
    "        # 현재 페이지의 영화 목록을 전체 리스트에 추가\n",
    "        all_movies_list.extend(movie_list)\n",
    "\n",
    "        print(f\"페이지 {cur_page} 처리 완료 | 수집된 영화 수: {len(all_movies_list)}개\")\n",
    "\n",
    "        # 다음 페이지로 이동\n",
    "        cur_page += 1\n",
    "\n",
    "        # 서버 부하를 줄이기 위한 짧은 대기 시간\n",
    "        time.sleep(0.5)\n",
    "\n",
    "    except requests.exceptions.RequestException as e:\n",
    "        print(f\"API 요청 중 오류 발생: {e}\")\n",
    "        break\n",
    "    except Exception as e:\n",
    "        print(f\"알 수 없는 오류 발생: {e}\")\n",
    "        break\n",
    "\n",
    "print(f\"\\n총 {len(all_movies_list)}개의 영화 데이터를 성공적으로 수집했습니다.\")"
   ]
  },
  {
   "cell_type": "code",
   "execution_count": null,
   "id": "e7ceb628",
   "metadata": {},
   "outputs": [],
   "source": [
    "movie_data=pd.DataFrame(all_movies_list)"
   ]
  },
  {
   "cell_type": "markdown",
   "id": "5ffda488",
   "metadata": {},
   "source": [
    "| 응답 필드 | 값 | 설명 |\n",
    "|---|---|---|\n",
    "| movieCd | 문자열 | 영화코드를 출력합니다. |\n",
    "| movieNm | 문자열 | 영화명(국문)을 출력합니다. |\n",
    "| movieNmEn | 문자열 | 영화명(영문)을 출력합니다. |\n",
    "| prdtYear | 문자열 | 제작연도를 출력합니다. |\n",
    "| openDt | 문자열 | 개봉일을 출력합니다. |\n",
    "| typeNm | 문자열 | 영화유형을 출력합니다. |\n",
    "| prdtStatNm | 문자열 | 제작상태를 출력합니다. |\n",
    "| nationAlt | 문자열 | 제작국가(전체)를 출력합니다. |\n",
    "| genreAlt | 문자열 | 영화장르(전체)를 출력합니다. |\n",
    "| repNationNm | 문자열 | 대표 제작국가명을 출력합니다. |\n",
    "| repGenreNm | 문자열 | 대표 장르명을 출력합니다. |\n",
    "| directors | 문자열 | 영화감독을 나타냅니다. |\n",
    "| peopleNm | 문자열 | 영화감독명을 출력합니다. |\n",
    "| companys | 문자열 | 제작사를 나타냅니다. |\n",
    "| companyCd | 문자열 | 제작사 코드를 출력합니다. |\n",
    "| companyNm | 문자열 | 제작사명을 출력합니다. |"
   ]
  },
  {
   "cell_type": "code",
   "execution_count": null,
   "id": "cce4088f",
   "metadata": {},
   "outputs": [
    {
     "data": {
      "text/html": [
       "<div>\n",
       "<style scoped>\n",
       "    .dataframe tbody tr th:only-of-type {\n",
       "        vertical-align: middle;\n",
       "    }\n",
       "\n",
       "    .dataframe tbody tr th {\n",
       "        vertical-align: top;\n",
       "    }\n",
       "\n",
       "    .dataframe thead th {\n",
       "        text-align: right;\n",
       "    }\n",
       "</style>\n",
       "<table border=\"1\" class=\"dataframe\">\n",
       "  <thead>\n",
       "    <tr style=\"text-align: right;\">\n",
       "      <th></th>\n",
       "      <th>movieCd</th>\n",
       "      <th>movieNm</th>\n",
       "      <th>movieNmEn</th>\n",
       "      <th>prdtYear</th>\n",
       "      <th>openDt</th>\n",
       "      <th>typeNm</th>\n",
       "      <th>prdtStatNm</th>\n",
       "      <th>nationAlt</th>\n",
       "      <th>genreAlt</th>\n",
       "      <th>repNationNm</th>\n",
       "      <th>repGenreNm</th>\n",
       "      <th>directors</th>\n",
       "      <th>companys</th>\n",
       "    </tr>\n",
       "  </thead>\n",
       "  <tbody>\n",
       "    <tr>\n",
       "      <th>0</th>\n",
       "      <td>20172126</td>\n",
       "      <td>(100ft)</td>\n",
       "      <td>(100ft)</td>\n",
       "      <td>2016</td>\n",
       "      <td></td>\n",
       "      <td>단편</td>\n",
       "      <td>기타</td>\n",
       "      <td>한국,미국</td>\n",
       "      <td>기타</td>\n",
       "      <td>한국</td>\n",
       "      <td>기타</td>\n",
       "      <td>[{'peopleNm': '김민정'}]</td>\n",
       "      <td>[]</td>\n",
       "    </tr>\n",
       "    <tr>\n",
       "      <th>1</th>\n",
       "      <td>20256927</td>\n",
       "      <td>포풍추영</td>\n",
       "      <td>The Shadow’s Edge</td>\n",
       "      <td>2025</td>\n",
       "      <td>20250920</td>\n",
       "      <td>장편</td>\n",
       "      <td>개봉예정</td>\n",
       "      <td>홍콩,중국</td>\n",
       "      <td>액션,범죄</td>\n",
       "      <td>홍콩</td>\n",
       "      <td>액션</td>\n",
       "      <td>[{'peopleNm': '래리 양'}]</td>\n",
       "      <td>[]</td>\n",
       "    </tr>\n",
       "    <tr>\n",
       "      <th>2</th>\n",
       "      <td>20192905</td>\n",
       "      <td>근본주의자</td>\n",
       "      <td>A Fundamentalist</td>\n",
       "      <td>2019</td>\n",
       "      <td></td>\n",
       "      <td>장편</td>\n",
       "      <td>기타</td>\n",
       "      <td>한국</td>\n",
       "      <td>코미디,드라마,가족,액션</td>\n",
       "      <td>한국</td>\n",
       "      <td>코미디</td>\n",
       "      <td>[{'peopleNm': '고봉수'}]</td>\n",
       "      <td>[{'companyCd': '20189602', 'companyNm': '고브로 필...</td>\n",
       "    </tr>\n",
       "    <tr>\n",
       "      <th>3</th>\n",
       "      <td>20256401</td>\n",
       "      <td>우리 우린</td>\n",
       "      <td></td>\n",
       "      <td></td>\n",
       "      <td></td>\n",
       "      <td>기타</td>\n",
       "      <td>개봉예정</td>\n",
       "      <td>한국</td>\n",
       "      <td>드라마</td>\n",
       "      <td>한국</td>\n",
       "      <td>드라마</td>\n",
       "      <td>[]</td>\n",
       "      <td>[]</td>\n",
       "    </tr>\n",
       "    <tr>\n",
       "      <th>4</th>\n",
       "      <td>2025A015</td>\n",
       "      <td>혈전</td>\n",
       "      <td>To Live through Death</td>\n",
       "      <td>2024</td>\n",
       "      <td></td>\n",
       "      <td>장편</td>\n",
       "      <td>기타</td>\n",
       "      <td>중국</td>\n",
       "      <td>액션</td>\n",
       "      <td>중국</td>\n",
       "      <td>액션</td>\n",
       "      <td>[]</td>\n",
       "      <td>[]</td>\n",
       "    </tr>\n",
       "  </tbody>\n",
       "</table>\n",
       "</div>"
      ],
      "text/plain": [
       "    movieCd  movieNm              movieNmEn prdtYear    openDt typeNm  \\\n",
       "0  20172126  (100ft)                (100ft)     2016               단편   \n",
       "1  20256927     포풍추영      The Shadow’s Edge     2025  20250920     장편   \n",
       "2  20192905    근본주의자       A Fundamentalist     2019               장편   \n",
       "3  20256401    우리 우린                                               기타   \n",
       "4  2025A015       혈전  To Live through Death     2024               장편   \n",
       "\n",
       "  prdtStatNm nationAlt       genreAlt repNationNm repGenreNm  \\\n",
       "0         기타     한국,미국             기타          한국         기타   \n",
       "1       개봉예정     홍콩,중국          액션,범죄          홍콩         액션   \n",
       "2         기타        한국  코미디,드라마,가족,액션          한국        코미디   \n",
       "3       개봉예정        한국            드라마          한국        드라마   \n",
       "4         기타        중국             액션          중국         액션   \n",
       "\n",
       "                directors                                           companys  \n",
       "0   [{'peopleNm': '김민정'}]                                                 []  \n",
       "1  [{'peopleNm': '래리 양'}]                                                 []  \n",
       "2   [{'peopleNm': '고봉수'}]  [{'companyCd': '20189602', 'companyNm': '고브로 필...  \n",
       "3                      []                                                 []  \n",
       "4                      []                                                 []  "
      ]
     },
     "execution_count": 31,
     "metadata": {},
     "output_type": "execute_result"
    }
   ],
   "source": [
    "movie_data.head()"
   ]
  },
  {
   "cell_type": "markdown",
   "id": "e52ada3b",
   "metadata": {},
   "source": [
    "## 2. 전체 데이터 저장 (전처리X)"
   ]
  },
  {
   "cell_type": "code",
   "execution_count": null,
   "id": "6ffc67b8",
   "metadata": {},
   "outputs": [],
   "source": [
    "movie_data.to_csv(\"movie_full_list.csv\", index=False, encoding='utf-8-sig')"
   ]
  }
 ],
 "metadata": {
  "kernelspec": {
   "display_name": "Python 3",
   "language": "python",
   "name": "python3"
  },
  "language_info": {
   "codemirror_mode": {
    "name": "ipython",
    "version": 3
   },
   "file_extension": ".py",
   "mimetype": "text/x-python",
   "name": "python",
   "nbconvert_exporter": "python",
   "pygments_lexer": "ipython3",
   "version": "3.9.6"
  }
 },
 "nbformat": 4,
 "nbformat_minor": 5
}
