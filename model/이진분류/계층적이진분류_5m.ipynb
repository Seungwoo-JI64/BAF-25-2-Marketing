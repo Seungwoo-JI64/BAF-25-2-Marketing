{
 "cells": [
  {
   "cell_type": "code",
   "execution_count": null,
   "metadata": {
    "colab": {
     "base_uri": "https://localhost:8080/"
    },
    "collapsed": true,
    "executionInfo": {
     "elapsed": 12688,
     "status": "ok",
     "timestamp": 1759840322364,
     "user": {
      "displayName": "지승우",
      "userId": "07635995797071226226"
     },
     "user_tz": -540
    },
    "id": "iBtNDnc6fCDR",
    "outputId": "e194c194-725d-4239-e862-f6365b4a5c61"
   },
   "outputs": [
    {
     "name": "stdout",
     "output_type": "stream",
     "text": [
      "Requirement already satisfied: catboost in /usr/local/lib/python3.12/dist-packages (1.2.8)\n",
      "Requirement already satisfied: graphviz in /usr/local/lib/python3.12/dist-packages (from catboost) (0.21)\n",
      "Requirement already satisfied: matplotlib in /usr/local/lib/python3.12/dist-packages (from catboost) (3.10.0)\n",
      "Requirement already satisfied: numpy<3.0,>=1.16.0 in /usr/local/lib/python3.12/dist-packages (from catboost) (2.0.2)\n",
      "Requirement already satisfied: pandas>=0.24 in /usr/local/lib/python3.12/dist-packages (from catboost) (2.2.2)\n",
      "Requirement already satisfied: scipy in /usr/local/lib/python3.12/dist-packages (from catboost) (1.16.2)\n",
      "Requirement already satisfied: plotly in /usr/local/lib/python3.12/dist-packages (from catboost) (5.24.1)\n",
      "Requirement already satisfied: six in /usr/local/lib/python3.12/dist-packages (from catboost) (1.17.0)\n",
      "Requirement already satisfied: python-dateutil>=2.8.2 in /usr/local/lib/python3.12/dist-packages (from pandas>=0.24->catboost) (2.9.0.post0)\n",
      "Requirement already satisfied: pytz>=2020.1 in /usr/local/lib/python3.12/dist-packages (from pandas>=0.24->catboost) (2025.2)\n",
      "Requirement already satisfied: tzdata>=2022.7 in /usr/local/lib/python3.12/dist-packages (from pandas>=0.24->catboost) (2025.2)\n",
      "Requirement already satisfied: contourpy>=1.0.1 in /usr/local/lib/python3.12/dist-packages (from matplotlib->catboost) (1.3.3)\n",
      "Requirement already satisfied: cycler>=0.10 in /usr/local/lib/python3.12/dist-packages (from matplotlib->catboost) (0.12.1)\n",
      "Requirement already satisfied: fonttools>=4.22.0 in /usr/local/lib/python3.12/dist-packages (from matplotlib->catboost) (4.60.1)\n",
      "Requirement already satisfied: kiwisolver>=1.3.1 in /usr/local/lib/python3.12/dist-packages (from matplotlib->catboost) (1.4.9)\n",
      "Requirement already satisfied: packaging>=20.0 in /usr/local/lib/python3.12/dist-packages (from matplotlib->catboost) (25.0)\n",
      "Requirement already satisfied: pillow>=8 in /usr/local/lib/python3.12/dist-packages (from matplotlib->catboost) (11.3.0)\n",
      "Requirement already satisfied: pyparsing>=2.3.1 in /usr/local/lib/python3.12/dist-packages (from matplotlib->catboost) (3.2.5)\n",
      "Requirement already satisfied: tenacity>=6.2.0 in /usr/local/lib/python3.12/dist-packages (from plotly->catboost) (8.5.0)\n",
      "Requirement already satisfied: shap in /usr/local/lib/python3.12/dist-packages (0.48.0)\n",
      "Requirement already satisfied: numpy in /usr/local/lib/python3.12/dist-packages (from shap) (2.0.2)\n",
      "Requirement already satisfied: scipy in /usr/local/lib/python3.12/dist-packages (from shap) (1.16.2)\n",
      "Requirement already satisfied: scikit-learn in /usr/local/lib/python3.12/dist-packages (from shap) (1.6.1)\n",
      "Requirement already satisfied: pandas in /usr/local/lib/python3.12/dist-packages (from shap) (2.2.2)\n",
      "Requirement already satisfied: tqdm>=4.27.0 in /usr/local/lib/python3.12/dist-packages (from shap) (4.67.1)\n",
      "Requirement already satisfied: packaging>20.9 in /usr/local/lib/python3.12/dist-packages (from shap) (25.0)\n",
      "Requirement already satisfied: slicer==0.0.8 in /usr/local/lib/python3.12/dist-packages (from shap) (0.0.8)\n",
      "Requirement already satisfied: numba>=0.54 in /usr/local/lib/python3.12/dist-packages (from shap) (0.60.0)\n",
      "Requirement already satisfied: cloudpickle in /usr/local/lib/python3.12/dist-packages (from shap) (3.1.1)\n",
      "Requirement already satisfied: typing-extensions in /usr/local/lib/python3.12/dist-packages (from shap) (4.15.0)\n",
      "Requirement already satisfied: llvmlite<0.44,>=0.43.0dev0 in /usr/local/lib/python3.12/dist-packages (from numba>=0.54->shap) (0.43.0)\n",
      "Requirement already satisfied: python-dateutil>=2.8.2 in /usr/local/lib/python3.12/dist-packages (from pandas->shap) (2.9.0.post0)\n",
      "Requirement already satisfied: pytz>=2020.1 in /usr/local/lib/python3.12/dist-packages (from pandas->shap) (2025.2)\n",
      "Requirement already satisfied: tzdata>=2022.7 in /usr/local/lib/python3.12/dist-packages (from pandas->shap) (2025.2)\n",
      "Requirement already satisfied: joblib>=1.2.0 in /usr/local/lib/python3.12/dist-packages (from scikit-learn->shap) (1.5.2)\n",
      "Requirement already satisfied: threadpoolctl>=3.1.0 in /usr/local/lib/python3.12/dist-packages (from scikit-learn->shap) (3.6.0)\n",
      "Requirement already satisfied: six>=1.5 in /usr/local/lib/python3.12/dist-packages (from python-dateutil>=2.8.2->pandas->shap) (1.17.0)\n",
      "Requirement already satisfied: optuna in /usr/local/lib/python3.12/dist-packages (4.5.0)\n",
      "Requirement already satisfied: alembic>=1.5.0 in /usr/local/lib/python3.12/dist-packages (from optuna) (1.16.5)\n",
      "Requirement already satisfied: colorlog in /usr/local/lib/python3.12/dist-packages (from optuna) (6.9.0)\n",
      "Requirement already satisfied: numpy in /usr/local/lib/python3.12/dist-packages (from optuna) (2.0.2)\n",
      "Requirement already satisfied: packaging>=20.0 in /usr/local/lib/python3.12/dist-packages (from optuna) (25.0)\n",
      "Requirement already satisfied: sqlalchemy>=1.4.2 in /usr/local/lib/python3.12/dist-packages (from optuna) (2.0.43)\n",
      "Requirement already satisfied: tqdm in /usr/local/lib/python3.12/dist-packages (from optuna) (4.67.1)\n",
      "Requirement already satisfied: PyYAML in /usr/local/lib/python3.12/dist-packages (from optuna) (6.0.3)\n",
      "Requirement already satisfied: Mako in /usr/local/lib/python3.12/dist-packages (from alembic>=1.5.0->optuna) (1.3.10)\n",
      "Requirement already satisfied: typing-extensions>=4.12 in /usr/local/lib/python3.12/dist-packages (from alembic>=1.5.0->optuna) (4.15.0)\n",
      "Requirement already satisfied: greenlet>=1 in /usr/local/lib/python3.12/dist-packages (from sqlalchemy>=1.4.2->optuna) (3.2.4)\n",
      "Requirement already satisfied: MarkupSafe>=0.9.2 in /usr/local/lib/python3.12/dist-packages (from Mako->alembic>=1.5.0->optuna) (3.0.3)\n"
     ]
    }
   ],
   "source": [
    "!pip install catboost\n",
    "!pip install shap\n",
    "!pip install optuna"
   ]
  },
  {
   "cell_type": "markdown",
   "metadata": {
    "id": "kVtYJ4-jfpfg"
   },
   "source": [
    "# 라이브러리"
   ]
  },
  {
   "cell_type": "code",
   "execution_count": null,
   "metadata": {
    "id": "qWjm7cOsfrOm"
   },
   "outputs": [],
   "source": [
    "import pandas as pd\n",
    "import numpy as np\n",
    "from scipy.stats import uniform, randint\n",
    "from sklearn.model_selection import train_test_split, cross_val_score, RandomizedSearchCV\n",
    "from sklearn.metrics import confusion_matrix, f1_score, accuracy_score\n",
    "import seaborn as sns\n",
    "import matplotlib.pyplot as plt\n",
    "import lightgbm as lgb\n",
    "from catboost import CatBoostClassifier\n",
    "import shap\n",
    "import optuna\n",
    "import warnings"
   ]
  },
  {
   "cell_type": "markdown",
   "metadata": {
    "id": "FOUqzEA9fvtf"
   },
   "source": [
    "# 데이터"
   ]
  },
  {
   "cell_type": "markdown",
   "metadata": {
    "id": "BN8xMiZqfxIV"
   },
   "source": [
    "## target 데이터 생성"
   ]
  },
  {
   "cell_type": "code",
   "execution_count": null,
   "metadata": {
    "id": "SMfwkpEygGKA"
   },
   "outputs": [],
   "source": [
    "data_5m = pd.read_csv(\"/content/drive/MyDrive/비어플/25-2/model/model_upper_5M_data.csv\")\n",
    "data_test = pd.read_csv(\"/content/drive/MyDrive/비어플/25-2/model/model_test_data.csv\")\n",
    "data_train = pd.read_csv(\"/content/drive/MyDrive/비어플/25-2/model/model_train_data.csv\")"
   ]
  },
  {
   "cell_type": "markdown",
   "metadata": {
    "id": "vMYKqWI8gH3S"
   },
   "source": [
    "5m이상을 target = 1로 정의"
   ]
  },
  {
   "cell_type": "code",
   "execution_count": null,
   "metadata": {
    "id": "1HQmSZchgMNI"
   },
   "outputs": [],
   "source": [
    "data_5m[\"target\"] = 1\n",
    "data_test[\"target\"] = 0\n",
    "data_train[\"target\"] = 0\n",
    "data_full = pd.concat([data_5m, data_test, data_train], axis=0).reset_index(drop=True)"
   ]
  },
  {
   "cell_type": "markdown",
   "metadata": {
    "id": "WB8N9ufWgQ5S"
   },
   "source": [
    "## 범주형 변수 지정"
   ]
  },
  {
   "cell_type": "code",
   "execution_count": null,
   "metadata": {
    "id": "y8SiYwqKgSr_"
   },
   "outputs": [],
   "source": [
    "cat_features = ['Grade', 'Main_Country', 'Pandemic']"
   ]
  },
  {
   "cell_type": "markdown",
   "metadata": {
    "id": "E5FrGv8ogTxR"
   },
   "source": [
    "## 데이터 분할"
   ]
  },
  {
   "cell_type": "markdown",
   "metadata": {
    "id": "sks6wZFpgX3U"
   },
   "source": [
    "총 관람객 수, 총 상영일수 횟수, 총 상영 주차는 종속변수이므로 제거한다"
   ]
  },
  {
   "cell_type": "code",
   "execution_count": null,
   "metadata": {
    "id": "U2D0Zb9kgU4X"
   },
   "outputs": [],
   "source": [
    "movie_titles = data_full['Movie_Title']"
   ]
  },
  {
   "cell_type": "code",
   "execution_count": null,
   "metadata": {
    "id": "i-bviMEUgYzm"
   },
   "outputs": [],
   "source": [
    "X = data_full.drop(['Movie_Title', 'Total_Audience_Count', 'target', \"Total_Show_Days\", \"Total_Weeks\"], axis=1)\n",
    "y = data_full['target']\n",
    "# target(y)를 기준으로 계층 분리\n",
    "X_train, X_test, y_train, y_test = train_test_split(X, y, test_size=0.2, random_state=42, stratify=y)"
   ]
  },
  {
   "cell_type": "markdown",
   "metadata": {
    "id": "DsVahhiefamj"
   },
   "source": [
    "# 1. CatBoost 사용"
   ]
  },
  {
   "cell_type": "markdown",
   "metadata": {
    "id": "sW8OhFtZgdct"
   },
   "source": [
    "## 1) 초기 구동"
   ]
  },
  {
   "cell_type": "code",
   "execution_count": null,
   "metadata": {
    "colab": {
     "base_uri": "https://localhost:8080/"
    },
    "executionInfo": {
     "elapsed": 18696,
     "status": "ok",
     "timestamp": 1759840341329,
     "user": {
      "displayName": "지승우",
      "userId": "07635995797071226226"
     },
     "user_tz": -540
    },
    "id": "aVlP8XF0ggAa",
    "outputId": "fab05b83-fdf5-4b75-a1ec-6ca5cbe99144"
   },
   "outputs": [
    {
     "name": "stdout",
     "output_type": "stream",
     "text": [
      "Learning rate set to 0.060206\n",
      "0:\tlearn: 0.5360898\ttotal: 35.9ms\tremaining: 17.9s\n",
      "100:\tlearn: 0.0022413\ttotal: 3.39s\tremaining: 13.4s\n",
      "200:\tlearn: 0.0007821\ttotal: 6.83s\tremaining: 10.2s\n",
      "300:\tlearn: 0.0004636\ttotal: 10.3s\tremaining: 6.83s\n",
      "400:\tlearn: 0.0003351\ttotal: 13.7s\tremaining: 3.38s\n",
      "499:\tlearn: 0.0002632\ttotal: 17.1s\tremaining: 0us\n"
     ]
    }
   ],
   "source": [
    "model = CatBoostClassifier(\n",
    "    iterations=500,\n",
    "    verbose=100,  # 100번마다 학습 로그 출력\n",
    "    task_type='GPU',  # GPU 사용 설정\n",
    "    devices='0',       # 첫 번째 GPU 사용\n",
    "    cat_features=cat_features # 범주형 변수 지정\n",
    ")\n",
    "model.fit(X_train, y_train)\n",
    "predictions = model.predict(X_test)\n",
    "prediction_probs = model.predict_proba(X_test)[:, 1] # 1이 될 확률\n",
    "results_df = pd.DataFrame({\n",
    "    'Actual': y_test,\n",
    "    'Predicted': predictions,\n",
    "    'Probability_of_Success': prediction_probs\n",
    "})\n",
    "test_titles = movie_titles.loc[X_test.index]\n",
    "results_df['Movie_Title'] = test_titles.values"
   ]
  },
  {
   "cell_type": "code",
   "execution_count": null,
   "metadata": {
    "colab": {
     "base_uri": "https://localhost:8080/"
    },
    "executionInfo": {
     "elapsed": 9,
     "status": "ok",
     "timestamp": 1759840341337,
     "user": {
      "displayName": "지승우",
      "userId": "07635995797071226226"
     },
     "user_tz": -540
    },
    "id": "_OGmLz3egzWn",
    "outputId": "1dc6f062-414f-4012-8efb-8084651201d9"
   },
   "outputs": [
    {
     "name": "stdout",
     "output_type": "stream",
     "text": [
      "     Actual  Predicted  Probability_of_Success      Movie_Title\n",
      "476       0          0                0.000019  잠깐만 회사 좀 관두고 올게\n",
      "786       0          0                0.000166             건국전쟁\n",
      "491       0          0                0.000030             해바라기\n",
      "195       0          0                0.000080         여배우는 오늘도\n",
      "846       0          0                0.000012              바이스\n"
     ]
    }
   ],
   "source": [
    "print(results_df.head())"
   ]
  },
  {
   "cell_type": "code",
   "execution_count": null,
   "metadata": {
    "colab": {
     "base_uri": "https://localhost:8080/",
     "height": 410
    },
    "executionInfo": {
     "elapsed": 35,
     "status": "ok",
     "timestamp": 1759840341373,
     "user": {
      "displayName": "지승우",
      "userId": "07635995797071226226"
     },
     "user_tz": -540
    },
    "id": "yox9aIsrg-Qm",
    "outputId": "bc205143-412d-4479-d57b-12fac87e1a88"
   },
   "outputs": [
    {
     "data": {
      "image/png": "[encoded data removed]",
      "text/plain": [
       "<Figure size 600x400 with 2 Axes>"
      ]
     },
     "metadata": {},
     "output_type": "display_data"
    }
   ],
   "source": [
    "cm = confusion_matrix(results_df['Actual'], results_df['Predicted'])\n",
    "\n",
    "plt.figure(figsize=(6, 4))\n",
    "sns.heatmap(cm, annot=True, fmt='d', cmap='Blues', xticklabels=['Predicted 0', 'Predicted 1'], yticklabels=['Actual 0', 'Actual 1'])\n",
    "plt.xlabel('Predicted')\n",
    "plt.ylabel('Actual')\n",
    "plt.title('Confusion Matrix')\n",
    "plt.show()"
   ]
  },
  {
   "cell_type": "code",
   "execution_count": null,
   "metadata": {
    "colab": {
     "base_uri": "https://localhost:8080/",
     "height": 206
    },
    "executionInfo": {
     "elapsed": 1438,
     "status": "ok",
     "timestamp": 1759840342813,
     "user": {
      "displayName": "지승우",
      "userId": "07635995797071226226"
     },
     "user_tz": -540
    },
    "id": "KeGGjSIUhFBS",
    "outputId": "20ed4a9b-d402-4ed7-c037-d02231b747e2"
   },
   "outputs": [
    {
     "data": {
      "application/vnd.google.colaboratory.intrinsic+json": {
       "summary": "{\n  \"name\": \"pd\",\n  \"rows\": 5,\n  \"fields\": [\n    {\n      \"column\": \"Movie_Title\",\n      \"properties\": {\n        \"dtype\": \"string\",\n        \"num_unique_values\": 5,\n        \"samples\": [\n          \"\\ub2e5\\ud130 \\uc2a4\\ud2b8\\ub808\\uc778\\uc9c0\",\n          \"\\ubc15\\uc218\\uac74\\ub2ec\",\n          \"\\ube14\\ub799 \\ud32c\\uc11c\"\n        ],\n        \"semantic_type\": \"\",\n        \"description\": \"\"\n      }\n    },\n    {\n      \"column\": \"Total_Audience_Count\",\n      \"properties\": {\n        \"dtype\": \"number\",\n        \"std\": 1534227,\n        \"min\": 3887729,\n        \"max\": 8125843,\n        \"num_unique_values\": 5,\n        \"samples\": [\n          5327833,\n          3887729,\n          5395971\n        ],\n        \"semantic_type\": \"\",\n        \"description\": \"\"\n      }\n    },\n    {\n      \"column\": \"Actual\",\n      \"properties\": {\n        \"dtype\": \"number\",\n        \"std\": 0,\n        \"min\": 0,\n        \"max\": 1,\n        \"num_unique_values\": 2,\n        \"samples\": [\n          0,\n          1\n        ],\n        \"semantic_type\": \"\",\n        \"description\": \"\"\n      }\n    },\n    {\n      \"column\": \"Predicted\",\n      \"properties\": {\n        \"dtype\": \"number\",\n        \"std\": 0,\n        \"min\": 0,\n        \"max\": 1,\n        \"num_unique_values\": 2,\n        \"samples\": [\n          1,\n          0\n        ],\n        \"semantic_type\": \"\",\n        \"description\": \"\"\n      }\n    },\n    {\n      \"column\": \"Probability_of_Success\",\n      \"properties\": {\n        \"dtype\": \"number\",\n        \"std\": 0.33988502028593043,\n        \"min\": 0.011985713447679607,\n        \"max\": 0.8432350072567945,\n        \"num_unique_values\": 5,\n        \"samples\": [\n          0.25321897000093774,\n          0.8432350072567945\n        ],\n        \"semantic_type\": \"\",\n        \"description\": \"\"\n      }\n    }\n  ]\n}",
       "type": "dataframe"
      },
      "text/html": [
       "\n",
       "  <div id=\"df-660d6223-419d-4894-bf25-beeb2355c617\" class=\"colab-df-container\">\n",
       "    <div>\n",
       "<style scoped>\n",
       "    .dataframe tbody tr th:only-of-type {\n",
       "        vertical-align: middle;\n",
       "    }\n",
       "\n",
       "    .dataframe tbody tr th {\n",
       "        vertical-align: top;\n",
       "    }\n",
       "\n",
       "    .dataframe thead th {\n",
       "        text-align: right;\n",
       "    }\n",
       "</style>\n",
       "<table border=\"1\" class=\"dataframe\">\n",
       "  <thead>\n",
       "    <tr style=\"text-align: right;\">\n",
       "      <th></th>\n",
       "      <th>Movie_Title</th>\n",
       "      <th>Total_Audience_Count</th>\n",
       "      <th>Actual</th>\n",
       "      <th>Predicted</th>\n",
       "      <th>Probability_of_Success</th>\n",
       "    </tr>\n",
       "  </thead>\n",
       "  <tbody>\n",
       "    <tr>\n",
       "      <th>0</th>\n",
       "      <td>과속스캔들</td>\n",
       "      <td>8125843</td>\n",
       "      <td>1</td>\n",
       "      <td>0</td>\n",
       "      <td>0.011986</td>\n",
       "    </tr>\n",
       "    <tr>\n",
       "      <th>1</th>\n",
       "      <td>닥터 스트레인지</td>\n",
       "      <td>5327833</td>\n",
       "      <td>1</td>\n",
       "      <td>0</td>\n",
       "      <td>0.253219</td>\n",
       "    </tr>\n",
       "    <tr>\n",
       "      <th>2</th>\n",
       "      <td>블랙 팬서</td>\n",
       "      <td>5395971</td>\n",
       "      <td>1</td>\n",
       "      <td>0</td>\n",
       "      <td>0.034519</td>\n",
       "    </tr>\n",
       "    <tr>\n",
       "      <th>3</th>\n",
       "      <td>인셉션</td>\n",
       "      <td>5827610</td>\n",
       "      <td>1</td>\n",
       "      <td>0</td>\n",
       "      <td>0.162372</td>\n",
       "    </tr>\n",
       "    <tr>\n",
       "      <th>4</th>\n",
       "      <td>박수건달</td>\n",
       "      <td>3887729</td>\n",
       "      <td>0</td>\n",
       "      <td>1</td>\n",
       "      <td>0.843235</td>\n",
       "    </tr>\n",
       "  </tbody>\n",
       "</table>\n",
       "</div>\n",
       "    <div class=\"colab-df-buttons\">\n",
       "\n",
       "  <div class=\"colab-df-container\">\n",
       "    <button class=\"colab-df-convert\" onclick=\"convertToInteractive('df-660d6223-419d-4894-bf25-beeb2355c617')\"\n",
       "            title=\"Convert this dataframe to an interactive table.\"\n",
       "            style=\"display:none;\">\n",
       "\n",
       "  <svg xmlns=\"http://www.w3.org/2000/svg\" height=\"24px\" viewBox=\"0 -960 960 960\">\n",
       "    <path d=\"M120-120v-720h720v720H120Zm60-500h600v-160H180v160Zm220 220h160v-160H400v160Zm0 220h160v-160H400v160ZM180-400h160v-160H180v160Zm440 0h160v-160H620v160ZM180-180h160v-160H180v160Zm440 0h160v-160H620v160Z\"/>\n",
       "  </svg>\n",
       "    </button>\n",
       "\n",
       "  <style>\n",
       "    .colab-df-container {\n",
       "      display:flex;\n",
       "      gap: 12px;\n",
       "    }\n",
       "\n",
       "    .colab-df-convert {\n",
       "      background-color: #E8F0FE;\n",
       "      border: none;\n",
       "      border-radius: 50%;\n",
       "      cursor: pointer;\n",
       "      display: none;\n",
       "      fill: #1967D2;\n",
       "      height: 32px;\n",
       "      padding: 0 0 0 0;\n",
       "      width: 32px;\n",
       "    }\n",
       "\n",
       "    .colab-df-convert:hover {\n",
       "      background-color: #E2EBFA;\n",
       "      box-shadow: 0px 1px 2px rgba(60, 64, 67, 0.3), 0px 1px 3px 1px rgba(60, 64, 67, 0.15);\n",
       "      fill: #174EA6;\n",
       "    }\n",
       "\n",
       "    .colab-df-buttons div {\n",
       "      margin-bottom: 4px;\n",
       "    }\n",
       "\n",
       "    [theme=dark] .colab-df-convert {\n",
       "      background-color: #3B4455;\n",
       "      fill: #D2E3FC;\n",
       "    }\n",
       "\n",
       "    [theme=dark] .colab-df-convert:hover {\n",
       "      background-color: #434B5C;\n",
       "      box-shadow: 0px 1px 3px 1px rgba(0, 0, 0, 0.15);\n",
       "      filter: drop-shadow(0px 1px 2px rgba(0, 0, 0, 0.3));\n",
       "      fill: #FFFFFF;\n",
       "    }\n",
       "  </style>\n",
       "\n",
       "    <script>\n",
       "      const buttonEl =\n",
       "        document.querySelector('#df-660d6223-419d-4894-bf25-beeb2355c617 button.colab-df-convert');\n",
       "      buttonEl.style.display =\n",
       "        google.colab.kernel.accessAllowed ? 'block' : 'none';\n",
       "\n",
       "      async function convertToInteractive(key) {\n",
       "        const element = document.querySelector('#df-660d6223-419d-4894-bf25-beeb2355c617');\n",
       "        const dataTable =\n",
       "          await google.colab.kernel.invokeFunction('convertToInteractive',\n",
       "                                                    [key], {});\n",
       "        if (!dataTable) return;\n",
       "\n",
       "        const docLinkHtml = 'Like what you see? Visit the ' +\n",
       "          '<a target=\"_blank\" href=https://colab.research.google.com/notebooks/data_table.ipynb>data table notebook</a>'\n",
       "          + ' to learn more about interactive tables.';\n",
       "        element.innerHTML = '';\n",
       "        dataTable['output_type'] = 'display_data';\n",
       "        await google.colab.output.renderOutput(dataTable, element);\n",
       "        const docLink = document.createElement('div');\n",
       "        docLink.innerHTML = docLinkHtml;\n",
       "        element.appendChild(docLink);\n",
       "      }\n",
       "    </script>\n",
       "  </div>\n",
       "\n",
       "\n",
       "    <div id=\"df-8e9364af-d786-4a44-8de6-22df736e1cd5\">\n",
       "      <button class=\"colab-df-quickchart\" onclick=\"quickchart('df-8e9364af-d786-4a44-8de6-22df736e1cd5')\"\n",
       "                title=\"Suggest charts\"\n",
       "                style=\"display:none;\">\n",
       "\n",
       "<svg xmlns=\"http://www.w3.org/2000/svg\" height=\"24px\"viewBox=\"0 0 24 24\"\n",
       "     width=\"24px\">\n",
       "    <g>\n",
       "        <path d=\"M19 3H5c-1.1 0-2 .9-2 2v14c0 1.1.9 2 2 2h14c1.1 0 2-.9 2-2V5c0-1.1-.9-2-2-2zM9 17H7v-7h2v7zm4 0h-2V7h2v10zm4 0h-2v-4h2v4z\"/>\n",
       "    </g>\n",
       "</svg>\n",
       "      </button>\n",
       "\n",
       "<style>\n",
       "  .colab-df-quickchart {\n",
       "      --bg-color: #E8F0FE;\n",
       "      --fill-color: #1967D2;\n",
       "      --hover-bg-color: #E2EBFA;\n",
       "      --hover-fill-color: #174EA6;\n",
       "      --disabled-fill-color: #AAA;\n",
       "      --disabled-bg-color: #DDD;\n",
       "  }\n",
       "\n",
       "  [theme=dark] .colab-df-quickchart {\n",
       "      --bg-color: #3B4455;\n",
       "      --fill-color: #D2E3FC;\n",
       "      --hover-bg-color: #434B5C;\n",
       "      --hover-fill-color: #FFFFFF;\n",
       "      --disabled-bg-color: #3B4455;\n",
       "      --disabled-fill-color: #666;\n",
       "  }\n",
       "\n",
       "  .colab-df-quickchart {\n",
       "    background-color: var(--bg-color);\n",
       "    border: none;\n",
       "    border-radius: 50%;\n",
       "    cursor: pointer;\n",
       "    display: none;\n",
       "    fill: var(--fill-color);\n",
       "    height: 32px;\n",
       "    padding: 0;\n",
       "    width: 32px;\n",
       "  }\n",
       "\n",
       "  .colab-df-quickchart:hover {\n",
       "    background-color: var(--hover-bg-color);\n",
       "    box-shadow: 0 1px 2px rgba(60, 64, 67, 0.3), 0 1px 3px 1px rgba(60, 64, 67, 0.15);\n",
       "    fill: var(--button-hover-fill-color);\n",
       "  }\n",
       "\n",
       "  .colab-df-quickchart-complete:disabled,\n",
       "  .colab-df-quickchart-complete:disabled:hover {\n",
       "    background-color: var(--disabled-bg-color);\n",
       "    fill: var(--disabled-fill-color);\n",
       "    box-shadow: none;\n",
       "  }\n",
       "\n",
       "  .colab-df-spinner {\n",
       "    border: 2px solid var(--fill-color);\n",
       "    border-color: transparent;\n",
       "    border-bottom-color: var(--fill-color);\n",
       "    animation:\n",
       "      spin 1s steps(1) infinite;\n",
       "  }\n",
       "\n",
       "  @keyframes spin {\n",
       "    0% {\n",
       "      border-color: transparent;\n",
       "      border-bottom-color: var(--fill-color);\n",
       "      border-left-color: var(--fill-color);\n",
       "    }\n",
       "    20% {\n",
       "      border-color: transparent;\n",
       "      border-left-color: var(--fill-color);\n",
       "      border-top-color: var(--fill-color);\n",
       "    }\n",
       "    30% {\n",
       "      border-color: transparent;\n",
       "      border-left-color: var(--fill-color);\n",
       "      border-top-color: var(--fill-color);\n",
       "      border-right-color: var(--fill-color);\n",
       "    }\n",
       "    40% {\n",
       "      border-color: transparent;\n",
       "      border-right-color: var(--fill-color);\n",
       "      border-top-color: var(--fill-color);\n",
       "    }\n",
       "    60% {\n",
       "      border-color: transparent;\n",
       "      border-right-color: var(--fill-color);\n",
       "    }\n",
       "    80% {\n",
       "      border-color: transparent;\n",
       "      border-right-color: var(--fill-color);\n",
       "      border-bottom-color: var(--fill-color);\n",
       "    }\n",
       "    90% {\n",
       "      border-color: transparent;\n",
       "      border-bottom-color: var(--fill-color);\n",
       "    }\n",
       "  }\n",
       "</style>\n",
       "\n",
       "      <script>\n",
       "        async function quickchart(key) {\n",
       "          const quickchartButtonEl =\n",
       "            document.querySelector('#' + key + ' button');\n",
       "          quickchartButtonEl.disabled = true;  // To prevent multiple clicks.\n",
       "          quickchartButtonEl.classList.add('colab-df-spinner');\n",
       "          try {\n",
       "            const charts = await google.colab.kernel.invokeFunction(\n",
       "                'suggestCharts', [key], {});\n",
       "          } catch (error) {\n",
       "            console.error('Error during call to suggestCharts:', error);\n",
       "          }\n",
       "          quickchartButtonEl.classList.remove('colab-df-spinner');\n",
       "          quickchartButtonEl.classList.add('colab-df-quickchart-complete');\n",
       "        }\n",
       "        (() => {\n",
       "          let quickchartButtonEl =\n",
       "            document.querySelector('#df-8e9364af-d786-4a44-8de6-22df736e1cd5 button');\n",
       "          quickchartButtonEl.style.display =\n",
       "            google.colab.kernel.accessAllowed ? 'block' : 'none';\n",
       "        })();\n",
       "      </script>\n",
       "    </div>\n",
       "\n",
       "    </div>\n",
       "  </div>\n"
      ],
      "text/plain": [
       "  Movie_Title  Total_Audience_Count  Actual  Predicted  Probability_of_Success\n",
       "0       과속스캔들               8125843       1          0                0.011986\n",
       "1    닥터 스트레인지               5327833       1          0                0.253219\n",
       "2       블랙 팬서               5395971       1          0                0.034519\n",
       "3         인셉션               5827610       1          0                0.162372\n",
       "4        박수건달               3887729       0          1                0.843235"
      ]
     },
     "execution_count": 94,
     "metadata": {},
     "output_type": "execute_result"
    }
   ],
   "source": [
    "misclassified_movies = results_df[results_df['Actual'] != results_df['Predicted']]\n",
    "pd.merge(data_full[data_full[\"Movie_Title\"].isin(misclassified_movies['Movie_Title'].tolist())][[\"Movie_Title\", \"Total_Audience_Count\"]], misclassified_movies)"
   ]
  },
  {
   "cell_type": "markdown",
   "metadata": {
    "id": "n0Ez79_mhSSw"
   },
   "source": [
    "## 2) 변수 중요도"
   ]
  },
  {
   "cell_type": "code",
   "execution_count": null,
   "metadata": {
    "colab": {
     "base_uri": "https://localhost:8080/",
     "height": 982
    },
    "executionInfo": {
     "elapsed": 491,
     "status": "ok",
     "timestamp": 1759840343307,
     "user": {
      "displayName": "지승우",
      "userId": "07635995797071226226"
     },
     "user_tz": -540
    },
    "id": "wtMEBzZFhaWp",
    "outputId": "3c18c39c-1370-4b36-cb2d-03ff428d75dd"
   },
   "outputs": [
    {
     "data": {
      "image/png": "[encoded data removed]",
      "text/plain": [
       "<Figure size 1000x800 with 1 Axes>"
      ]
     },
     "metadata": {},
     "output_type": "display_data"
    },
    {
     "name": "stdout",
     "output_type": "stream",
     "text": [
      "                      Feature  Importance\n",
      "8    wk2_Holiday_AudienceMean   20.958187\n",
      "2                wk2_Audience   10.059220\n",
      "5        opening_Ho_Retention    3.060157\n",
      "15               dist_big_hit    1.832897\n",
      "85                        e66    1.761513\n",
      "48                        e29    1.758990\n",
      "69                        e50    1.396170\n",
      "254                      e235    1.230729\n",
      "227                      e208    1.169893\n",
      "243                      e224    1.156084\n",
      "13                   Pandemic    1.091223\n",
      "236                      e217    1.058140\n",
      "133                      e114    1.038274\n",
      "64                        e45    1.035601\n",
      "42                        e23    1.021919\n",
      "177                      e158    0.945228\n",
      "6    wk1_Holiday_AudienceMean    0.939661\n",
      "246                      e227    0.938701\n",
      "235                      e216    0.853758\n",
      "270                      e251    0.851984\n"
     ]
    }
   ],
   "source": [
    "# 1. 변수 중요도 추출\n",
    "feature_importances = model.get_feature_importance()\n",
    "feature_names = X_train.columns\n",
    "\n",
    "# 2. 데이터프레임으로 만들기\n",
    "importance_df = pd.DataFrame({\n",
    "    'Feature': feature_names,\n",
    "    'Importance': feature_importances\n",
    "}).sort_values(by='Importance', ascending=False)\n",
    "\n",
    "# 3. 상위 20개 변수 중요도 시각화\n",
    "plt.figure(figsize=(10, 8))\n",
    "sns.barplot(x='Importance', y='Feature', data=importance_df.head(20))\n",
    "plt.title('CatBoost Feature Importance (Top 20)')\n",
    "plt.show()\n",
    "\n",
    "# 4. 중요도 출력\n",
    "print(importance_df.head(20))"
   ]
  },
  {
   "cell_type": "code",
   "execution_count": null,
   "metadata": {
    "colab": {
     "base_uri": "https://localhost:8080/",
     "height": 957
    },
    "executionInfo": {
     "elapsed": 21,
     "status": "ok",
     "timestamp": 1759840343329,
     "user": {
      "displayName": "지승우",
      "userId": "07635995797071226226"
     },
     "user_tz": -540
    },
    "id": "DCh-L6tmhd50",
    "outputId": "c207d113-3c18-43c3-fc59-f63adead8beb"
   },
   "outputs": [
    {
     "data": {
      "image/png": "[encoded data removed]",
      "text/plain": [
       "<Figure size 800x950 with 2 Axes>"
      ]
     },
     "metadata": {},
     "output_type": "display_data"
    }
   ],
   "source": [
    "explainer = shap.TreeExplainer(model)\n",
    "shap_values = explainer.shap_values(X_test)\n",
    "shap.summary_plot(shap_values, X_test)"
   ]
  },
  {
   "cell_type": "markdown",
   "metadata": {
    "id": "WcQ2znJshszh"
   },
   "source": [
    "1. `wk2_Holiday_AudienceMean`, `wk2_Audience`\n",
    "2. `opening_Ho_Retention`, `wk2_AudiencePerShow`, `dist_big_hit`, `Pandemic`\n",
    "3. `wk1_Holiday_AudienceMean`, `wk2_Holiday_ShowMean`, `wk1_Audience`"
   ]
  },
  {
   "cell_type": "markdown",
   "metadata": {
    "id": "_7lK1ZRJiT-L"
   },
   "source": [
    "총 2+4+3의 변수가 유의"
   ]
  },
  {
   "cell_type": "markdown",
   "metadata": {
    "id": "ysS4FmWtiYVv"
   },
   "source": [
    "## 3) 변수 선택 및 하이퍼파라미터 튜닝"
   ]
  },
  {
   "cell_type": "code",
   "execution_count": null,
   "metadata": {
    "id": "Rj3PDbkFivFI"
   },
   "outputs": [],
   "source": [
    "optuna.logging.set_verbosity(optuna.logging.WARNING)\n",
    "warnings.filterwarnings('ignore')"
   ]
  },
  {
   "cell_type": "code",
   "execution_count": null,
   "metadata": {
    "id": "phaKYvaOiybz"
   },
   "outputs": [],
   "source": [
    "feature_sets = {\n",
    "    \"base_2\": ['wk2_Holiday_AudienceMean', 'wk2_Audience'],\n",
    "    \"medium_6\": ['wk2_Holiday_AudienceMean', 'wk2_Audience',\n",
    "                 'opening_Ho_Retention', 'wk2_AudiencePerShow', 'dist_big_hit', 'Pandemic'],\n",
    "    \"full_9\": ['wk2_Holiday_AudienceMean', 'wk2_Audience',\n",
    "                'opening_Ho_Retention', 'wk2_AudiencePerShow', 'dist_big_hit', 'Pandemic',\n",
    "                'wk1_Holiday_AudienceMean', 'wk2_Holiday_ShowMean', 'wk1_Audience']\n",
    "}\n",
    "\n",
    "embedding_sets = {\n",
    "    \"embed_128\": [f'e{i+1}' for i in range(128)],\n",
    "    \"embed_64\": [f'e{i+1}' for i in range(64)],\n",
    "    \"embed_32\": [f'e{i+1}' for i in range(32)],\n",
    "    \"embed_none\" : []\n",
    "}\n",
    "\n",
    "tuner_methods = ['optuna', 'random_search']\n",
    "# tuner_methods = ['random_search', 'optuna']"
   ]
  },
  {
   "cell_type": "code",
   "execution_count": null,
   "metadata": {
    "colab": {
     "background_save": true,
     "base_uri": "https://localhost:8080/",
     "height": 1000
    },
    "id": "eQmJPbZujoxP"
   },
   "outputs": [
    {
     "name": "stdout",
     "output_type": "stream",
     "text": [
      "--- 실험 1/24 진행 중 ---\n",
      "Features: base_2, Embeddings: embed_128, Tuner: optuna\n"
     ]
    },
    {
     "data": {
      "application/vnd.jupyter.widget-view+json": {
       "model_id": "a7e2f36a98bc4688a054a3ffebae928f",
       "version_major": 2,
       "version_minor": 0
      },
      "text/plain": [
       "  0%|          | 0/40 [00:00<?, ?it/s]"
      ]
     },
     "metadata": {},
     "output_type": "display_data"
    },
    {
     "name": "stdout",
     "output_type": "stream",
     "text": [
      "base_2 - embed_128 - optuna 최종 모델 학습\n",
      "0:\tlearn: 0.3855337\ttotal: 20.3ms\tremaining: 20.3s\n",
      "200:\tlearn: 0.0007364\ttotal: 44.8s\tremaining: 2m 58s\n",
      "400:\tlearn: 0.0003813\ttotal: 1m 30s\tremaining: 2m 15s\n",
      "600:\tlearn: 0.0002533\ttotal: 2m 16s\tremaining: 1m 30s\n",
      "800:\tlearn: 0.0002011\ttotal: 3m 2s\tremaining: 45.2s\n",
      "999:\tlearn: 0.0001614\ttotal: 3m 47s\tremaining: 0us\n",
      "결과 - F1 Macro: 0.8817, Accuracy: 0.9887\n",
      "\n",
      "--- 실험 2/24 진행 중 ---\n",
      "Features: base_2, Embeddings: embed_128, Tuner: random_search\n",
      "Fitting 3 folds for each of 40 candidates, totalling 120 fits\n",
      "base_2 - embed_128 - random_search 최종 모델 학습\n",
      "0:\tlearn: 0.5267666\ttotal: 15.1ms\tremaining: 15.1s\n",
      "200:\tlearn: 0.0010420\ttotal: 2.73s\tremaining: 10.8s\n",
      "400:\tlearn: 0.0004322\ttotal: 5.16s\tremaining: 7.71s\n",
      "600:\tlearn: 0.0002570\ttotal: 7.61s\tremaining: 5.05s\n",
      "800:\tlearn: 0.0001928\ttotal: 10s\tremaining: 2.49s\n",
      "999:\tlearn: 0.0001545\ttotal: 12.5s\tremaining: 0us\n",
      "결과 - F1 Macro: 0.8971, Accuracy: 0.9887\n",
      "\n",
      "--- 실험 3/24 진행 중 ---\n",
      "Features: base_2, Embeddings: embed_64, Tuner: optuna\n"
     ]
    },
    {
     "data": {
      "application/vnd.jupyter.widget-view+json": {
       "model_id": "df76b0d333654c229b4d351981cf69f3",
       "version_major": 2,
       "version_minor": 0
      },
      "text/plain": [
       "  0%|          | 0/40 [00:00<?, ?it/s]"
      ]
     },
     "metadata": {},
     "output_type": "display_data"
    },
    {
     "name": "stdout",
     "output_type": "stream",
     "text": [
      "base_2 - embed_64 - optuna 최종 모델 학습\n",
      "0:\tlearn: 0.5616506\ttotal: 25.3ms\tremaining: 25.3s\n",
      "200:\tlearn: 0.0013391\ttotal: 36.9s\tremaining: 2m 26s\n",
      "400:\tlearn: 0.0006037\ttotal: 1m 17s\tremaining: 1m 55s\n",
      "600:\tlearn: 0.0004034\ttotal: 1m 57s\tremaining: 1m 18s\n",
      "800:\tlearn: 0.0003081\ttotal: 2m 38s\tremaining: 39.4s\n",
      "999:\tlearn: 0.0002492\ttotal: 3m 19s\tremaining: 0us\n",
      "결과 - F1 Macro: 0.9050, Accuracy: 0.9905\n",
      "\n",
      "--- 실험 4/24 진행 중 ---\n",
      "Features: base_2, Embeddings: embed_64, Tuner: random_search\n",
      "Fitting 3 folds for each of 40 candidates, totalling 120 fits\n",
      "base_2 - embed_64 - random_search 최종 모델 학습\n",
      "0:\tlearn: 0.2628562\ttotal: 15ms\tremaining: 15s\n",
      "200:\tlearn: 0.0003043\ttotal: 2.45s\tremaining: 9.73s\n",
      "400:\tlearn: 0.0001511\ttotal: 4.85s\tremaining: 7.25s\n",
      "600:\tlearn: 0.0001017\ttotal: 7.22s\tremaining: 4.79s\n",
      "800:\tlearn: 0.0000774\ttotal: 9.67s\tremaining: 2.4s\n",
      "999:\tlearn: 0.0000644\ttotal: 12.1s\tremaining: 0us\n",
      "결과 - F1 Macro: 0.9468, Accuracy: 0.9943\n",
      "\n",
      "--- 실험 5/24 진행 중 ---\n",
      "Features: base_2, Embeddings: embed_32, Tuner: optuna\n"
     ]
    },
    {
     "data": {
      "application/vnd.jupyter.widget-view+json": {
       "model_id": "3518053be0634bffbb7a78305e647551",
       "version_major": 2,
       "version_minor": 0
      },
      "text/plain": [
       "  0%|          | 0/40 [00:00<?, ?it/s]"
      ]
     },
     "metadata": {},
     "output_type": "display_data"
    },
    {
     "name": "stdout",
     "output_type": "stream",
     "text": [
      "base_2 - embed_32 - optuna 최종 모델 학습\n",
      "0:\tlearn: 0.3903669\ttotal: 15.7ms\tremaining: 15.6s\n",
      "200:\tlearn: 0.0001983\ttotal: 19.5s\tremaining: 1m 17s\n",
      "400:\tlearn: 0.0000918\ttotal: 39.5s\tremaining: 58.9s\n",
      "600:\tlearn: 0.0000605\ttotal: 59.4s\tremaining: 39.5s\n",
      "800:\tlearn: 0.0000452\ttotal: 1m 19s\tremaining: 19.7s\n",
      "999:\tlearn: 0.0000361\ttotal: 1m 39s\tremaining: 0us\n",
      "결과 - F1 Macro: 0.8670, Accuracy: 0.9868\n",
      "\n",
      "--- 실험 6/24 진행 중 ---\n",
      "Features: base_2, Embeddings: embed_32, Tuner: random_search\n",
      "Fitting 3 folds for each of 40 candidates, totalling 120 fits\n",
      "base_2 - embed_32 - random_search 최종 모델 학습\n",
      "0:\tlearn: 0.3456413\ttotal: 31.8ms\tremaining: 31.8s\n",
      "200:\tlearn: 0.0007225\ttotal: 35.5s\tremaining: 2m 21s\n",
      "400:\tlearn: 0.0003715\ttotal: 1m 11s\tremaining: 1m 47s\n",
      "600:\tlearn: 0.0002482\ttotal: 1m 48s\tremaining: 1m 11s\n",
      "800:\tlearn: 0.0001870\ttotal: 2m 24s\tremaining: 35.9s\n",
      "999:\tlearn: 0.0001501\ttotal: 3m\tremaining: 0us\n",
      "결과 - F1 Macro: 0.8670, Accuracy: 0.9868\n",
      "\n",
      "--- 실험 7/24 진행 중 ---\n",
      "Features: base_2, Embeddings: embed_none, Tuner: optuna\n"
     ]
    },
    {
     "data": {
      "application/vnd.jupyter.widget-view+json": {
       "model_id": "1db98cdbaf1b4d1a8fd100553db0c935",
       "version_major": 2,
       "version_minor": 0
      },
      "text/plain": [
       "  0%|          | 0/40 [00:00<?, ?it/s]"
      ]
     },
     "metadata": {},
     "output_type": "display_data"
    },
    {
     "name": "stdout",
     "output_type": "stream",
     "text": [
      "base_2 - embed_none - optuna 최종 모델 학습\n",
      "0:\tlearn: 0.3084514\ttotal: 29.3ms\tremaining: 29.3s\n",
      "200:\tlearn: 0.0167819\ttotal: 57.1s\tremaining: 3m 46s\n",
      "400:\tlearn: 0.0154357\ttotal: 1m 59s\tremaining: 2m 58s\n",
      "600:\tlearn: 0.0149554\ttotal: 3m 4s\tremaining: 2m 2s\n",
      "800:\tlearn: 0.0146061\ttotal: 4m 3s\tremaining: 1m\n",
      "999:\tlearn: 0.0145154\ttotal: 5m 7s\tremaining: 0us\n",
      "결과 - F1 Macro: 0.8971, Accuracy: 0.9887\n",
      "\n",
      "--- 실험 8/24 진행 중 ---\n",
      "Features: base_2, Embeddings: embed_none, Tuner: random_search\n",
      "Fitting 3 folds for each of 40 candidates, totalling 120 fits\n",
      "base_2 - embed_none - random_search 최종 모델 학습\n",
      "0:\tlearn: 0.4406880\ttotal: 30.3ms\tremaining: 30.2s\n",
      "200:\tlearn: 0.0176079\ttotal: 6.3s\tremaining: 25.1s\n",
      "400:\tlearn: 0.0166467\ttotal: 12.8s\tremaining: 19.2s\n",
      "600:\tlearn: 0.0161838\ttotal: 18.9s\tremaining: 12.5s\n",
      "800:\tlearn: 0.0158958\ttotal: 25s\tremaining: 6.21s\n",
      "999:\tlearn: 0.0156469\ttotal: 30.9s\tremaining: 0us\n",
      "결과 - F1 Macro: 0.8971, Accuracy: 0.9887\n",
      "\n",
      "--- 실험 9/24 진행 중 ---\n",
      "Features: medium_6, Embeddings: embed_128, Tuner: optuna\n"
     ]
    },
    {
     "data": {
      "application/vnd.jupyter.widget-view+json": {
       "model_id": "19d236ef044c49e18d8fb98b8eaff1ed",
       "version_major": 2,
       "version_minor": 0
      },
      "text/plain": [
       "  0%|          | 0/40 [00:00<?, ?it/s]"
      ]
     },
     "metadata": {},
     "output_type": "display_data"
    },
    {
     "name": "stdout",
     "output_type": "stream",
     "text": [
      "medium_6 - embed_128 - optuna 최종 모델 학습\n",
      "0:\tlearn: 0.3037775\ttotal: 36.7ms\tremaining: 36.6s\n",
      "200:\tlearn: 0.0005092\ttotal: 7.26s\tremaining: 28.8s\n",
      "400:\tlearn: 0.0002528\ttotal: 14.4s\tremaining: 21.5s\n",
      "600:\tlearn: 0.0001681\ttotal: 21.7s\tremaining: 14.4s\n",
      "800:\tlearn: 0.0001265\ttotal: 29s\tremaining: 7.21s\n",
      "999:\tlearn: 0.0001014\ttotal: 36.3s\tremaining: 0us\n",
      "결과 - F1 Macro: 0.9050, Accuracy: 0.9905\n",
      "\n",
      "--- 실험 10/24 진행 중 ---\n",
      "Features: medium_6, Embeddings: embed_128, Tuner: random_search\n",
      "Fitting 3 folds for each of 40 candidates, totalling 120 fits\n",
      "medium_6 - embed_128 - random_search 최종 모델 학습\n",
      "0:\tlearn: 0.6044196\ttotal: 35.7ms\tremaining: 35.7s\n",
      "200:\tlearn: 0.0038543\ttotal: 12.6s\tremaining: 50.2s\n",
      "400:\tlearn: 0.0015354\ttotal: 26.9s\tremaining: 40.1s\n",
      "600:\tlearn: 0.0009698\ttotal: 41.1s\tremaining: 27.3s\n",
      "800:\tlearn: 0.0007139\ttotal: 55.2s\tremaining: 13.7s\n",
      "999:\tlearn: 0.0005649\ttotal: 1m 9s\tremaining: 0us\n",
      "결과 - F1 Macro: 0.8817, Accuracy: 0.9887\n",
      "\n",
      "--- 실험 11/24 진행 중 ---\n",
      "Features: medium_6, Embeddings: embed_64, Tuner: optuna\n"
     ]
    },
    {
     "data": {
      "application/vnd.jupyter.widget-view+json": {
       "model_id": "38aa569c63f14681b35fe48e0b74adf7",
       "version_major": 2,
       "version_minor": 0
      },
      "text/plain": [
       "  0%|          | 0/40 [00:00<?, ?it/s]"
      ]
     },
     "metadata": {},
     "output_type": "display_data"
    },
    {
     "name": "stdout",
     "output_type": "stream",
     "text": [
      "medium_6 - embed_64 - optuna 최종 모델 학습\n",
      "0:\tlearn: 0.6505034\ttotal: 16.4ms\tremaining: 16.4s\n",
      "200:\tlearn: 0.0062392\ttotal: 3.02s\tremaining: 12s\n",
      "400:\tlearn: 0.0023567\ttotal: 6.07s\tremaining: 9.06s\n",
      "600:\tlearn: 0.0012508\ttotal: 9.06s\tremaining: 6.02s\n",
      "800:\tlearn: 0.0008213\ttotal: 12.1s\tremaining: 3s\n",
      "999:\tlearn: 0.0006026\ttotal: 15.2s\tremaining: 0us\n",
      "결과 - F1 Macro: 0.9114, Accuracy: 0.9905\n",
      "\n",
      "--- 실험 12/24 진행 중 ---\n",
      "Features: medium_6, Embeddings: embed_64, Tuner: random_search\n",
      "Fitting 3 folds for each of 40 candidates, totalling 120 fits\n",
      "medium_6 - embed_64 - random_search 최종 모델 학습\n",
      "0:\tlearn: 0.3816537\ttotal: 41ms\tremaining: 40.9s\n",
      "200:\tlearn: 0.0006150\ttotal: 1m 8s\tremaining: 4m 32s\n",
      "400:\tlearn: 0.0003029\ttotal: 2m 21s\tremaining: 3m 31s\n",
      "600:\tlearn: 0.0002028\ttotal: 3m 34s\tremaining: 2m 22s\n",
      "800:\tlearn: 0.0001531\ttotal: 4m 48s\tremaining: 1m 11s\n",
      "999:\tlearn: 0.0001235\ttotal: 6m\tremaining: 0us\n",
      "결과 - F1 Macro: 0.9050, Accuracy: 0.9905\n",
      "\n",
      "--- 실험 13/24 진행 중 ---\n",
      "Features: medium_6, Embeddings: embed_32, Tuner: optuna\n"
     ]
    },
    {
     "data": {
      "application/vnd.jupyter.widget-view+json": {
       "model_id": "50245df80f0f47c5ad1ace9c9e13f40f",
       "version_major": 2,
       "version_minor": 0
      },
      "text/plain": [
       "  0%|          | 0/40 [00:00<?, ?it/s]"
      ]
     },
     "metadata": {},
     "output_type": "display_data"
    },
    {
     "name": "stdout",
     "output_type": "stream",
     "text": [
      "medium_6 - embed_32 - optuna 최종 모델 학습\n",
      "0:\tlearn: 0.6262661\ttotal: 18.1ms\tremaining: 18.1s\n",
      "200:\tlearn: 0.0042149\ttotal: 10.9s\tremaining: 43.2s\n",
      "400:\tlearn: 0.0016229\ttotal: 23.2s\tremaining: 34.6s\n",
      "600:\tlearn: 0.0009799\ttotal: 35.5s\tremaining: 23.6s\n",
      "800:\tlearn: 0.0006908\ttotal: 47.9s\tremaining: 11.9s\n",
      "999:\tlearn: 0.0005398\ttotal: 1m\tremaining: 0us\n",
      "결과 - F1 Macro: 0.8423, Accuracy: 0.9849\n",
      "\n",
      "--- 실험 14/24 진행 중 ---\n",
      "Features: medium_6, Embeddings: embed_32, Tuner: random_search\n",
      "Fitting 3 folds for each of 40 candidates, totalling 120 fits\n",
      "medium_6 - embed_32 - random_search 최종 모델 학습\n",
      "0:\tlearn: 0.3383930\ttotal: 19ms\tremaining: 19s\n",
      "200:\tlearn: 0.0002905\ttotal: 12.3s\tremaining: 48.7s\n",
      "400:\tlearn: 0.0001545\ttotal: 25s\tremaining: 37.3s\n",
      "600:\tlearn: 0.0001090\ttotal: 37.5s\tremaining: 24.9s\n",
      "800:\tlearn: 0.0000850\ttotal: 50.1s\tremaining: 12.4s\n",
      "999:\tlearn: 0.0000709\ttotal: 1m 2s\tremaining: 0us\n",
      "결과 - F1 Macro: 0.8899, Accuracy: 0.9887\n",
      "\n",
      "--- 실험 15/24 진행 중 ---\n",
      "Features: medium_6, Embeddings: embed_none, Tuner: optuna\n"
     ]
    },
    {
     "data": {
      "application/vnd.jupyter.widget-view+json": {
       "model_id": "38d3c6759ebd4fe0893c31a162a37a8a",
       "version_major": 2,
       "version_minor": 0
      },
      "text/plain": [
       "  0%|          | 0/40 [00:00<?, ?it/s]"
      ]
     },
     "metadata": {},
     "output_type": "display_data"
    },
    {
     "name": "stdout",
     "output_type": "stream",
     "text": [
      "medium_6 - embed_none - optuna 최종 모델 학습\n",
      "0:\tlearn: 0.6649364\ttotal: 37.7ms\tremaining: 37.7s\n",
      "200:\tlearn: 0.0211036\ttotal: 35.1s\tremaining: 2m 19s\n",
      "400:\tlearn: 0.0083164\ttotal: 1m 30s\tremaining: 2m 14s\n",
      "600:\tlearn: 0.0048496\ttotal: 2m 36s\tremaining: 1m 43s\n",
      "800:\tlearn: 0.0033830\ttotal: 3m 43s\tremaining: 55.6s\n",
      "999:\tlearn: 0.0025714\ttotal: 4m 51s\tremaining: 0us\n",
      "결과 - F1 Macro: 0.9169, Accuracy: 0.9905\n",
      "\n",
      "--- 실험 16/24 진행 중 ---\n",
      "Features: medium_6, Embeddings: embed_none, Tuner: random_search\n",
      "Fitting 3 folds for each of 40 candidates, totalling 120 fits\n",
      "medium_6 - embed_none - random_search 최종 모델 학습\n",
      "0:\tlearn: 0.3251007\ttotal: 35ms\tremaining: 35s\n",
      "200:\tlearn: 0.0006613\ttotal: 33.7s\tremaining: 2m 14s\n",
      "400:\tlearn: 0.0003238\ttotal: 1m 10s\tremaining: 1m 45s\n",
      "600:\tlearn: 0.0002188\ttotal: 1m 47s\tremaining: 1m 11s\n",
      "800:\tlearn: 0.0001623\ttotal: 2m 23s\tremaining: 35.7s\n",
      "999:\tlearn: 0.0001298\ttotal: 3m\tremaining: 0us\n",
      "결과 - F1 Macro: 0.9502, Accuracy: 0.9943\n",
      "\n",
      "--- 실험 17/24 진행 중 ---\n",
      "Features: full_9, Embeddings: embed_128, Tuner: optuna\n"
     ]
    },
    {
     "data": {
      "application/vnd.jupyter.widget-view+json": {
       "model_id": "6db7ef373e524b20bbb875517a16a636",
       "version_major": 2,
       "version_minor": 0
      },
      "text/plain": [
       "  0%|          | 0/40 [00:00<?, ?it/s]"
      ]
     },
     "metadata": {},
     "output_type": "display_data"
    },
    {
     "name": "stdout",
     "output_type": "stream",
     "text": [
      "full_9 - embed_128 - optuna 최종 모델 학습\n",
      "0:\tlearn: 0.4723168\ttotal: 19.2ms\tremaining: 19.2s\n",
      "200:\tlearn: 0.0003345\ttotal: 4.12s\tremaining: 16.4s\n",
      "400:\tlearn: 0.0001765\ttotal: 7.92s\tremaining: 11.8s\n",
      "600:\tlearn: 0.0001236\ttotal: 11.7s\tremaining: 7.77s\n",
      "800:\tlearn: 0.0000977\ttotal: 15.4s\tremaining: 3.83s\n",
      "999:\tlearn: 0.0000816\ttotal: 19.2s\tremaining: 0us\n",
      "결과 - F1 Macro: 0.9266, Accuracy: 0.9924\n",
      "\n",
      "--- 실험 18/24 진행 중 ---\n",
      "Features: full_9, Embeddings: embed_128, Tuner: random_search\n",
      "Fitting 3 folds for each of 40 candidates, totalling 120 fits\n",
      "full_9 - embed_128 - random_search 최종 모델 학습\n",
      "0:\tlearn: 0.5505714\ttotal: 117ms\tremaining: 1m 57s\n",
      "200:\tlearn: 0.0023049\ttotal: 21s\tremaining: 1m 23s\n",
      "400:\tlearn: 0.0010339\ttotal: 44.9s\tremaining: 1m 7s\n",
      "600:\tlearn: 0.0006620\ttotal: 1m 8s\tremaining: 45.5s\n",
      "800:\tlearn: 0.0004910\ttotal: 1m 32s\tremaining: 22.9s\n",
      "999:\tlearn: 0.0003910\ttotal: 1m 55s\tremaining: 0us\n",
      "결과 - F1 Macro: 0.8817, Accuracy: 0.9887\n",
      "\n",
      "--- 실험 19/24 진행 중 ---\n",
      "Features: full_9, Embeddings: embed_64, Tuner: optuna\n"
     ]
    },
    {
     "data": {
      "application/vnd.jupyter.widget-view+json": {
       "model_id": "96dd1b2693844709b81981fe13673698",
       "version_major": 2,
       "version_minor": 0
      },
      "text/plain": [
       "  0%|          | 0/40 [00:00<?, ?it/s]"
      ]
     },
     "metadata": {},
     "output_type": "display_data"
    },
    {
     "name": "stdout",
     "output_type": "stream",
     "text": [
      "full_9 - embed_64 - optuna 최종 모델 학습\n",
      "0:\tlearn: 0.5474909\ttotal: 39ms\tremaining: 39s\n",
      "200:\tlearn: 0.0019097\ttotal: 8.98s\tremaining: 35.7s\n",
      "400:\tlearn: 0.0008960\ttotal: 18.1s\tremaining: 27.1s\n",
      "600:\tlearn: 0.0005839\ttotal: 27.4s\tremaining: 18.2s\n",
      "800:\tlearn: 0.0004344\ttotal: 36.4s\tremaining: 9.04s\n",
      "999:\tlearn: 0.0003463\ttotal: 45.4s\tremaining: 0us\n",
      "결과 - F1 Macro: 0.9266, Accuracy: 0.9924\n",
      "\n",
      "--- 실험 20/24 진행 중 ---\n",
      "Features: full_9, Embeddings: embed_64, Tuner: random_search\n",
      "Fitting 3 folds for each of 40 candidates, totalling 120 fits\n",
      "full_9 - embed_64 - random_search 최종 모델 학습\n",
      "0:\tlearn: 0.3266402\ttotal: 17.6ms\tremaining: 17.6s\n",
      "200:\tlearn: 0.0001028\ttotal: 7.54s\tremaining: 30s\n",
      "400:\tlearn: 0.0000469\ttotal: 15.2s\tremaining: 22.7s\n",
      "600:\tlearn: 0.0000320\ttotal: 22.9s\tremaining: 15.2s\n",
      "800:\tlearn: 0.0000242\ttotal: 30.9s\tremaining: 7.68s\n",
      "999:\tlearn: 0.0000196\ttotal: 38.6s\tremaining: 0us\n",
      "결과 - F1 Macro: 0.9050, Accuracy: 0.9905\n",
      "\n",
      "--- 실험 21/24 진행 중 ---\n",
      "Features: full_9, Embeddings: embed_32, Tuner: optuna\n"
     ]
    },
    {
     "data": {
      "application/vnd.jupyter.widget-view+json": {
       "model_id": "496447cb64c743bda3a64e15e1b22e6b",
       "version_major": 2,
       "version_minor": 0
      },
      "text/plain": [
       "  0%|          | 0/40 [00:00<?, ?it/s]"
      ]
     },
     "metadata": {},
     "output_type": "display_data"
    },
    {
     "name": "stdout",
     "output_type": "stream",
     "text": [
      "full_9 - embed_32 - optuna 최종 모델 학습\n",
      "0:\tlearn: 0.6750264\ttotal: 38.9ms\tremaining: 38.9s\n",
      "200:\tlearn: 0.0360688\ttotal: 23.9s\tremaining: 1m 34s\n",
      "400:\tlearn: 0.0137192\ttotal: 1m 28s\tremaining: 2m 12s\n",
      "600:\tlearn: 0.0080589\ttotal: 2m 37s\tremaining: 1m 44s\n",
      "800:\tlearn: 0.0056570\ttotal: 3m 47s\tremaining: 56.4s\n",
      "999:\tlearn: 0.0043596\ttotal: 4m 57s\tremaining: 0us\n",
      "결과 - F1 Macro: 0.8566, Accuracy: 0.9868\n",
      "\n",
      "--- 실험 22/24 진행 중 ---\n",
      "Features: full_9, Embeddings: embed_32, Tuner: random_search\n",
      "Fitting 3 folds for each of 40 candidates, totalling 120 fits\n",
      "full_9 - embed_32 - random_search 최종 모델 학습\n",
      "0:\tlearn: 0.2701990\ttotal: 67.8ms\tremaining: 1m 7s\n",
      "200:\tlearn: 0.0005676\ttotal: 37.4s\tremaining: 2m 28s\n",
      "400:\tlearn: 0.0003114\ttotal: 1m 18s\tremaining: 1m 56s\n",
      "600:\tlearn: 0.0002168\ttotal: 1m 58s\tremaining: 1m 18s\n",
      "800:\tlearn: 0.0001707\ttotal: 2m 39s\tremaining: 39.7s\n",
      "999:\tlearn: 0.0001407\ttotal: 3m 20s\tremaining: 0us\n",
      "결과 - F1 Macro: 0.8817, Accuracy: 0.9887\n",
      "\n",
      "--- 실험 23/24 진행 중 ---\n",
      "Features: full_9, Embeddings: embed_none, Tuner: optuna\n"
     ]
    },
    {
     "data": {
      "application/vnd.jupyter.widget-view+json": {
       "model_id": "32868c142a0a4476ba3860fef63e15de",
       "version_major": 2,
       "version_minor": 0
      },
      "text/plain": [
       "  0%|          | 0/40 [00:00<?, ?it/s]"
      ]
     },
     "metadata": {},
     "output_type": "display_data"
    },
    {
     "name": "stdout",
     "output_type": "stream",
     "text": [
      "full_9 - embed_none - optuna 최종 모델 학습\n",
      "0:\tlearn: 0.3711861\ttotal: 20.1ms\tremaining: 20.1s\n",
      "200:\tlearn: 0.0005510\ttotal: 7.02s\tremaining: 27.9s\n",
      "400:\tlearn: 0.0002218\ttotal: 14.1s\tremaining: 21s\n",
      "600:\tlearn: 0.0001439\ttotal: 21.3s\tremaining: 14.2s\n",
      "800:\tlearn: 0.0001064\ttotal: 28.5s\tremaining: 7.08s\n",
      "999:\tlearn: 0.0000833\ttotal: 35.8s\tremaining: 0us\n",
      "결과 - F1 Macro: 0.9834, Accuracy: 0.9981\n",
      "\n",
      "--- 실험 24/24 진행 중 ---\n",
      "Features: full_9, Embeddings: embed_none, Tuner: random_search\n",
      "Fitting 3 folds for each of 40 candidates, totalling 120 fits\n",
      "full_9 - embed_none - random_search 최종 모델 학습\n",
      "0:\tlearn: 0.3227498\ttotal: 35.3ms\tremaining: 35.3s\n",
      "200:\tlearn: 0.0008309\ttotal: 12.4s\tremaining: 49.2s\n",
      "400:\tlearn: 0.0003936\ttotal: 25.2s\tremaining: 37.7s\n",
      "600:\tlearn: 0.0002604\ttotal: 38s\tremaining: 25.3s\n",
      "800:\tlearn: 0.0001956\ttotal: 50.8s\tremaining: 12.6s\n",
      "999:\tlearn: 0.0001570\ttotal: 1m 3s\tremaining: 0us\n",
      "결과 - F1 Macro: 0.9468, Accuracy: 0.9943\n",
      "\n"
     ]
    }
   ],
   "source": [
    "results = []\n",
    "experiment_id = 0\n",
    "total_experiments = len(feature_sets) * len(embedding_sets) * len(tuner_methods)\n",
    "\n",
    "for f_name, f_cols in feature_sets.items():\n",
    "    for e_name, e_cols in embedding_sets.items():\n",
    "\n",
    "        # 현재 조합에 사용할 전체 변수 리스트 생성\n",
    "        current_cols = f_cols + e_cols\n",
    "        X_train_exp = X_train[current_cols]\n",
    "        X_test_exp = X_test[current_cols]\n",
    "\n",
    "        cat_features_in_use = [c for c in ['Pandemic'] if c in X_train_exp.columns]\n",
    "\n",
    "        for tuner in tuner_methods:\n",
    "            experiment_id += 1\n",
    "            print(f\"--- 실험 {experiment_id}/{total_experiments} 진행 중 ---\")\n",
    "            print(f\"Features: {f_name}, Embeddings: {e_name}, Tuner: {tuner}\")\n",
    "\n",
    "            best_params = {}\n",
    "\n",
    "            if tuner == 'optuna':\n",
    "                def objective(trial):\n",
    "                    param_optuna = {\n",
    "                        'objective': 'Logloss',\n",
    "\n",
    "                        'iterations': 300,\n",
    "                        # 'iterations': 2,\n",
    "\n",
    "                        'verbose' : 0,\n",
    "                        'task_type': 'GPU',\n",
    "                        'devices': '0',\n",
    "                        'learning_rate': trial.suggest_float('learning_rate', 0.01, 0.3, log=True),\n",
    "                        'depth': trial.suggest_int('depth', 4, 10),\n",
    "                        'bootstrap_type': 'Bernoulli',\n",
    "                        'subsample': trial.suggest_float('subsample', 0.6, 1.0),\n",
    "                        'l2_leaf_reg': trial.suggest_float('l2_leaf_reg', 1, 10, log=True),\n",
    "                        'random_strength': trial.suggest_float('random_strength', 1e-9, 10, log=True),\n",
    "                        'min_child_samples': trial.suggest_int('min_child_samples', 5, 100),\n",
    "                        'leaf_estimation_method': trial.suggest_categorical('leaf_estimation_method', ['Newton', 'Gradient'])\n",
    "                    }\n",
    "                    model = CatBoostClassifier(cat_features=[c for c in ['Pandemic'] if c in X_train_exp.columns], **param_optuna)\n",
    "                    score = cross_val_score(model, X_train_exp, y_train, cv=3, scoring='f1_macro').mean()\n",
    "                    return score\n",
    "\n",
    "                study = optuna.create_study(direction='maximize')\n",
    "\n",
    "                study.optimize(objective, n_trials=40, n_jobs=1, show_progress_bar=True)\n",
    "                # study.optimize(objective, n_trials=2, n_jobs=1, show_progress_bar=True)\n",
    "\n",
    "                best_params = study.best_params\n",
    "\n",
    "            elif tuner == 'random_search':\n",
    "                param_random = {\n",
    "                     # --- Optuna와 동일하게 확장된 하이퍼파라미터 ---\n",
    "                    'learning_rate': uniform(0.01, 0.29), # 0.01부터 0.3까지 (uniform 분포)\n",
    "                    'depth': randint(4, 11), # 4부터 10까지 (정수)\n",
    "                    'bootstrap_type': ['Bernoulli'],\n",
    "                    'subsample': uniform(0.6, 0.4), # 0.6부터 1.0까지\n",
    "                    'l2_leaf_reg': uniform(1, 9), # 1부터 10까지\n",
    "                    'random_strength': uniform(1, 9), # 1부터 10까지 (log 분포 대신 uniform 사용)\n",
    "                    'min_child_samples': randint(5, 101), # 5부터 100까지\n",
    "                    'leaf_estimation_method': ['Newton', 'Gradient']\n",
    "                }\n",
    "                model = CatBoostClassifier(objective='Logloss', iterations=300, verbose=0, task_type='GPU', devices='0', cat_features=[c for c in ['Pandemic'] if c in X_train_exp.columns],)\n",
    "                # model = CatBoostClassifier(objective='Logloss', iterations=2, verbose=0, task_type='GPU', devices='0', cat_features=[c for c in ['Pandemic'] if c in X_train_exp.columns],)\n",
    "                random_search = RandomizedSearchCV(\n",
    "                    model,\n",
    "                    param_distributions=param_random,\n",
    "\n",
    "                    n_iter=40,\n",
    "                    # n_iter=2,\n",
    "\n",
    "                    cv=3,\n",
    "                    scoring='f1_macro',\n",
    "                    random_state=42,\n",
    "                    verbose=1,\n",
    "                    n_jobs=1\n",
    "                )\n",
    "                random_search.fit(X_train_exp, y_train)\n",
    "                best_params = random_search.best_params_\n",
    "\n",
    "            # 찾은 최적의 파라미터로 최종 모델 학습\n",
    "            print(f\"{f_name} - {e_name} - {tuner} 최종 모델 학습\")\n",
    "            if 'subsample' in best_params:\n",
    "                best_params['bootstrap_type'] = 'Bernoulli'\n",
    "            final_model = CatBoostClassifier(\n",
    "                objective='Logloss',\n",
    "\n",
    "                iterations=1000,\n",
    "                # iterations=2,\n",
    "\n",
    "                verbose=200,\n",
    "                task_type='GPU',\n",
    "                devices='0',\n",
    "                cat_features=[c for c in ['Pandemic'] if c in X_train_exp.columns],\n",
    "                **best_params\n",
    "            )\n",
    "            final_model.fit(X_train_exp, y_train)\n",
    "\n",
    "            # 테스트 데이터로 성능 평가\n",
    "            preds = final_model.predict(X_test_exp)\n",
    "            f1 = f1_score(y_test, preds, average='macro')\n",
    "            accuracy = accuracy_score(y_test, preds)\n",
    "\n",
    "            # 결과 저장\n",
    "            results.append({\n",
    "                \"Experiment_ID\": experiment_id,\n",
    "                \"Feature_Set\": f_name,\n",
    "                \"Embedding_Set\": e_name,\n",
    "                \"Tuner\": tuner,\n",
    "                \"Test_F1_Macro\": f1,\n",
    "                \"Test_Accuracy\": accuracy,\n",
    "                \"Best_Params\": best_params\n",
    "            })\n",
    "            print(f\"결과 - F1 Macro: {f1:.4f}, Accuracy: {accuracy:.4f}\\n\")"
   ]
  },
  {
   "cell_type": "code",
   "execution_count": null,
   "metadata": {
    "colab": {
     "background_save": true
    },
    "id": "h29zjRZslVKe"
   },
   "outputs": [
    {
     "name": "stdout",
     "output_type": "stream",
     "text": [
      "========== 최종 실험 결과 (F1 Score 기준 정렬) ==========\n",
      "    Experiment_ID Feature_Set Embedding_Set          Tuner  Test_F1_Macro  \\\n",
      "22             23      full_9    embed_none         optuna       0.983384   \n",
      "15             16    medium_6    embed_none  random_search       0.950152   \n",
      "3               4      base_2      embed_64  random_search       0.946818   \n",
      "23             24      full_9    embed_none  random_search       0.946818   \n",
      "16             17      full_9     embed_128         optuna       0.926630   \n",
      "18             19      full_9      embed_64         optuna       0.926630   \n",
      "14             15    medium_6    embed_none         optuna       0.916921   \n",
      "10             11    medium_6      embed_64         optuna       0.911364   \n",
      "19             20      full_9      embed_64  random_search       0.904983   \n",
      "11             12    medium_6      embed_64  random_search       0.904983   \n",
      "2               3      base_2      embed_64         optuna       0.904983   \n",
      "8               9    medium_6     embed_128         optuna       0.904983   \n",
      "7               8      base_2    embed_none  random_search       0.897082   \n",
      "1               2      base_2     embed_128  random_search       0.897082   \n",
      "6               7      base_2    embed_none         optuna       0.897082   \n",
      "13             14    medium_6      embed_32  random_search       0.889945   \n",
      "21             22      full_9      embed_32  random_search       0.881708   \n",
      "17             18      full_9     embed_128  random_search       0.881708   \n",
      "0               1      base_2     embed_128         optuna       0.881708   \n",
      "9              10    medium_6     embed_128  random_search       0.881708   \n",
      "4               5      base_2      embed_32         optuna       0.866976   \n",
      "5               6      base_2      embed_32  random_search       0.866976   \n",
      "20             21      full_9      embed_32         optuna       0.856612   \n",
      "12             13    medium_6      embed_32         optuna       0.842278   \n",
      "\n",
      "    Test_Accuracy                                        Best_Params  \n",
      "22       0.998110  {'learning_rate': 0.1140452787853968, 'depth':...  \n",
      "15       0.994329  {'bootstrap_type': 'Bernoulli', 'depth': 9, 'l...  \n",
      "3        0.994329  {'bootstrap_type': 'Bernoulli', 'depth': 4, 'l...  \n",
      "23       0.994329  {'bootstrap_type': 'Bernoulli', 'depth': 7, 'l...  \n",
      "16       0.992439  {'learning_rate': 0.08579941008542119, 'depth'...  \n",
      "18       0.992439  {'learning_rate': 0.088575397337343, 'depth': ...  \n",
      "14       0.990548  {'learning_rate': 0.016051675235584775, 'depth...  \n",
      "10       0.990548  {'learning_rate': 0.014875693481197286, 'depth...  \n",
      "19       0.990548  {'bootstrap_type': 'Bernoulli', 'depth': 7, 'l...  \n",
      "11       0.990548  {'bootstrap_type': 'Bernoulli', 'depth': 10, '...  \n",
      "2        0.990548  {'learning_rate': 0.05113014404295014, 'depth'...  \n",
      "8        0.990548  {'learning_rate': 0.29476784383267435, 'depth'...  \n",
      "7        0.988658  {'bootstrap_type': 'Bernoulli', 'depth': 5, 'l...  \n",
      "1        0.988658  {'bootstrap_type': 'Bernoulli', 'depth': 4, 'l...  \n",
      "6        0.988658  {'learning_rate': 0.2924687862687034, 'depth':...  \n",
      "13       0.988658  {'bootstrap_type': 'Bernoulli', 'depth': 8, 'l...  \n",
      "21       0.988658  {'bootstrap_type': 'Bernoulli', 'depth': 10, '...  \n",
      "17       0.988658  {'bootstrap_type': 'Bernoulli', 'depth': 8, 'l...  \n",
      "0        0.988658  {'learning_rate': 0.13594766393716198, 'depth'...  \n",
      "9        0.988658  {'bootstrap_type': 'Bernoulli', 'depth': 7, 'l...  \n",
      "4        0.986767  {'learning_rate': 0.10852582904230448, 'depth'...  \n",
      "5        0.986767  {'bootstrap_type': 'Bernoulli', 'depth': 9, 'l...  \n",
      "20       0.986767  {'learning_rate': 0.010368929401563342, 'depth...  \n",
      "12       0.984877  {'learning_rate': 0.022171689355552845, 'depth...  \n"
     ]
    }
   ],
   "source": [
    "results_df = pd.DataFrame(results)\n",
    "results_df_sorted = results_df.sort_values(by='Test_F1_Macro', ascending=False)\n",
    "\n",
    "print(\"========== 최종 실험 결과 (F1 Score 기준 정렬) ==========\")\n",
    "print(results_df_sorted)"
   ]
  },
  {
   "cell_type": "markdown",
   "metadata": {
    "id": "bfMnyKy5mu5w"
   },
   "source": [
    "## 4) 최종 모델 생성"
   ]
  },
  {
   "cell_type": "code",
   "execution_count": null,
   "metadata": {
    "colab": {
     "background_save": true
    },
    "id": "eb7YdTpamwP5"
   },
   "outputs": [
    {
     "name": "stdout",
     "output_type": "stream",
     "text": [
      "최고 성능 조합: Features='full_9', Embeddings='embed_none'\n",
      "최고 성능 하이퍼파라미터: {'learning_rate': 0.1140452787853968, 'depth': 7, 'subsample': 0.6349615573900175, 'l2_leaf_reg': 1.1949641085690141, 'random_strength': 1.7351076693987777e-05, 'min_child_samples': 90, 'leaf_estimation_method': 'Newton', 'bootstrap_type': 'Bernoulli'}\n",
      "\n",
      "최고 성능 모델 재학습 시작...\n",
      "0:\tlearn: 0.3342080\ttotal: 37.9ms\tremaining: 37.8s\n",
      "200:\tlearn: 0.0006168\ttotal: 7.08s\tremaining: 28.1s\n",
      "400:\tlearn: 0.0002427\ttotal: 14.2s\tremaining: 21.2s\n",
      "600:\tlearn: 0.0001450\ttotal: 21.2s\tremaining: 14.1s\n",
      "800:\tlearn: 0.0001006\ttotal: 28.4s\tremaining: 7.04s\n",
      "999:\tlearn: 0.0000770\ttotal: 35.3s\tremaining: 0us\n",
      "재학습 완료.\n",
      "최고 성능 모델을 'best_catboost_model.cbm' 파일로 저장했습니다. 💾\n"
     ]
    }
   ],
   "source": [
    "# 5-1. 가장 점수가 높았던 실험의 설정 가져오기\n",
    "best_experiment = results_df_sorted.iloc[0]\n",
    "best_f_name = best_experiment['Feature_Set']\n",
    "best_e_name = best_experiment['Embedding_Set']\n",
    "best_params = best_experiment['Best_Params']\n",
    "\n",
    "print(f\"최고 성능 조합: Features='{best_f_name}', Embeddings='{best_e_name}'\")\n",
    "print(f\"최고 성능 하이퍼파라미터: {best_params}\")\n",
    "\n",
    "# 5-2. 최고 성능 조합에 맞는 데이터 다시 준비\n",
    "best_f_cols = feature_sets[best_f_name]\n",
    "best_e_cols = embedding_sets[best_e_name]\n",
    "best_current_cols = best_f_cols + best_e_cols\n",
    "\n",
    "# 전체 학습 데이터(X_train + X_test)를 사용\n",
    "X_train_best = X[best_current_cols].copy()\n",
    "\n",
    "# 5-3. 최고 성능 파라미터로 최종 모델 생성 및 학습\n",
    "if 'subsample' in best_params:\n",
    "    best_params['bootstrap_type'] = 'Bernoulli'\n",
    "\n",
    "best_model = CatBoostClassifier(\n",
    "    objective='Logloss',\n",
    "    iterations=1000, # 최종 모델이므로 반복 횟수를 충분히 설정\n",
    "    verbose=200,\n",
    "    task_type='GPU',\n",
    "    devices='0',\n",
    "    cat_features=[c for c in ['Pandemic'] if c in X_train_exp.columns],\n",
    "    **best_params\n",
    ")\n",
    "\n",
    "print(\"\\n최고 성능 모델 재학습 시작...\")\n",
    "best_model.fit(X_train_best, y) #y_train 대신 y\n",
    "print(\"재학습 완료.\")\n",
    "\n",
    "# 5-4. 모델 파일로 저장\n",
    "best_model.save_model(\"/content/drive/MyDrive/비어플/25-2/model/catboost_model_5m.cbm\")\n",
    "print(\"최고 성능 모델을 'best_catboost_model.cbm' 파일로 저장했습니다. 💾\")"
   ]
  },
  {
   "cell_type": "markdown",
   "metadata": {
    "id": "w90KWPzUnREV"
   },
   "source": [
    "# 2. LightGBM 사용"
   ]
  },
  {
   "cell_type": "markdown",
   "metadata": {
    "id": "UCqNvuIon2Ic"
   },
   "source": [
    "## 1) 초기 구동"
   ]
  },
  {
   "cell_type": "code",
   "execution_count": null,
   "metadata": {
    "colab": {
     "background_save": true
    },
    "id": "FChEW739nX6Q"
   },
   "outputs": [
    {
     "data": {
      "application/vnd.google.colaboratory.intrinsic+json": {
       "summary": "{\n  \"name\": \"results_df\",\n  \"rows\": 529,\n  \"fields\": [\n    {\n      \"column\": \"Actual\",\n      \"properties\": {\n        \"dtype\": \"number\",\n        \"std\": 0,\n        \"min\": 0,\n        \"max\": 1,\n        \"num_unique_values\": 2,\n        \"samples\": [\n          1,\n          0\n        ],\n        \"semantic_type\": \"\",\n        \"description\": \"\"\n      }\n    },\n    {\n      \"column\": \"Predicted\",\n      \"properties\": {\n        \"dtype\": \"number\",\n        \"std\": 0,\n        \"min\": 0,\n        \"max\": 1,\n        \"num_unique_values\": 2,\n        \"samples\": [\n          1,\n          0\n        ],\n        \"semantic_type\": \"\",\n        \"description\": \"\"\n      }\n    },\n    {\n      \"column\": \"Probability_of_Success\",\n      \"properties\": {\n        \"dtype\": \"number\",\n        \"std\": 0.1393083572835239,\n        \"min\": 1.6161957548497448e-08,\n        \"max\": 0.9999975457178979,\n        \"num_unique_values\": 529,\n        \"samples\": [\n          1.0595121564422484e-07,\n          1.2803927067507954e-07\n        ],\n        \"semantic_type\": \"\",\n        \"description\": \"\"\n      }\n    },\n    {\n      \"column\": \"Movie_Title\",\n      \"properties\": {\n        \"dtype\": \"string\",\n        \"num_unique_values\": 529,\n        \"samples\": [\n          \"\\ubca0\\ub7ec\\ub9e8\",\n          \"\\uc544\\ud2f0\\uc2a4\\ud2b8 \\ubd09\\ub9cc\\ub300\"\n        ],\n        \"semantic_type\": \"\",\n        \"description\": \"\"\n      }\n    }\n  ]\n}",
       "type": "dataframe",
       "variable_name": "results_df"
      },
      "text/html": [
       "\n",
       "  <div id=\"df-72ff71b6-15b0-41e4-a441-4246852895e1\" class=\"colab-df-container\">\n",
       "    <div>\n",
       "<style scoped>\n",
       "    .dataframe tbody tr th:only-of-type {\n",
       "        vertical-align: middle;\n",
       "    }\n",
       "\n",
       "    .dataframe tbody tr th {\n",
       "        vertical-align: top;\n",
       "    }\n",
       "\n",
       "    .dataframe thead th {\n",
       "        text-align: right;\n",
       "    }\n",
       "</style>\n",
       "<table border=\"1\" class=\"dataframe\">\n",
       "  <thead>\n",
       "    <tr style=\"text-align: right;\">\n",
       "      <th></th>\n",
       "      <th>Actual</th>\n",
       "      <th>Predicted</th>\n",
       "      <th>Probability_of_Success</th>\n",
       "      <th>Movie_Title</th>\n",
       "    </tr>\n",
       "  </thead>\n",
       "  <tbody>\n",
       "    <tr>\n",
       "      <th>476</th>\n",
       "      <td>0</td>\n",
       "      <td>0</td>\n",
       "      <td>1.995615e-07</td>\n",
       "      <td>잠깐만 회사 좀 관두고 올게</td>\n",
       "    </tr>\n",
       "    <tr>\n",
       "      <th>786</th>\n",
       "      <td>0</td>\n",
       "      <td>0</td>\n",
       "      <td>4.523035e-07</td>\n",
       "      <td>건국전쟁</td>\n",
       "    </tr>\n",
       "    <tr>\n",
       "      <th>491</th>\n",
       "      <td>0</td>\n",
       "      <td>0</td>\n",
       "      <td>3.517678e-08</td>\n",
       "      <td>해바라기</td>\n",
       "    </tr>\n",
       "    <tr>\n",
       "      <th>195</th>\n",
       "      <td>0</td>\n",
       "      <td>0</td>\n",
       "      <td>1.629776e-07</td>\n",
       "      <td>여배우는 오늘도</td>\n",
       "    </tr>\n",
       "    <tr>\n",
       "      <th>846</th>\n",
       "      <td>0</td>\n",
       "      <td>0</td>\n",
       "      <td>3.559415e-08</td>\n",
       "      <td>바이스</td>\n",
       "    </tr>\n",
       "  </tbody>\n",
       "</table>\n",
       "</div>\n",
       "    <div class=\"colab-df-buttons\">\n",
       "\n",
       "  <div class=\"colab-df-container\">\n",
       "    <button class=\"colab-df-convert\" onclick=\"convertToInteractive('df-72ff71b6-15b0-41e4-a441-4246852895e1')\"\n",
       "            title=\"Convert this dataframe to an interactive table.\"\n",
       "            style=\"display:none;\">\n",
       "\n",
       "  <svg xmlns=\"http://www.w3.org/2000/svg\" height=\"24px\" viewBox=\"0 -960 960 960\">\n",
       "    <path d=\"M120-120v-720h720v720H120Zm60-500h600v-160H180v160Zm220 220h160v-160H400v160Zm0 220h160v-160H400v160ZM180-400h160v-160H180v160Zm440 0h160v-160H620v160ZM180-180h160v-160H180v160Zm440 0h160v-160H620v160Z\"/>\n",
       "  </svg>\n",
       "    </button>\n",
       "\n",
       "  <style>\n",
       "    .colab-df-container {\n",
       "      display:flex;\n",
       "      gap: 12px;\n",
       "    }\n",
       "\n",
       "    .colab-df-convert {\n",
       "      background-color: #E8F0FE;\n",
       "      border: none;\n",
       "      border-radius: 50%;\n",
       "      cursor: pointer;\n",
       "      display: none;\n",
       "      fill: #1967D2;\n",
       "      height: 32px;\n",
       "      padding: 0 0 0 0;\n",
       "      width: 32px;\n",
       "    }\n",
       "\n",
       "    .colab-df-convert:hover {\n",
       "      background-color: #E2EBFA;\n",
       "      box-shadow: 0px 1px 2px rgba(60, 64, 67, 0.3), 0px 1px 3px 1px rgba(60, 64, 67, 0.15);\n",
       "      fill: #174EA6;\n",
       "    }\n",
       "\n",
       "    .colab-df-buttons div {\n",
       "      margin-bottom: 4px;\n",
       "    }\n",
       "\n",
       "    [theme=dark] .colab-df-convert {\n",
       "      background-color: #3B4455;\n",
       "      fill: #D2E3FC;\n",
       "    }\n",
       "\n",
       "    [theme=dark] .colab-df-convert:hover {\n",
       "      background-color: #434B5C;\n",
       "      box-shadow: 0px 1px 3px 1px rgba(0, 0, 0, 0.15);\n",
       "      filter: drop-shadow(0px 1px 2px rgba(0, 0, 0, 0.3));\n",
       "      fill: #FFFFFF;\n",
       "    }\n",
       "  </style>\n",
       "\n",
       "    <script>\n",
       "      const buttonEl =\n",
       "        document.querySelector('#df-72ff71b6-15b0-41e4-a441-4246852895e1 button.colab-df-convert');\n",
       "      buttonEl.style.display =\n",
       "        google.colab.kernel.accessAllowed ? 'block' : 'none';\n",
       "\n",
       "      async function convertToInteractive(key) {\n",
       "        const element = document.querySelector('#df-72ff71b6-15b0-41e4-a441-4246852895e1');\n",
       "        const dataTable =\n",
       "          await google.colab.kernel.invokeFunction('convertToInteractive',\n",
       "                                                    [key], {});\n",
       "        if (!dataTable) return;\n",
       "\n",
       "        const docLinkHtml = 'Like what you see? Visit the ' +\n",
       "          '<a target=\"_blank\" href=https://colab.research.google.com/notebooks/data_table.ipynb>data table notebook</a>'\n",
       "          + ' to learn more about interactive tables.';\n",
       "        element.innerHTML = '';\n",
       "        dataTable['output_type'] = 'display_data';\n",
       "        await google.colab.output.renderOutput(dataTable, element);\n",
       "        const docLink = document.createElement('div');\n",
       "        docLink.innerHTML = docLinkHtml;\n",
       "        element.appendChild(docLink);\n",
       "      }\n",
       "    </script>\n",
       "  </div>\n",
       "\n",
       "\n",
       "    <div id=\"df-3204984f-f8a2-448e-8424-c97e56759053\">\n",
       "      <button class=\"colab-df-quickchart\" onclick=\"quickchart('df-3204984f-f8a2-448e-8424-c97e56759053')\"\n",
       "                title=\"Suggest charts\"\n",
       "                style=\"display:none;\">\n",
       "\n",
       "<svg xmlns=\"http://www.w3.org/2000/svg\" height=\"24px\"viewBox=\"0 0 24 24\"\n",
       "     width=\"24px\">\n",
       "    <g>\n",
       "        <path d=\"M19 3H5c-1.1 0-2 .9-2 2v14c0 1.1.9 2 2 2h14c1.1 0 2-.9 2-2V5c0-1.1-.9-2-2-2zM9 17H7v-7h2v7zm4 0h-2V7h2v10zm4 0h-2v-4h2v4z\"/>\n",
       "    </g>\n",
       "</svg>\n",
       "      </button>\n",
       "\n",
       "<style>\n",
       "  .colab-df-quickchart {\n",
       "      --bg-color: #E8F0FE;\n",
       "      --fill-color: #1967D2;\n",
       "      --hover-bg-color: #E2EBFA;\n",
       "      --hover-fill-color: #174EA6;\n",
       "      --disabled-fill-color: #AAA;\n",
       "      --disabled-bg-color: #DDD;\n",
       "  }\n",
       "\n",
       "  [theme=dark] .colab-df-quickchart {\n",
       "      --bg-color: #3B4455;\n",
       "      --fill-color: #D2E3FC;\n",
       "      --hover-bg-color: #434B5C;\n",
       "      --hover-fill-color: #FFFFFF;\n",
       "      --disabled-bg-color: #3B4455;\n",
       "      --disabled-fill-color: #666;\n",
       "  }\n",
       "\n",
       "  .colab-df-quickchart {\n",
       "    background-color: var(--bg-color);\n",
       "    border: none;\n",
       "    border-radius: 50%;\n",
       "    cursor: pointer;\n",
       "    display: none;\n",
       "    fill: var(--fill-color);\n",
       "    height: 32px;\n",
       "    padding: 0;\n",
       "    width: 32px;\n",
       "  }\n",
       "\n",
       "  .colab-df-quickchart:hover {\n",
       "    background-color: var(--hover-bg-color);\n",
       "    box-shadow: 0 1px 2px rgba(60, 64, 67, 0.3), 0 1px 3px 1px rgba(60, 64, 67, 0.15);\n",
       "    fill: var(--button-hover-fill-color);\n",
       "  }\n",
       "\n",
       "  .colab-df-quickchart-complete:disabled,\n",
       "  .colab-df-quickchart-complete:disabled:hover {\n",
       "    background-color: var(--disabled-bg-color);\n",
       "    fill: var(--disabled-fill-color);\n",
       "    box-shadow: none;\n",
       "  }\n",
       "\n",
       "  .colab-df-spinner {\n",
       "    border: 2px solid var(--fill-color);\n",
       "    border-color: transparent;\n",
       "    border-bottom-color: var(--fill-color);\n",
       "    animation:\n",
       "      spin 1s steps(1) infinite;\n",
       "  }\n",
       "\n",
       "  @keyframes spin {\n",
       "    0% {\n",
       "      border-color: transparent;\n",
       "      border-bottom-color: var(--fill-color);\n",
       "      border-left-color: var(--fill-color);\n",
       "    }\n",
       "    20% {\n",
       "      border-color: transparent;\n",
       "      border-left-color: var(--fill-color);\n",
       "      border-top-color: var(--fill-color);\n",
       "    }\n",
       "    30% {\n",
       "      border-color: transparent;\n",
       "      border-left-color: var(--fill-color);\n",
       "      border-top-color: var(--fill-color);\n",
       "      border-right-color: var(--fill-color);\n",
       "    }\n",
       "    40% {\n",
       "      border-color: transparent;\n",
       "      border-right-color: var(--fill-color);\n",
       "      border-top-color: var(--fill-color);\n",
       "    }\n",
       "    60% {\n",
       "      border-color: transparent;\n",
       "      border-right-color: var(--fill-color);\n",
       "    }\n",
       "    80% {\n",
       "      border-color: transparent;\n",
       "      border-right-color: var(--fill-color);\n",
       "      border-bottom-color: var(--fill-color);\n",
       "    }\n",
       "    90% {\n",
       "      border-color: transparent;\n",
       "      border-bottom-color: var(--fill-color);\n",
       "    }\n",
       "  }\n",
       "</style>\n",
       "\n",
       "      <script>\n",
       "        async function quickchart(key) {\n",
       "          const quickchartButtonEl =\n",
       "            document.querySelector('#' + key + ' button');\n",
       "          quickchartButtonEl.disabled = true;  // To prevent multiple clicks.\n",
       "          quickchartButtonEl.classList.add('colab-df-spinner');\n",
       "          try {\n",
       "            const charts = await google.colab.kernel.invokeFunction(\n",
       "                'suggestCharts', [key], {});\n",
       "          } catch (error) {\n",
       "            console.error('Error during call to suggestCharts:', error);\n",
       "          }\n",
       "          quickchartButtonEl.classList.remove('colab-df-spinner');\n",
       "          quickchartButtonEl.classList.add('colab-df-quickchart-complete');\n",
       "        }\n",
       "        (() => {\n",
       "          let quickchartButtonEl =\n",
       "            document.querySelector('#df-3204984f-f8a2-448e-8424-c97e56759053 button');\n",
       "          quickchartButtonEl.style.display =\n",
       "            google.colab.kernel.accessAllowed ? 'block' : 'none';\n",
       "        })();\n",
       "      </script>\n",
       "    </div>\n",
       "\n",
       "    </div>\n",
       "  </div>\n"
      ],
      "text/plain": [
       "     Actual  Predicted  Probability_of_Success      Movie_Title\n",
       "476       0          0            1.995615e-07  잠깐만 회사 좀 관두고 올게\n",
       "786       0          0            4.523035e-07             건국전쟁\n",
       "491       0          0            3.517678e-08             해바라기\n",
       "195       0          0            1.629776e-07         여배우는 오늘도\n",
       "846       0          0            3.559415e-08              바이스"
      ]
     },
     "execution_count": 102,
     "metadata": {},
     "output_type": "execute_result"
    }
   ],
   "source": [
    "model = lgb.LGBMClassifier(\n",
    "    n_estimators=500,     # iterations -> n_estimators\n",
    "    device='gpu',         # task_type -> device\n",
    "    gpu_device_id=0,      # devices -> gpu_device_id\n",
    "    random_state=42       # 결과 재현을 위한 random_state 추가 (권장)\n",
    ")\n",
    "\n",
    "for col in cat_features:\n",
    "    X_train[col] = X_train[col].astype('category')\n",
    "    X_test[col] = X_test[col].astype('category')\n",
    "\n",
    "model.fit(\n",
    "    X_train,\n",
    "    y_train,\n",
    "    categorical_feature=cat_features,              # cat_features -> categorical_feature\n",
    "    callbacks=[lgb.log_evaluation(period=100)]     # verbose -> callbacks\n",
    ")\n",
    "predictions = model.predict(X_test)\n",
    "prediction_probs = model.predict_proba(X_test)[:, 1] # 1이 될 확률\n",
    "results_df = pd.DataFrame({\n",
    "    'Actual': y_test,\n",
    "    'Predicted': predictions,\n",
    "    'Probability_of_Success': prediction_probs\n",
    "})\n",
    "test_titles = movie_titles.loc[X_test.index]\n",
    "results_df['Movie_Title'] = test_titles.values\n",
    "\n",
    "results_df.head()"
   ]
  },
  {
   "cell_type": "code",
   "execution_count": null,
   "metadata": {
    "colab": {
     "background_save": true
    },
    "id": "ABa7tjnunwDg"
   },
   "outputs": [
    {
     "data": {
      "image/png": "[encoded data removed]",
      "text/plain": [
       "<Figure size 600x400 with 2 Axes>"
      ]
     },
     "metadata": {},
     "output_type": "display_data"
    }
   ],
   "source": [
    "cm = confusion_matrix(results_df['Actual'], results_df['Predicted'])\n",
    "\n",
    "plt.figure(figsize=(6, 4))\n",
    "sns.heatmap(cm, annot=True, fmt='d', cmap='Blues', xticklabels=['Predicted 0', 'Predicted 1'], yticklabels=['Actual 0', 'Actual 1'])\n",
    "plt.xlabel('Predicted')\n",
    "plt.ylabel('Actual')\n",
    "plt.title('Confusion Matrix')\n",
    "plt.show()"
   ]
  },
  {
   "cell_type": "code",
   "execution_count": null,
   "metadata": {
    "colab": {
     "background_save": true
    },
    "id": "a2UwUIE5nw4a"
   },
   "outputs": [
    {
     "data": {
      "application/vnd.google.colaboratory.intrinsic+json": {
       "summary": "{\n  \"name\": \"pd\",\n  \"rows\": 7,\n  \"fields\": [\n    {\n      \"column\": \"Movie_Title\",\n      \"properties\": {\n        \"dtype\": \"string\",\n        \"num_unique_values\": 7,\n        \"samples\": [\n          \"\\uacfc\\uc18d\\uc2a4\\uce94\\ub4e4\",\n          \"\\ub808\\ubbf8\\uc81c\\ub77c\\ube14\",\n          \"\\ubc15\\uc218\\uac74\\ub2ec\"\n        ],\n        \"semantic_type\": \"\",\n        \"description\": \"\"\n      }\n    },\n    {\n      \"column\": \"Total_Audience_Count\",\n      \"properties\": {\n        \"dtype\": \"number\",\n        \"std\": 1536110,\n        \"min\": 3395274,\n        \"max\": 8125843,\n        \"num_unique_values\": 7,\n        \"samples\": [\n          8125843,\n          5852681,\n          3887729\n        ],\n        \"semantic_type\": \"\",\n        \"description\": \"\"\n      }\n    },\n    {\n      \"column\": \"Actual\",\n      \"properties\": {\n        \"dtype\": \"number\",\n        \"std\": 0,\n        \"min\": 0,\n        \"max\": 1,\n        \"num_unique_values\": 2,\n        \"samples\": [\n          0,\n          1\n        ],\n        \"semantic_type\": \"\",\n        \"description\": \"\"\n      }\n    },\n    {\n      \"column\": \"Predicted\",\n      \"properties\": {\n        \"dtype\": \"number\",\n        \"std\": 0,\n        \"min\": 0,\n        \"max\": 1,\n        \"num_unique_values\": 2,\n        \"samples\": [\n          1,\n          0\n        ],\n        \"semantic_type\": \"\",\n        \"description\": \"\"\n      }\n    },\n    {\n      \"column\": \"Probability_of_Success\",\n      \"properties\": {\n        \"dtype\": \"number\",\n        \"std\": 0.39429371606350044,\n        \"min\": 2.3345933899185365e-05,\n        \"max\": 0.8749593473264148,\n        \"num_unique_values\": 7,\n        \"samples\": [\n          0.0002087342516824197,\n          0.005053013632774891\n        ],\n        \"semantic_type\": \"\",\n        \"description\": \"\"\n      }\n    }\n  ]\n}",
       "type": "dataframe"
      },
      "text/html": [
       "\n",
       "  <div id=\"df-7e423fd3-ab7a-4f35-aecd-e26d406a3bbb\" class=\"colab-df-container\">\n",
       "    <div>\n",
       "<style scoped>\n",
       "    .dataframe tbody tr th:only-of-type {\n",
       "        vertical-align: middle;\n",
       "    }\n",
       "\n",
       "    .dataframe tbody tr th {\n",
       "        vertical-align: top;\n",
       "    }\n",
       "\n",
       "    .dataframe thead th {\n",
       "        text-align: right;\n",
       "    }\n",
       "</style>\n",
       "<table border=\"1\" class=\"dataframe\">\n",
       "  <thead>\n",
       "    <tr style=\"text-align: right;\">\n",
       "      <th></th>\n",
       "      <th>Movie_Title</th>\n",
       "      <th>Total_Audience_Count</th>\n",
       "      <th>Actual</th>\n",
       "      <th>Predicted</th>\n",
       "      <th>Probability_of_Success</th>\n",
       "    </tr>\n",
       "  </thead>\n",
       "  <tbody>\n",
       "    <tr>\n",
       "      <th>0</th>\n",
       "      <td>과속스캔들</td>\n",
       "      <td>8125843</td>\n",
       "      <td>1</td>\n",
       "      <td>0</td>\n",
       "      <td>0.000209</td>\n",
       "    </tr>\n",
       "    <tr>\n",
       "      <th>1</th>\n",
       "      <td>레미제라블</td>\n",
       "      <td>5852681</td>\n",
       "      <td>1</td>\n",
       "      <td>0</td>\n",
       "      <td>0.005053</td>\n",
       "    </tr>\n",
       "    <tr>\n",
       "      <th>2</th>\n",
       "      <td>블랙 팬서</td>\n",
       "      <td>5395971</td>\n",
       "      <td>1</td>\n",
       "      <td>0</td>\n",
       "      <td>0.000023</td>\n",
       "    </tr>\n",
       "    <tr>\n",
       "      <th>3</th>\n",
       "      <td>인셉션</td>\n",
       "      <td>5827610</td>\n",
       "      <td>1</td>\n",
       "      <td>0</td>\n",
       "      <td>0.003654</td>\n",
       "    </tr>\n",
       "    <tr>\n",
       "      <th>4</th>\n",
       "      <td>청년경찰</td>\n",
       "      <td>5616614</td>\n",
       "      <td>1</td>\n",
       "      <td>0</td>\n",
       "      <td>0.395071</td>\n",
       "    </tr>\n",
       "    <tr>\n",
       "      <th>5</th>\n",
       "      <td>박수건달</td>\n",
       "      <td>3887729</td>\n",
       "      <td>0</td>\n",
       "      <td>1</td>\n",
       "      <td>0.874959</td>\n",
       "    </tr>\n",
       "    <tr>\n",
       "      <th>6</th>\n",
       "      <td>그것만이 내 세상</td>\n",
       "      <td>3395274</td>\n",
       "      <td>0</td>\n",
       "      <td>1</td>\n",
       "      <td>0.788532</td>\n",
       "    </tr>\n",
       "  </tbody>\n",
       "</table>\n",
       "</div>\n",
       "    <div class=\"colab-df-buttons\">\n",
       "\n",
       "  <div class=\"colab-df-container\">\n",
       "    <button class=\"colab-df-convert\" onclick=\"convertToInteractive('df-7e423fd3-ab7a-4f35-aecd-e26d406a3bbb')\"\n",
       "            title=\"Convert this dataframe to an interactive table.\"\n",
       "            style=\"display:none;\">\n",
       "\n",
       "  <svg xmlns=\"http://www.w3.org/2000/svg\" height=\"24px\" viewBox=\"0 -960 960 960\">\n",
       "    <path d=\"M120-120v-720h720v720H120Zm60-500h600v-160H180v160Zm220 220h160v-160H400v160Zm0 220h160v-160H400v160ZM180-400h160v-160H180v160Zm440 0h160v-160H620v160ZM180-180h160v-160H180v160Zm440 0h160v-160H620v160Z\"/>\n",
       "  </svg>\n",
       "    </button>\n",
       "\n",
       "  <style>\n",
       "    .colab-df-container {\n",
       "      display:flex;\n",
       "      gap: 12px;\n",
       "    }\n",
       "\n",
       "    .colab-df-convert {\n",
       "      background-color: #E8F0FE;\n",
       "      border: none;\n",
       "      border-radius: 50%;\n",
       "      cursor: pointer;\n",
       "      display: none;\n",
       "      fill: #1967D2;\n",
       "      height: 32px;\n",
       "      padding: 0 0 0 0;\n",
       "      width: 32px;\n",
       "    }\n",
       "\n",
       "    .colab-df-convert:hover {\n",
       "      background-color: #E2EBFA;\n",
       "      box-shadow: 0px 1px 2px rgba(60, 64, 67, 0.3), 0px 1px 3px 1px rgba(60, 64, 67, 0.15);\n",
       "      fill: #174EA6;\n",
       "    }\n",
       "\n",
       "    .colab-df-buttons div {\n",
       "      margin-bottom: 4px;\n",
       "    }\n",
       "\n",
       "    [theme=dark] .colab-df-convert {\n",
       "      background-color: #3B4455;\n",
       "      fill: #D2E3FC;\n",
       "    }\n",
       "\n",
       "    [theme=dark] .colab-df-convert:hover {\n",
       "      background-color: #434B5C;\n",
       "      box-shadow: 0px 1px 3px 1px rgba(0, 0, 0, 0.15);\n",
       "      filter: drop-shadow(0px 1px 2px rgba(0, 0, 0, 0.3));\n",
       "      fill: #FFFFFF;\n",
       "    }\n",
       "  </style>\n",
       "\n",
       "    <script>\n",
       "      const buttonEl =\n",
       "        document.querySelector('#df-7e423fd3-ab7a-4f35-aecd-e26d406a3bbb button.colab-df-convert');\n",
       "      buttonEl.style.display =\n",
       "        google.colab.kernel.accessAllowed ? 'block' : 'none';\n",
       "\n",
       "      async function convertToInteractive(key) {\n",
       "        const element = document.querySelector('#df-7e423fd3-ab7a-4f35-aecd-e26d406a3bbb');\n",
       "        const dataTable =\n",
       "          await google.colab.kernel.invokeFunction('convertToInteractive',\n",
       "                                                    [key], {});\n",
       "        if (!dataTable) return;\n",
       "\n",
       "        const docLinkHtml = 'Like what you see? Visit the ' +\n",
       "          '<a target=\"_blank\" href=https://colab.research.google.com/notebooks/data_table.ipynb>data table notebook</a>'\n",
       "          + ' to learn more about interactive tables.';\n",
       "        element.innerHTML = '';\n",
       "        dataTable['output_type'] = 'display_data';\n",
       "        await google.colab.output.renderOutput(dataTable, element);\n",
       "        const docLink = document.createElement('div');\n",
       "        docLink.innerHTML = docLinkHtml;\n",
       "        element.appendChild(docLink);\n",
       "      }\n",
       "    </script>\n",
       "  </div>\n",
       "\n",
       "\n",
       "    <div id=\"df-bddd02e5-fbae-47c2-868a-0077ef6679ce\">\n",
       "      <button class=\"colab-df-quickchart\" onclick=\"quickchart('df-bddd02e5-fbae-47c2-868a-0077ef6679ce')\"\n",
       "                title=\"Suggest charts\"\n",
       "                style=\"display:none;\">\n",
       "\n",
       "<svg xmlns=\"http://www.w3.org/2000/svg\" height=\"24px\"viewBox=\"0 0 24 24\"\n",
       "     width=\"24px\">\n",
       "    <g>\n",
       "        <path d=\"M19 3H5c-1.1 0-2 .9-2 2v14c0 1.1.9 2 2 2h14c1.1 0 2-.9 2-2V5c0-1.1-.9-2-2-2zM9 17H7v-7h2v7zm4 0h-2V7h2v10zm4 0h-2v-4h2v4z\"/>\n",
       "    </g>\n",
       "</svg>\n",
       "      </button>\n",
       "\n",
       "<style>\n",
       "  .colab-df-quickchart {\n",
       "      --bg-color: #E8F0FE;\n",
       "      --fill-color: #1967D2;\n",
       "      --hover-bg-color: #E2EBFA;\n",
       "      --hover-fill-color: #174EA6;\n",
       "      --disabled-fill-color: #AAA;\n",
       "      --disabled-bg-color: #DDD;\n",
       "  }\n",
       "\n",
       "  [theme=dark] .colab-df-quickchart {\n",
       "      --bg-color: #3B4455;\n",
       "      --fill-color: #D2E3FC;\n",
       "      --hover-bg-color: #434B5C;\n",
       "      --hover-fill-color: #FFFFFF;\n",
       "      --disabled-bg-color: #3B4455;\n",
       "      --disabled-fill-color: #666;\n",
       "  }\n",
       "\n",
       "  .colab-df-quickchart {\n",
       "    background-color: var(--bg-color);\n",
       "    border: none;\n",
       "    border-radius: 50%;\n",
       "    cursor: pointer;\n",
       "    display: none;\n",
       "    fill: var(--fill-color);\n",
       "    height: 32px;\n",
       "    padding: 0;\n",
       "    width: 32px;\n",
       "  }\n",
       "\n",
       "  .colab-df-quickchart:hover {\n",
       "    background-color: var(--hover-bg-color);\n",
       "    box-shadow: 0 1px 2px rgba(60, 64, 67, 0.3), 0 1px 3px 1px rgba(60, 64, 67, 0.15);\n",
       "    fill: var(--button-hover-fill-color);\n",
       "  }\n",
       "\n",
       "  .colab-df-quickchart-complete:disabled,\n",
       "  .colab-df-quickchart-complete:disabled:hover {\n",
       "    background-color: var(--disabled-bg-color);\n",
       "    fill: var(--disabled-fill-color);\n",
       "    box-shadow: none;\n",
       "  }\n",
       "\n",
       "  .colab-df-spinner {\n",
       "    border: 2px solid var(--fill-color);\n",
       "    border-color: transparent;\n",
       "    border-bottom-color: var(--fill-color);\n",
       "    animation:\n",
       "      spin 1s steps(1) infinite;\n",
       "  }\n",
       "\n",
       "  @keyframes spin {\n",
       "    0% {\n",
       "      border-color: transparent;\n",
       "      border-bottom-color: var(--fill-color);\n",
       "      border-left-color: var(--fill-color);\n",
       "    }\n",
       "    20% {\n",
       "      border-color: transparent;\n",
       "      border-left-color: var(--fill-color);\n",
       "      border-top-color: var(--fill-color);\n",
       "    }\n",
       "    30% {\n",
       "      border-color: transparent;\n",
       "      border-left-color: var(--fill-color);\n",
       "      border-top-color: var(--fill-color);\n",
       "      border-right-color: var(--fill-color);\n",
       "    }\n",
       "    40% {\n",
       "      border-color: transparent;\n",
       "      border-right-color: var(--fill-color);\n",
       "      border-top-color: var(--fill-color);\n",
       "    }\n",
       "    60% {\n",
       "      border-color: transparent;\n",
       "      border-right-color: var(--fill-color);\n",
       "    }\n",
       "    80% {\n",
       "      border-color: transparent;\n",
       "      border-right-color: var(--fill-color);\n",
       "      border-bottom-color: var(--fill-color);\n",
       "    }\n",
       "    90% {\n",
       "      border-color: transparent;\n",
       "      border-bottom-color: var(--fill-color);\n",
       "    }\n",
       "  }\n",
       "</style>\n",
       "\n",
       "      <script>\n",
       "        async function quickchart(key) {\n",
       "          const quickchartButtonEl =\n",
       "            document.querySelector('#' + key + ' button');\n",
       "          quickchartButtonEl.disabled = true;  // To prevent multiple clicks.\n",
       "          quickchartButtonEl.classList.add('colab-df-spinner');\n",
       "          try {\n",
       "            const charts = await google.colab.kernel.invokeFunction(\n",
       "                'suggestCharts', [key], {});\n",
       "          } catch (error) {\n",
       "            console.error('Error during call to suggestCharts:', error);\n",
       "          }\n",
       "          quickchartButtonEl.classList.remove('colab-df-spinner');\n",
       "          quickchartButtonEl.classList.add('colab-df-quickchart-complete');\n",
       "        }\n",
       "        (() => {\n",
       "          let quickchartButtonEl =\n",
       "            document.querySelector('#df-bddd02e5-fbae-47c2-868a-0077ef6679ce button');\n",
       "          quickchartButtonEl.style.display =\n",
       "            google.colab.kernel.accessAllowed ? 'block' : 'none';\n",
       "        })();\n",
       "      </script>\n",
       "    </div>\n",
       "\n",
       "    </div>\n",
       "  </div>\n"
      ],
      "text/plain": [
       "  Movie_Title  Total_Audience_Count  Actual  Predicted  Probability_of_Success\n",
       "0       과속스캔들               8125843       1          0                0.000209\n",
       "1       레미제라블               5852681       1          0                0.005053\n",
       "2       블랙 팬서               5395971       1          0                0.000023\n",
       "3         인셉션               5827610       1          0                0.003654\n",
       "4        청년경찰               5616614       1          0                0.395071\n",
       "5        박수건달               3887729       0          1                0.874959\n",
       "6   그것만이 내 세상               3395274       0          1                0.788532"
      ]
     },
     "execution_count": 104,
     "metadata": {},
     "output_type": "execute_result"
    }
   ],
   "source": [
    "misclassified_movies = results_df[results_df['Actual'] != results_df['Predicted']]\n",
    "pd.merge(data_full[data_full[\"Movie_Title\"].isin(misclassified_movies['Movie_Title'].tolist())][[\"Movie_Title\", \"Total_Audience_Count\"]], misclassified_movies)"
   ]
  },
  {
   "cell_type": "markdown",
   "metadata": {
    "id": "iTQLSXTanzcJ"
   },
   "source": [
    "## 2) 변수 중요도"
   ]
  },
  {
   "cell_type": "code",
   "execution_count": null,
   "metadata": {
    "colab": {
     "background_save": true
    },
    "id": "HKrxuGkNnxNt"
   },
   "outputs": [
    {
     "data": {
      "image/png": "[encoded data removed]",
      "text/plain": [
       "<Figure size 1000x800 with 1 Axes>"
      ]
     },
     "metadata": {},
     "output_type": "display_data"
    },
    {
     "name": "stdout",
     "output_type": "stream",
     "text": [
      "                      Feature  Importance\n",
      "8    wk2_Holiday_AudienceMean         610\n",
      "2                wk2_Audience         387\n",
      "5        opening_Ho_Retention         134\n",
      "0                wk1_Audience          89\n",
      "6    wk1_Holiday_AudienceMean          88\n",
      "10        opening_AudienceStd          78\n",
      "34                        e15          63\n",
      "100                       e81          56\n",
      "85                        e66          52\n",
      "9        wk2_Holiday_ShowMean          51\n",
      "130                      e111          45\n",
      "133                      e114          40\n",
      "170                      e151          39\n",
      "21                         e2          37\n",
      "1         wk1_AudiencePerShow          37\n",
      "199                      e180          37\n",
      "167                      e148          34\n",
      "166                      e147          32\n",
      "60                        e41          30\n",
      "7        wk1_Holiday_ShowMean          29\n"
     ]
    }
   ],
   "source": [
    "# 1. 변수 중요도 추출\n",
    "feature_importances = model.feature_importances_\n",
    "feature_names = X_train.columns\n",
    "\n",
    "# 2. 데이터프레임으로 만들기\n",
    "importance_df = pd.DataFrame({\n",
    "    'Feature': feature_names,\n",
    "    'Importance': feature_importances\n",
    "}).sort_values(by='Importance', ascending=False)\n",
    "\n",
    "# 3. 상위 20개 변수 중요도 시각화\n",
    "plt.figure(figsize=(10, 8))\n",
    "sns.barplot(x='Importance', y='Feature', data=importance_df.head(20))\n",
    "plt.title('CatBoost Feature Importance (Top 20)')\n",
    "plt.show()\n",
    "\n",
    "# 4. 중요도 출력\n",
    "print(importance_df.head(20))"
   ]
  },
  {
   "cell_type": "code",
   "execution_count": null,
   "metadata": {
    "colab": {
     "background_save": true
    },
    "id": "s7_YaEFin3uf"
   },
   "outputs": [
    {
     "data": {
      "image/png": "[encoded data removed]",
      "text/plain": [
       "<Figure size 800x950 with 2 Axes>"
      ]
     },
     "metadata": {},
     "output_type": "display_data"
    }
   ],
   "source": [
    "explainer = shap.TreeExplainer(model)\n",
    "shap_values = explainer.shap_values(X_test)\n",
    "shap.summary_plot(shap_values, X_test)"
   ]
  },
  {
   "cell_type": "markdown",
   "metadata": {
    "id": "F90qJO74n9pv"
   },
   "source": [
    "1. `wk2_Holiday_AudienceMean`, `wk2_Audience`, `opening_Ho_Retention `\n",
    "2. `wk1_Holiday_AudienceMean`, `wk1_Audience`, `opening_AudienceStd`, ` wk2_Holiday_ShowMean`, `wk2_AudiencePerShow`"
   ]
  },
  {
   "cell_type": "markdown",
   "metadata": {
    "id": "JYlLZXA8oZWg"
   },
   "source": [
    "총 3+5개의 변수가 유의"
   ]
  },
  {
   "cell_type": "markdown",
   "metadata": {
    "id": "OHwsFjzMob7U"
   },
   "source": [
    "## 3) 변수 선택 및 하이퍼파라미터 튜닝"
   ]
  },
  {
   "cell_type": "code",
   "execution_count": null,
   "metadata": {
    "colab": {
     "background_save": true
    },
    "id": "46wh15Krn4iF"
   },
   "outputs": [],
   "source": [
    "feature_sets = {\n",
    "    \"base_3\": ['wk2_Holiday_AudienceMean', 'wk2_Audience', 'opening_Ho_Retention'],\n",
    "    \"full_8\": ['wk2_Holiday_AudienceMean', 'wk2_Audience', 'opening_Ho_Retention',\n",
    "               'wk1_Holiday_AudienceMean', 'wk1_Audience', 'opening_AudienceStd', 'wk2_Holiday_ShowMean', 'wk2_AudiencePerShow']\n",
    "}\n",
    "\n",
    "embedding_sets = {\n",
    "    \"embed_128\": [f'e{i+1}' for i in range(128)],\n",
    "    \"embed_64\": [f'e{i+1}' for i in range(64)],\n",
    "    \"embed_32\": [f'e{i+1}' for i in range(32)],\n",
    "    \"embed_none\" : []\n",
    "}\n",
    "\n",
    "tuner_methods = ['optuna', 'random_search']\n",
    "# tuner_methods = ['random_search', 'optuna']"
   ]
  },
  {
   "cell_type": "code",
   "execution_count": null,
   "metadata": {
    "colab": {
     "background_save": true
    },
    "id": "PzvpOotxpCBJ"
   },
   "outputs": [
    {
     "name": "stdout",
     "output_type": "stream",
     "text": [
      "--- 실험 1/16 진행 중 ---\n",
      "Features: base_3, Embeddings: embed_128, Tuner: optuna\n"
     ]
    },
    {
     "data": {
      "application/vnd.jupyter.widget-view+json": {
       "model_id": "6e01b46b84d6481492e8f8ab57c96c7c",
       "version_major": 2,
       "version_minor": 0
      },
      "text/plain": [
       "  0%|          | 0/40 [00:00<?, ?it/s]"
      ]
     },
     "metadata": {},
     "output_type": "display_data"
    },
    {
     "name": "stdout",
     "output_type": "stream",
     "text": [
      "base_3 - embed_128 - optuna 최종 모델 학습\n",
      "결과 - F1 Macro: 0.8566, Accuracy: 0.9868\n",
      "\n",
      "--- 실험 2/16 진행 중 ---\n",
      "Features: base_3, Embeddings: embed_128, Tuner: random_search\n",
      "Fitting 3 folds for each of 40 candidates, totalling 120 fits\n",
      "base_3 - embed_128 - random_search 최종 모델 학습\n",
      "결과 - F1 Macro: 0.8976, Accuracy: 0.9905\n",
      "\n",
      "--- 실험 3/16 진행 중 ---\n",
      "Features: base_3, Embeddings: embed_64, Tuner: optuna\n"
     ]
    },
    {
     "data": {
      "application/vnd.jupyter.widget-view+json": {
       "model_id": "dc3ecddc76de4f94aa9995cd1d077cc3",
       "version_major": 2,
       "version_minor": 0
      },
      "text/plain": [
       "  0%|          | 0/40 [00:00<?, ?it/s]"
      ]
     },
     "metadata": {},
     "output_type": "display_data"
    },
    {
     "name": "stdout",
     "output_type": "stream",
     "text": [
      "base_3 - embed_64 - optuna 최종 모델 학습\n",
      "결과 - F1 Macro: 0.9050, Accuracy: 0.9905\n",
      "\n",
      "--- 실험 4/16 진행 중 ---\n",
      "Features: base_3, Embeddings: embed_64, Tuner: random_search\n",
      "Fitting 3 folds for each of 40 candidates, totalling 120 fits\n",
      "base_3 - embed_64 - random_search 최종 모델 학습\n",
      "결과 - F1 Macro: 0.8817, Accuracy: 0.9887\n",
      "\n",
      "--- 실험 5/16 진행 중 ---\n",
      "Features: base_3, Embeddings: embed_32, Tuner: optuna\n"
     ]
    },
    {
     "data": {
      "application/vnd.jupyter.widget-view+json": {
       "model_id": "1534430e0e014a8cb1ae71e3e01a5a7b",
       "version_major": 2,
       "version_minor": 0
      },
      "text/plain": [
       "  0%|          | 0/40 [00:00<?, ?it/s]"
      ]
     },
     "metadata": {},
     "output_type": "display_data"
    },
    {
     "name": "stdout",
     "output_type": "stream",
     "text": [
      "base_3 - embed_32 - optuna 최종 모델 학습\n",
      "결과 - F1 Macro: 0.8817, Accuracy: 0.9887\n",
      "\n",
      "--- 실험 6/16 진행 중 ---\n",
      "Features: base_3, Embeddings: embed_32, Tuner: random_search\n",
      "Fitting 3 folds for each of 40 candidates, totalling 120 fits\n",
      "base_3 - embed_32 - random_search 최종 모델 학습\n",
      "결과 - F1 Macro: 0.9211, Accuracy: 0.9924\n",
      "\n",
      "--- 실험 7/16 진행 중 ---\n",
      "Features: base_3, Embeddings: embed_none, Tuner: optuna\n"
     ]
    },
    {
     "data": {
      "application/vnd.jupyter.widget-view+json": {
       "model_id": "66e87302d56b422881a4f1b8ee8cdb6b",
       "version_major": 2,
       "version_minor": 0
      },
      "text/plain": [
       "  0%|          | 0/40 [00:00<?, ?it/s]"
      ]
     },
     "metadata": {},
     "output_type": "display_data"
    },
    {
     "name": "stdout",
     "output_type": "stream",
     "text": [
      "base_3 - embed_none - optuna 최종 모델 학습\n",
      "결과 - F1 Macro: 0.9211, Accuracy: 0.9924\n",
      "\n",
      "--- 실험 8/16 진행 중 ---\n",
      "Features: base_3, Embeddings: embed_none, Tuner: random_search\n",
      "Fitting 3 folds for each of 40 candidates, totalling 120 fits\n",
      "base_3 - embed_none - random_search 최종 모델 학습\n",
      "결과 - F1 Macro: 0.9211, Accuracy: 0.9924\n",
      "\n",
      "--- 실험 9/16 진행 중 ---\n",
      "Features: full_8, Embeddings: embed_128, Tuner: optuna\n"
     ]
    },
    {
     "data": {
      "application/vnd.jupyter.widget-view+json": {
       "model_id": "c3fdda5642084bd8a11bf93efb826f20",
       "version_major": 2,
       "version_minor": 0
      },
      "text/plain": [
       "  0%|          | 0/40 [00:00<?, ?it/s]"
      ]
     },
     "metadata": {},
     "output_type": "display_data"
    },
    {
     "name": "stdout",
     "output_type": "stream",
     "text": [
      "full_8 - embed_128 - optuna 최종 모델 학습\n",
      "결과 - F1 Macro: 0.8976, Accuracy: 0.9905\n",
      "\n",
      "--- 실험 10/16 진행 중 ---\n",
      "Features: full_8, Embeddings: embed_128, Tuner: random_search\n",
      "Fitting 3 folds for each of 40 candidates, totalling 120 fits\n",
      "full_8 - embed_128 - random_search 최종 모델 학습\n",
      "결과 - F1 Macro: 0.8817, Accuracy: 0.9887\n",
      "\n",
      "--- 실험 11/16 진행 중 ---\n",
      "Features: full_8, Embeddings: embed_64, Tuner: optuna\n"
     ]
    },
    {
     "data": {
      "application/vnd.jupyter.widget-view+json": {
       "model_id": "23fdd0043b1a4ae4aca486036b52e0a6",
       "version_major": 2,
       "version_minor": 0
      },
      "text/plain": [
       "  0%|          | 0/40 [00:00<?, ?it/s]"
      ]
     },
     "metadata": {},
     "output_type": "display_data"
    },
    {
     "name": "stdout",
     "output_type": "stream",
     "text": [
      "full_8 - embed_64 - optuna 최종 모델 학습\n",
      "결과 - F1 Macro: 0.8817, Accuracy: 0.9887\n",
      "\n",
      "--- 실험 12/16 진행 중 ---\n",
      "Features: full_8, Embeddings: embed_64, Tuner: random_search\n",
      "Fitting 3 folds for each of 40 candidates, totalling 120 fits\n",
      "full_8 - embed_64 - random_search 최종 모델 학습\n",
      "결과 - F1 Macro: 0.9211, Accuracy: 0.9924\n",
      "\n",
      "--- 실험 13/16 진행 중 ---\n",
      "Features: full_8, Embeddings: embed_32, Tuner: optuna\n"
     ]
    },
    {
     "data": {
      "application/vnd.jupyter.widget-view+json": {
       "model_id": "b17590163fe646a5a90e6e7663fceeb7",
       "version_major": 2,
       "version_minor": 0
      },
      "text/plain": [
       "  0%|          | 0/40 [00:00<?, ?it/s]"
      ]
     },
     "metadata": {},
     "output_type": "display_data"
    },
    {
     "name": "stdout",
     "output_type": "stream",
     "text": [
      "full_8 - embed_32 - optuna 최종 모델 학습\n",
      "결과 - F1 Macro: 0.9050, Accuracy: 0.9905\n",
      "\n",
      "--- 실험 14/16 진행 중 ---\n",
      "Features: full_8, Embeddings: embed_32, Tuner: random_search\n",
      "Fitting 3 folds for each of 40 candidates, totalling 120 fits\n",
      "full_8 - embed_32 - random_search 최종 모델 학습\n",
      "결과 - F1 Macro: 0.8899, Accuracy: 0.9887\n",
      "\n",
      "--- 실험 15/16 진행 중 ---\n",
      "Features: full_8, Embeddings: embed_none, Tuner: optuna\n"
     ]
    },
    {
     "data": {
      "application/vnd.jupyter.widget-view+json": {
       "model_id": "0fd4bcc81fa64e27a7757b4455f7e8ef",
       "version_major": 2,
       "version_minor": 0
      },
      "text/plain": [
       "  0%|          | 0/40 [00:00<?, ?it/s]"
      ]
     },
     "metadata": {},
     "output_type": "display_data"
    },
    {
     "name": "stdout",
     "output_type": "stream",
     "text": [
      "full_8 - embed_none - optuna 최종 모델 학습\n",
      "결과 - F1 Macro: 0.8899, Accuracy: 0.9887\n",
      "\n",
      "--- 실험 16/16 진행 중 ---\n",
      "Features: full_8, Embeddings: embed_none, Tuner: random_search\n",
      "Fitting 3 folds for each of 40 candidates, totalling 120 fits\n",
      "full_8 - embed_none - random_search 최종 모델 학습\n",
      "결과 - F1 Macro: 0.9050, Accuracy: 0.9905\n",
      "\n"
     ]
    }
   ],
   "source": [
    "# --- 실험 루프 ---\n",
    "results = []\n",
    "experiment_id = 0\n",
    "total_experiments = len(feature_sets) * len(embedding_sets) * len(tuner_methods)\n",
    "\n",
    "for f_name, f_cols in feature_sets.items():\n",
    "    for e_name, e_cols in embedding_sets.items():\n",
    "\n",
    "        # 현재 조합에 사용할 전체 변수 리스트 생성\n",
    "        current_cols = f_cols + e_cols\n",
    "        X_train_exp = X_train[current_cols].copy()\n",
    "        X_test_exp = X_test[current_cols].copy()\n",
    "\n",
    "        for tuner in tuner_methods:\n",
    "            experiment_id += 1\n",
    "            print(f\"--- 실험 {experiment_id}/{total_experiments} 진행 중 ---\")\n",
    "            print(f\"Features: {f_name}, Embeddings: {e_name}, Tuner: {tuner}\")\n",
    "\n",
    "            best_params = {}\n",
    "\n",
    "            if tuner == 'optuna':\n",
    "                def objective(trial):\n",
    "                    param_optuna = {\n",
    "                        'objective': 'binary',\n",
    "                        'metric': 'binary_logloss',\n",
    "\n",
    "                        'n_estimators': 300,\n",
    "                        # 'n_estimators': 2,\n",
    "\n",
    "                        'verbose': -1,\n",
    "                        'device': 'gpu',\n",
    "                        'gpu_device_id': 0,\n",
    "\n",
    "                        'learning_rate': trial.suggest_float('learning_rate', 0.01, 0.3, log=True),\n",
    "                        'num_leaves': trial.suggest_int('num_leaves', 20, 300),\n",
    "                        'max_depth': trial.suggest_int('max_depth', 4, 10),\n",
    "                        'subsample': trial.suggest_float('subsample', 0.6, 1.0),\n",
    "                        'colsample_bytree': trial.suggest_float('colsample_bytree', 0.6, 1.0),\n",
    "                        'reg_alpha': trial.suggest_float('reg_alpha', 1e-8, 10.0, log=True),\n",
    "                        'reg_lambda': trial.suggest_float('reg_lambda', 1e-8, 10.0, log=True),\n",
    "                        'min_child_samples': trial.suggest_int('min_child_samples', 5, 100),\n",
    "                    }\n",
    "                    model = lgb.LGBMClassifier(**param_optuna)\n",
    "                    score = cross_val_score(model, X_train_exp, y_train, cv=3, scoring='f1_macro').mean()\n",
    "                    return score\n",
    "\n",
    "                study = optuna.create_study(direction='maximize')\n",
    "\n",
    "                study.optimize(objective, n_trials=40, show_progress_bar=True)\n",
    "                # study.optimize(objective, n_trials=2, show_progress_bar=True)\n",
    "\n",
    "                best_params = study.best_params\n",
    "\n",
    "            elif tuner == 'random_search':\n",
    "                param_random = {\n",
    "                    'learning_rate': uniform(0.01, 0.29),\n",
    "                    'num_leaves': randint(20, 301),\n",
    "                    'max_depth': randint(4, 11),\n",
    "                    'subsample': uniform(0.6, 0.4),\n",
    "                    'colsample_bytree': uniform(0.6, 0.4),\n",
    "                    'reg_alpha': uniform(1, 9),\n",
    "                    'reg_lambda': uniform(1, 9),\n",
    "                    'min_child_samples': randint(5, 101),\n",
    "                }\n",
    "\n",
    "                model = lgb.LGBMClassifier(objective='binary', n_estimators=300, verbose=-1, device='gpu', gpu_device_id=0)\n",
    "                # model = lgb.LGBMClassifier(objective='binary', n_estimators=2, verbose=-1, device='gpu', gpu_device_id=0)\n",
    "\n",
    "                random_search = RandomizedSearchCV(\n",
    "                    model,\n",
    "                    param_distributions=param_random,\n",
    "\n",
    "                    n_iter=40,\n",
    "                    # n_iter=2,\n",
    "\n",
    "                    cv=3,\n",
    "                    scoring='f1_macro',\n",
    "                    random_state=42,\n",
    "                    verbose=1,\n",
    "                )\n",
    "                random_search.fit(X_train_exp, y_train)\n",
    "                best_params = random_search.best_params_\n",
    "\n",
    "            # 찾은 최적의 파라미터로 최종 모델 학습\n",
    "            print(f\"{f_name} - {e_name} - {tuner} 최종 모델 학습\")\n",
    "            final_model = lgb.LGBMClassifier(\n",
    "                objective='binary',\n",
    "\n",
    "                n_estimators=1000,\n",
    "                # n_estimators=2,\n",
    "\n",
    "                device='gpu',\n",
    "                gpu_device_id=0,\n",
    "                **best_params\n",
    "            )\n",
    "            # fit 할 때 로그 출력 설정 (callbacks)\n",
    "            final_model.fit(X_train_exp, y_train, callbacks=[lgb.log_evaluation(period=200)])\n",
    "\n",
    "            # 테스트 데이터로 성능 평가\n",
    "            preds = final_model.predict(X_test_exp)\n",
    "            f1 = f1_score(y_test, preds, average='macro')\n",
    "            accuracy = accuracy_score(y_test, preds)\n",
    "\n",
    "            # 결과 저장\n",
    "            results.append({\n",
    "                \"Experiment_ID\": experiment_id,\n",
    "                \"Feature_Set\": f_name,\n",
    "                \"Embedding_Set\": e_name,\n",
    "                \"Tuner\": tuner,\n",
    "                \"Test_F1_Macro\": f1,\n",
    "                \"Test_Accuracy\": accuracy,\n",
    "                \"Best_Params\": best_params\n",
    "            })\n",
    "            print(f\"결과 - F1 Macro: {f1:.4f}, Accuracy: {accuracy:.4f}\\n\")"
   ]
  },
  {
   "cell_type": "code",
   "execution_count": null,
   "metadata": {
    "colab": {
     "background_save": true
    },
    "id": "4iJTsiU5pXyU"
   },
   "outputs": [
    {
     "name": "stdout",
     "output_type": "stream",
     "text": [
      "========== 최종 실험 결과 (F1 Score 기준 정렬) ==========\n",
      "    Experiment_ID Feature_Set Embedding_Set          Tuner  Test_F1_Macro  \\\n",
      "6               7      base_3    embed_none         optuna       0.921139   \n",
      "7               8      base_3    embed_none  random_search       0.921139   \n",
      "5               6      base_3      embed_32  random_search       0.921139   \n",
      "11             12      full_8      embed_64  random_search       0.921139   \n",
      "12             13      full_8      embed_32         optuna       0.904983   \n",
      "15             16      full_8    embed_none  random_search       0.904983   \n",
      "2               3      base_3      embed_64         optuna       0.904983   \n",
      "1               2      base_3     embed_128  random_search       0.897580   \n",
      "8               9      full_8     embed_128         optuna       0.897580   \n",
      "13             14      full_8      embed_32  random_search       0.889945   \n",
      "14             15      full_8    embed_none         optuna       0.889945   \n",
      "3               4      base_3      embed_64  random_search       0.881708   \n",
      "10             11      full_8      embed_64         optuna       0.881708   \n",
      "4               5      base_3      embed_32         optuna       0.881708   \n",
      "9              10      full_8     embed_128  random_search       0.881708   \n",
      "0               1      base_3     embed_128         optuna       0.856612   \n",
      "\n",
      "    Test_Accuracy                                        Best_Params  \n",
      "6        0.992439  {'learning_rate': 0.06398374601843189, 'num_le...  \n",
      "7        0.992439  {'colsample_bytree': 0.9265727492877536, 'lear...  \n",
      "5        0.992439  {'colsample_bytree': 0.821105986734196, 'learn...  \n",
      "11       0.992439  {'colsample_bytree': 0.6557975442608167, 'lear...  \n",
      "12       0.990548  {'learning_rate': 0.01982954158821682, 'num_le...  \n",
      "15       0.990548  {'colsample_bytree': 0.881207583558071, 'learn...  \n",
      "2        0.990548  {'learning_rate': 0.14977618097275563, 'num_le...  \n",
      "1        0.990548  {'colsample_bytree': 0.8940864476963089, 'lear...  \n",
      "8        0.990548  {'learning_rate': 0.036187185139625426, 'num_l...  \n",
      "13       0.988658  {'colsample_bytree': 0.9705203514053395, 'lear...  \n",
      "14       0.988658  {'learning_rate': 0.2824586453805144, 'num_lea...  \n",
      "3        0.988658  {'colsample_bytree': 0.6812244898939077, 'lear...  \n",
      "10       0.988658  {'learning_rate': 0.2833811027753352, 'num_lea...  \n",
      "4        0.988658  {'learning_rate': 0.18555100350103693, 'num_le...  \n",
      "9        0.988658  {'colsample_bytree': 0.6812244898939077, 'lear...  \n",
      "0        0.986767  {'learning_rate': 0.022351164437134908, 'num_l...  \n"
     ]
    }
   ],
   "source": [
    "# --- 4. 최종 결과 취합 및 출력 ---\n",
    "results_df = pd.DataFrame(results)\n",
    "results_df_sorted = results_df.sort_values(by='Test_F1_Macro', ascending=False)\n",
    "\n",
    "print(\"========== 최종 실험 결과 (F1 Score 기준 정렬) ==========\")\n",
    "print(results_df_sorted)"
   ]
  },
  {
   "cell_type": "markdown",
   "metadata": {
    "id": "QjfWyG7lpY8f"
   },
   "source": [
    "## 4) 최종 모델 생성"
   ]
  },
  {
   "cell_type": "code",
   "execution_count": null,
   "metadata": {
    "colab": {
     "background_save": true
    },
    "id": "cYBvlKDDpagX"
   },
   "outputs": [
    {
     "name": "stdout",
     "output_type": "stream",
     "text": [
      "\n",
      "========== 최고 성능 모델 재학습 및 저장 ==========\n",
      "최고 성능 조합: Features='base_3', Embeddings='embed_none'\n",
      "최고 성능 하이퍼파라미터: {'learning_rate': 0.06398374601843189, 'num_leaves': 300, 'max_depth': 5, 'subsample': 0.8483074793478456, 'colsample_bytree': 0.6648295066168521, 'reg_alpha': 7.20665738233704, 'reg_lambda': 1.1661611886993247e-05, 'min_child_samples': 28}\n",
      "\n",
      "최고 성능 모델 전체 데이터로 재학습 시작...\n",
      "재학습 완료.\n",
      "최고 성능 모델을 'lightgbm_model_10k.txt' 파일로 저장했습니다. 💾\n"
     ]
    }
   ],
   "source": [
    "# --- 5. 최고 성능 모델 재학습 및 저장 (LightGBM 버전) ---\n",
    "print(\"\\n========== 최고 성능 모델 재학습 및 저장 ==========\")\n",
    "\n",
    "# 5-1. 가장 점수가 높았던 실험의 설정 가져오기\n",
    "best_experiment = results_df_sorted.iloc[0]\n",
    "best_f_name = best_experiment['Feature_Set']\n",
    "best_e_name = best_experiment['Embedding_Set']\n",
    "best_params = best_experiment['Best_Params']\n",
    "\n",
    "print(f\"최고 성능 조합: Features='{best_f_name}', Embeddings='{best_e_name}'\")\n",
    "print(f\"최고 성능 하이퍼파라미터: {best_params}\")\n",
    "\n",
    "# 5-2. 최고 성능 조합에 맞는 전체 데이터 준비\n",
    "best_f_cols = feature_sets[best_f_name]\n",
    "best_e_cols = embedding_sets[best_e_name]\n",
    "best_current_cols = best_f_cols + best_e_cols\n",
    "\n",
    "# 전체 데이터 X에서 최고 성능의 변수들만 선택\n",
    "X_best_features = X[best_current_cols].copy() # .copy() 추가\n",
    "\n",
    "# 5-3. 최고 성능 파라미터로 최종 모델 생성\n",
    "best_model = lgb.LGBMClassifier(\n",
    "    objective='binary',\n",
    "    n_estimators=1000,\n",
    "    device='gpu',\n",
    "    gpu_device_id=0,\n",
    "    **best_params\n",
    ")\n",
    "\n",
    "print(\"\\n최고 성능 모델 전체 데이터로 재학습 시작...\")\n",
    "# 전체 데이터(X_best_features, y)로 최종 학습\n",
    "best_model.fit(\n",
    "    X_best_features,\n",
    "    y,\n",
    "    callbacks=[lgb.log_evaluation(period=200)] # verbose -> callbacks\n",
    ")\n",
    "print(\"재학습 완료.\")\n",
    "\n",
    "# 5-4. 모델 파일로 저장 (★★ LightGBM 핵심 부분 ★★)\n",
    "# .booster_ 속성을 통해 LightGBM의 핵심 모델에 접근하여 저장합니다.\n",
    "best_model.booster_.save_model(\"/content/drive/MyDrive/비어플/25-2/model/lightgbm_model_5m.txt\")\n",
    "print(\"최고 성능 모델을 'lightgbm_model_10k.txt' 파일로 저장했습니다. 💾\")"
   ]
  }
 ],
 "metadata": {
  "accelerator": "GPU",
  "colab": {
   "authorship_tag": "ABX9TyOyCGK5qdRCrrb4mBlM2eE+",
   "gpuType": "L4",
   "machine_shape": "hm",
   "mount_file_id": "1B170yWG68X0OqOy9i4JiJy6PFHak8L70",
   "name": "",
   "toc_visible": true,
   "version": ""
  },
  "kernelspec": {
   "display_name": "Python 3",
   "name": "python3"
  },
  "language_info": {
   "name": "python"
  },
  "widgets": {
   "application/vnd.jupyter.widget-state+json": {
    "21cf11ea2e9f487ba5a51a18a2898414": {
     "model_module": "@jupyter-widgets/base",
     "model_module_version": "1.2.0",
     "model_name": "LayoutModel",
     "state": {
      "_model_module": "@jupyter-widgets/base",
      "_model_module_version": "1.2.0",
      "_model_name": "LayoutModel",
      "_view_count": null,
      "_view_module": "@jupyter-widgets/base",
      "_view_module_version": "1.2.0",
      "_view_name": "LayoutView",
      "align_content": null,
      "align_items": null,
      "align_self": null,
      "border": null,
      "bottom": null,
      "display": null,
      "flex": null,
      "flex_flow": null,
      "grid_area": null,
      "grid_auto_columns": null,
      "grid_auto_flow": null,
      "grid_auto_rows": null,
      "grid_column": null,
      "grid_gap": null,
      "grid_row": null,
      "grid_template_areas": null,
      "grid_template_columns": null,
      "grid_template_rows": null,
      "height": null,
      "justify_content": null,
      "justify_items": null,
      "left": null,
      "margin": null,
      "max_height": null,
      "max_width": null,
      "min_height": null,
      "min_width": null,
      "object_fit": null,
      "object_position": null,
      "order": null,
      "overflow": null,
      "overflow_x": null,
      "overflow_y": null,
      "padding": null,
      "right": null,
      "top": null,
      "visibility": null,
      "width": null
     }
    },
    "27149734be804aa38ac0671edcfba512": {
     "model_module": "@jupyter-widgets/controls",
     "model_module_version": "1.5.0",
     "model_name": "ProgressStyleModel",
     "state": {
      "_model_module": "@jupyter-widgets/controls",
      "_model_module_version": "1.5.0",
      "_model_name": "ProgressStyleModel",
      "_view_count": null,
      "_view_module": "@jupyter-widgets/base",
      "_view_module_version": "1.2.0",
      "_view_name": "StyleView",
      "bar_color": null,
      "description_width": ""
     }
    },
    "3f6096abf5fd42e0bd65ac03dd056ce6": {
     "model_module": "@jupyter-widgets/controls",
     "model_module_version": "1.5.0",
     "model_name": "DescriptionStyleModel",
     "state": {
      "_model_module": "@jupyter-widgets/controls",
      "_model_module_version": "1.5.0",
      "_model_name": "DescriptionStyleModel",
      "_view_count": null,
      "_view_module": "@jupyter-widgets/base",
      "_view_module_version": "1.2.0",
      "_view_name": "StyleView",
      "description_width": ""
     }
    },
    "4b5813ad519c4c01a0ad0a1353440793": {
     "model_module": "@jupyter-widgets/controls",
     "model_module_version": "1.5.0",
     "model_name": "DescriptionStyleModel",
     "state": {
      "_model_module": "@jupyter-widgets/controls",
      "_model_module_version": "1.5.0",
      "_model_name": "DescriptionStyleModel",
      "_view_count": null,
      "_view_module": "@jupyter-widgets/base",
      "_view_module_version": "1.2.0",
      "_view_name": "StyleView",
      "description_width": ""
     }
    },
    "7a9891cfef2f47b7afc9a32f5cf60270": {
     "model_module": "@jupyter-widgets/controls",
     "model_module_version": "1.5.0",
     "model_name": "HTMLModel",
     "state": {
      "_dom_classes": [],
      "_model_module": "@jupyter-widgets/controls",
      "_model_module_version": "1.5.0",
      "_model_name": "HTMLModel",
      "_view_count": null,
      "_view_module": "@jupyter-widgets/controls",
      "_view_module_version": "1.5.0",
      "_view_name": "HTMLView",
      "description": "",
      "description_tooltip": null,
      "layout": "IPY_MODEL_eb4ce37f3be24542a08a3379220f77f8",
      "placeholder": "​",
      "style": "IPY_MODEL_3f6096abf5fd42e0bd65ac03dd056ce6",
      "value": "Best trial: 2. Best value: 0.918223:   8%"
     }
    },
    "974b90860ef94fc4b94c461a836c9b29": {
     "model_module": "@jupyter-widgets/base",
     "model_module_version": "1.2.0",
     "model_name": "LayoutModel",
     "state": {
      "_model_module": "@jupyter-widgets/base",
      "_model_module_version": "1.2.0",
      "_model_name": "LayoutModel",
      "_view_count": null,
      "_view_module": "@jupyter-widgets/base",
      "_view_module_version": "1.2.0",
      "_view_name": "LayoutView",
      "align_content": null,
      "align_items": null,
      "align_self": null,
      "border": null,
      "bottom": null,
      "display": null,
      "flex": null,
      "flex_flow": null,
      "grid_area": null,
      "grid_auto_columns": null,
      "grid_auto_flow": null,
      "grid_auto_rows": null,
      "grid_column": null,
      "grid_gap": null,
      "grid_row": null,
      "grid_template_areas": null,
      "grid_template_columns": null,
      "grid_template_rows": null,
      "height": null,
      "justify_content": null,
      "justify_items": null,
      "left": null,
      "margin": null,
      "max_height": null,
      "max_width": null,
      "min_height": null,
      "min_width": null,
      "object_fit": null,
      "object_position": null,
      "order": null,
      "overflow": null,
      "overflow_x": null,
      "overflow_y": null,
      "padding": null,
      "right": null,
      "top": null,
      "visibility": null,
      "width": null
     }
    },
    "a7e2f36a98bc4688a054a3ffebae928f": {
     "model_module": "@jupyter-widgets/controls",
     "model_module_version": "1.5.0",
     "model_name": "HBoxModel",
     "state": {
      "_dom_classes": [],
      "_model_module": "@jupyter-widgets/controls",
      "_model_module_version": "1.5.0",
      "_model_name": "HBoxModel",
      "_view_count": null,
      "_view_module": "@jupyter-widgets/controls",
      "_view_module_version": "1.5.0",
      "_view_name": "HBoxView",
      "box_style": "",
      "children": [
       "IPY_MODEL_7a9891cfef2f47b7afc9a32f5cf60270",
       "IPY_MODEL_db7746b7ce864ccc92655303399d32fe",
       "IPY_MODEL_b15922d1317a43e187dc52da1f72b60d"
      ],
      "layout": "IPY_MODEL_d59a0fc478d344a6907217f469f36cc3"
     }
    },
    "b15922d1317a43e187dc52da1f72b60d": {
     "model_module": "@jupyter-widgets/controls",
     "model_module_version": "1.5.0",
     "model_name": "HTMLModel",
     "state": {
      "_dom_classes": [],
      "_model_module": "@jupyter-widgets/controls",
      "_model_module_version": "1.5.0",
      "_model_name": "HTMLModel",
      "_view_count": null,
      "_view_module": "@jupyter-widgets/controls",
      "_view_module_version": "1.5.0",
      "_view_name": "HTMLView",
      "description": "",
      "description_tooltip": null,
      "layout": "IPY_MODEL_21cf11ea2e9f487ba5a51a18a2898414",
      "placeholder": "​",
      "style": "IPY_MODEL_4b5813ad519c4c01a0ad0a1353440793",
      "value": " 3/40 [00:20&lt;04:05,  6.64s/it]"
     }
    },
    "d59a0fc478d344a6907217f469f36cc3": {
     "model_module": "@jupyter-widgets/base",
     "model_module_version": "1.2.0",
     "model_name": "LayoutModel",
     "state": {
      "_model_module": "@jupyter-widgets/base",
      "_model_module_version": "1.2.0",
      "_model_name": "LayoutModel",
      "_view_count": null,
      "_view_module": "@jupyter-widgets/base",
      "_view_module_version": "1.2.0",
      "_view_name": "LayoutView",
      "align_content": null,
      "align_items": null,
      "align_self": null,
      "border": null,
      "bottom": null,
      "display": null,
      "flex": null,
      "flex_flow": null,
      "grid_area": null,
      "grid_auto_columns": null,
      "grid_auto_flow": null,
      "grid_auto_rows": null,
      "grid_column": null,
      "grid_gap": null,
      "grid_row": null,
      "grid_template_areas": null,
      "grid_template_columns": null,
      "grid_template_rows": null,
      "height": null,
      "justify_content": null,
      "justify_items": null,
      "left": null,
      "margin": null,
      "max_height": null,
      "max_width": null,
      "min_height": null,
      "min_width": null,
      "object_fit": null,
      "object_position": null,
      "order": null,
      "overflow": null,
      "overflow_x": null,
      "overflow_y": null,
      "padding": null,
      "right": null,
      "top": null,
      "visibility": null,
      "width": null
     }
    },
    "db7746b7ce864ccc92655303399d32fe": {
     "model_module": "@jupyter-widgets/controls",
     "model_module_version": "1.5.0",
     "model_name": "FloatProgressModel",
     "state": {
      "_dom_classes": [],
      "_model_module": "@jupyter-widgets/controls",
      "_model_module_version": "1.5.0",
      "_model_name": "FloatProgressModel",
      "_view_count": null,
      "_view_module": "@jupyter-widgets/controls",
      "_view_module_version": "1.5.0",
      "_view_name": "ProgressView",
      "bar_style": "",
      "description": "",
      "description_tooltip": null,
      "layout": "IPY_MODEL_974b90860ef94fc4b94c461a836c9b29",
      "max": 40,
      "min": 0,
      "orientation": "horizontal",
      "style": "IPY_MODEL_27149734be804aa38ac0671edcfba512",
      "value": 3
     }
    },
    "eb4ce37f3be24542a08a3379220f77f8": {
     "model_module": "@jupyter-widgets/base",
     "model_module_version": "1.2.0",
     "model_name": "LayoutModel",
     "state": {
      "_model_module": "@jupyter-widgets/base",
      "_model_module_version": "1.2.0",
      "_model_name": "LayoutModel",
      "_view_count": null,
      "_view_module": "@jupyter-widgets/base",
      "_view_module_version": "1.2.0",
      "_view_name": "LayoutView",
      "align_content": null,
      "align_items": null,
      "align_self": null,
      "border": null,
      "bottom": null,
      "display": null,
      "flex": null,
      "flex_flow": null,
      "grid_area": null,
      "grid_auto_columns": null,
      "grid_auto_flow": null,
      "grid_auto_rows": null,
      "grid_column": null,
      "grid_gap": null,
      "grid_row": null,
      "grid_template_areas": null,
      "grid_template_columns": null,
      "grid_template_rows": null,
      "height": null,
      "justify_content": null,
      "justify_items": null,
      "left": null,
      "margin": null,
      "max_height": null,
      "max_width": null,
      "min_height": null,
      "min_width": null,
      "object_fit": null,
      "object_position": null,
      "order": null,
      "overflow": null,
      "overflow_x": null,
      "overflow_y": null,
      "padding": null,
      "right": null,
      "top": null,
      "visibility": null,
      "width": null
     }
    }
   }
  }
 },
 "nbformat": 4,
 "nbformat_minor": 0
}
