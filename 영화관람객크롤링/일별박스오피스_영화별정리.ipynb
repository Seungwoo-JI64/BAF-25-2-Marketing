{
 "cells": [
  {
   "cell_type": "markdown",
   "id": "33303f4a",
   "metadata": {},
   "source": [
    "일별박스오피스데이터 폴더 속의 일별 박스오피스 데이터를 전부 취합한다  \n",
    "이후 각 영화별로 날짜를 정리한다"
   ]
  },
  {
   "cell_type": "code",
   "execution_count": 1,
   "id": "8ca3fc8a",
   "metadata": {},
   "outputs": [],
   "source": [
    "import pandas as pd\n",
    "import os\n",
    "import glob\n",
    "from tqdm import tqdm\n",
    "import re"
   ]
  },
  {
   "cell_type": "code",
   "execution_count": 2,
   "id": "70a4ae2b",
   "metadata": {},
   "outputs": [],
   "source": [
    "movie_folder = \"일별박스오피스데이터\"\n",
    "search_pattern = os.path.join(movie_folder, '*.csv')\n",
    "file_list = glob.glob(search_pattern)"
   ]
  },
  {
   "cell_type": "code",
   "execution_count": 3,
   "id": "60f44458",
   "metadata": {},
   "outputs": [
    {
     "name": "stderr",
     "output_type": "stream",
     "text": [
      "100%|██████████| 7970/7970 [06:30<00:00, 20.42it/s]\n"
     ]
    }
   ],
   "source": [
    "full_data = pd.DataFrame()  # 모든 데이터를 담을 빈 데이터프레임 생성\n",
    "for file_path in tqdm(file_list):\n",
    "    file_name = os.path.basename(file_path)[:-4] #일별 날짜\n",
    "    temp=pd.read_csv(file_path, encoding='utf-8-sig') #각 일자별 박스오피스 데이터\n",
    "    temp=temp[[\"영화명\",\"개봉일\",\"매출액\", \"관객수\", \"스크린수\",\"상영횟수\",\"대표국적\",\"배급사\",\"등급\",\"장르\",\"감독\",\"배우\"]]\n",
    "    temp['일자']=file_name\n",
    "    full_data = pd.concat([full_data, temp], ignore_index=True)\n",
    "    \n",
    "    \n"
   ]
  },
  {
   "cell_type": "code",
   "execution_count": 4,
   "id": "c884be2a",
   "metadata": {},
   "outputs": [
    {
     "data": {
      "text/html": [
       "<div>\n",
       "<style scoped>\n",
       "    .dataframe tbody tr th:only-of-type {\n",
       "        vertical-align: middle;\n",
       "    }\n",
       "\n",
       "    .dataframe tbody tr th {\n",
       "        vertical-align: top;\n",
       "    }\n",
       "\n",
       "    .dataframe thead th {\n",
       "        text-align: right;\n",
       "    }\n",
       "</style>\n",
       "<table border=\"1\" class=\"dataframe\">\n",
       "  <thead>\n",
       "    <tr style=\"text-align: right;\">\n",
       "      <th></th>\n",
       "      <th>영화명</th>\n",
       "      <th>개봉일</th>\n",
       "      <th>매출액</th>\n",
       "      <th>관객수</th>\n",
       "      <th>스크린수</th>\n",
       "      <th>상영횟수</th>\n",
       "      <th>대표국적</th>\n",
       "      <th>배급사</th>\n",
       "      <th>등급</th>\n",
       "      <th>장르</th>\n",
       "      <th>감독</th>\n",
       "      <th>배우</th>\n",
       "      <th>일자</th>\n",
       "    </tr>\n",
       "  </thead>\n",
       "  <tbody>\n",
       "    <tr>\n",
       "      <th>681081</th>\n",
       "      <td>미션 임파서블: 파이널 레코닝</td>\n",
       "      <td>2025-05-17</td>\n",
       "      <td>8000</td>\n",
       "      <td>1</td>\n",
       "      <td>1</td>\n",
       "      <td>1</td>\n",
       "      <td>미국</td>\n",
       "      <td>롯데컬처웍스(주)롯데엔터테인먼트</td>\n",
       "      <td>15세이상관람가</td>\n",
       "      <td>액션</td>\n",
       "      <td>크리스토퍼 맥쿼리</td>\n",
       "      <td>톰 크루즈,헤일리 앳웰,빙 라메스,사이먼 페그,바네사 커비,에사이 모랄레스,폼 클레...</td>\n",
       "      <td>2025-09-06</td>\n",
       "    </tr>\n",
       "    <tr>\n",
       "      <th>681082</th>\n",
       "      <td>이빨요정 비올레타: 요정나라로 돌아갈래!</td>\n",
       "      <td>2023-11-18</td>\n",
       "      <td>0</td>\n",
       "      <td>0</td>\n",
       "      <td>1</td>\n",
       "      <td>1</td>\n",
       "      <td>독일</td>\n",
       "      <td>TCO(주)더콘텐츠온</td>\n",
       "      <td>전체관람가</td>\n",
       "      <td>애니메이션,판타지,어드벤처</td>\n",
       "      <td>NaN</td>\n",
       "      <td>NaN</td>\n",
       "      <td>2025-09-06</td>\n",
       "    </tr>\n",
       "    <tr>\n",
       "      <th>681083</th>\n",
       "      <td>해피엔드</td>\n",
       "      <td>2025-04-30</td>\n",
       "      <td>0</td>\n",
       "      <td>0</td>\n",
       "      <td>1</td>\n",
       "      <td>1</td>\n",
       "      <td>일본</td>\n",
       "      <td>(주)영화사 진진,(주)스튜디오 산타클로스엔터테인먼트</td>\n",
       "      <td>15세이상관람가</td>\n",
       "      <td>드라마</td>\n",
       "      <td>소라 네오</td>\n",
       "      <td>쿠리하라 하야토,히다카 유키토,하야시 유타,시나 펭,아라지,이노리 키라라,나카지마 아유무</td>\n",
       "      <td>2025-09-06</td>\n",
       "    </tr>\n",
       "    <tr>\n",
       "      <th>681084</th>\n",
       "      <td>파과</td>\n",
       "      <td>2025-04-30</td>\n",
       "      <td>0</td>\n",
       "      <td>0</td>\n",
       "      <td>1</td>\n",
       "      <td>1</td>\n",
       "      <td>한국</td>\n",
       "      <td>(주)넥스트엔터테인먼트월드(NEW)</td>\n",
       "      <td>15세이상관람가</td>\n",
       "      <td>액션,드라마,미스터리</td>\n",
       "      <td>민규동</td>\n",
       "      <td>이혜영,김성철,연우진,김무열,신시아,옥자연,김강우,최무성,양주미,양주미</td>\n",
       "      <td>2025-09-06</td>\n",
       "    </tr>\n",
       "    <tr>\n",
       "      <th>681085</th>\n",
       "      <td>딸에 대하여</td>\n",
       "      <td>2024-09-04</td>\n",
       "      <td>0</td>\n",
       "      <td>0</td>\n",
       "      <td>1</td>\n",
       "      <td>1</td>\n",
       "      <td>한국</td>\n",
       "      <td>찬란,스튜디오 에이드</td>\n",
       "      <td>12세이상관람가</td>\n",
       "      <td>드라마</td>\n",
       "      <td>이미랑</td>\n",
       "      <td>오민애,허진,임세미,하윤경,신정섭</td>\n",
       "      <td>2025-09-06</td>\n",
       "    </tr>\n",
       "  </tbody>\n",
       "</table>\n",
       "</div>"
      ],
      "text/plain": [
       "                           영화명         개봉일   매출액  관객수  스크린수  상영횟수 대표국적  \\\n",
       "681081        미션 임파서블: 파이널 레코닝  2025-05-17  8000    1     1     1   미국   \n",
       "681082  이빨요정 비올레타: 요정나라로 돌아갈래!  2023-11-18     0    0     1     1   독일   \n",
       "681083                    해피엔드  2025-04-30     0    0     1     1   일본   \n",
       "681084                      파과  2025-04-30     0    0     1     1   한국   \n",
       "681085                  딸에 대하여  2024-09-04     0    0     1     1   한국   \n",
       "\n",
       "                                  배급사        등급              장르         감독  \\\n",
       "681081              롯데컬처웍스(주)롯데엔터테인먼트  15세이상관람가              액션  크리스토퍼 맥쿼리   \n",
       "681082                    TCO(주)더콘텐츠온     전체관람가  애니메이션,판타지,어드벤처        NaN   \n",
       "681083  (주)영화사 진진,(주)스튜디오 산타클로스엔터테인먼트  15세이상관람가             드라마      소라 네오   \n",
       "681084            (주)넥스트엔터테인먼트월드(NEW)  15세이상관람가     액션,드라마,미스터리        민규동   \n",
       "681085                    찬란,스튜디오 에이드  12세이상관람가             드라마        이미랑   \n",
       "\n",
       "                                                       배우          일자  \n",
       "681081  톰 크루즈,헤일리 앳웰,빙 라메스,사이먼 페그,바네사 커비,에사이 모랄레스,폼 클레...  2025-09-06  \n",
       "681082                                                NaN  2025-09-06  \n",
       "681083  쿠리하라 하야토,히다카 유키토,하야시 유타,시나 펭,아라지,이노리 키라라,나카지마 아유무  2025-09-06  \n",
       "681084            이혜영,김성철,연우진,김무열,신시아,옥자연,김강우,최무성,양주미,양주미  2025-09-06  \n",
       "681085                                 오민애,허진,임세미,하윤경,신정섭  2025-09-06  "
      ]
     },
     "execution_count": 4,
     "metadata": {},
     "output_type": "execute_result"
    }
   ],
   "source": [
    "full_data.tail()"
   ]
  },
  {
   "cell_type": "code",
   "execution_count": 16,
   "id": "9efaeef1",
   "metadata": {},
   "outputs": [],
   "source": [
    "full_data.to_csv(\"원본_박스오피스_데이터.csv\", index=False, encoding='utf-8-sig')"
   ]
  },
  {
   "cell_type": "markdown",
   "id": "0a3c94ea",
   "metadata": {},
   "source": [
    "## 영화 목록 추출"
   ]
  },
  {
   "cell_type": "code",
   "execution_count": 5,
   "id": "842c2ecb",
   "metadata": {},
   "outputs": [],
   "source": [
    "movie_list=pd.DataFrame(list(full_data[\"영화명\"].unique()), columns=['영화명'])"
   ]
  },
  {
   "cell_type": "code",
   "execution_count": 6,
   "id": "7978793b",
   "metadata": {},
   "outputs": [],
   "source": [
    "movie_list.to_csv(\"영화목록.csv\", index=False, encoding='utf-8-sig')"
   ]
  },
  {
   "cell_type": "code",
   "execution_count": 7,
   "id": "ee8dac5b",
   "metadata": {},
   "outputs": [
    {
     "data": {
      "text/plain": [
       "Index([39995], dtype='int64')"
      ]
     },
     "execution_count": 7,
     "metadata": {},
     "output_type": "execute_result"
    }
   ],
   "source": [
    "movie_list['영화명'][movie_list['영화명']=='동생 몰래 잔뜩 맛본 제부의 맛 무삭제판'].index"
   ]
  },
  {
   "cell_type": "markdown",
   "id": "85050e89",
   "metadata": {},
   "source": [
    "영화 목록에 번호 추가 (인덱스용)"
   ]
  },
  {
   "cell_type": "code",
   "execution_count": 3,
   "id": "afbe21ba",
   "metadata": {},
   "outputs": [],
   "source": [
    "import pandas as pd\n",
    "temp_list=pd.read_csv(\"영화목록.csv\", encoding=\"utf-8-sig\")\n",
    "temp_list[\"인덱스\"]=temp_list.index+1\n",
    "temp_list.to_csv(\"영화목록.csv\", index=False, encoding='utf-8-sig')"
   ]
  },
  {
   "cell_type": "markdown",
   "id": "af68dcbd",
   "metadata": {},
   "source": [
    "## 영화별 추출"
   ]
  },
  {
   "cell_type": "code",
   "execution_count": 15,
   "id": "febf0e01",
   "metadata": {},
   "outputs": [
    {
     "name": "stderr",
     "output_type": "stream",
     "text": [
      "100%|██████████| 2700/2700 [01:50<00:00, 24.45it/s]\n"
     ]
    }
   ],
   "source": [
    "# 파일명으로 사용할 수 없는 특수문자를 제거하는 함수\n",
    "def clean_filename(name):\n",
    "    # 정규표현식을 사용하여 파일명에 부적합한 문자를 빈 문자열('')로 치환\n",
    "    # 제거할 문자: \\ / : * ? \" < > | \\t \\n \\r\n",
    "    cleaned_name = re.sub(r'[\\\\/*?:\"<>|!\\t\\n\\r]', '', name)\n",
    "    return cleaned_name\n",
    "\n",
    "# 재개봉 판단 로직 함수\n",
    "def get_release_label(group_id):\n",
    "    if group_id == 1:\n",
    "        return '최초 개봉'\n",
    "    else:\n",
    "        return f'{group_id - 1}차 재개봉'\n",
    "    \n",
    "# tqdm 라이브러리를 사용하여 진행 상황을 확인하며 파일 저장\n",
    "for movie_title in tqdm(movie_list['영화명']):\n",
    "    # 1. 원본 영화 제목으로 데이터 필터링\n",
    "    temp_movie_data = full_data[full_data['영화명'] == movie_title].copy()\n",
    "\n",
    "    #재개봉 판단 로직\n",
    "    threshold = pd.Timedelta(days=240) #임계치 8개월\n",
    "    temp_movie_data[\"일자\"] = pd.to_datetime(temp_movie_data[\"일자\"], errors='coerce')\n",
    "    date_diffs = temp_movie_data['일자'].diff()\n",
    "    release_group_id = (date_diffs > threshold).cumsum() + 1\n",
    "    temp_movie_data['개봉 구분'] = release_group_id.apply(get_release_label)\n",
    "\n",
    "    \n",
    "    # 2. 파일명에 부적합한 문자를 제거\n",
    "    safe_filename = clean_filename(movie_title)\n",
    "    \n",
    "    # 3. 안전한 파일명으로 CSV 저장\n",
    "    temp_movie_data.to_csv(f\"영화별박스오피스데이터/{safe_filename}.csv\", index=False, encoding='utf-8-sig')"
   ]
  },
  {
   "cell_type": "markdown",
   "id": "ef3a1742",
   "metadata": {},
   "source": [
    "## 전처리한 모든 박스오피스 데이터 통합"
   ]
  },
  {
   "cell_type": "code",
   "execution_count": 17,
   "id": "7fcd78e5",
   "metadata": {},
   "outputs": [],
   "source": [
    "result=pd.DataFrame()"
   ]
  },
  {
   "cell_type": "code",
   "execution_count": 18,
   "id": "a2b519f2",
   "metadata": {},
   "outputs": [],
   "source": [
    "movie_folder = \"영화별박스오피스데이터\"\n",
    "search_pattern = os.path.join(movie_folder, '*.csv')\n",
    "file_list = glob.glob(search_pattern)"
   ]
  },
  {
   "cell_type": "code",
   "execution_count": 23,
   "id": "fddea704",
   "metadata": {},
   "outputs": [
    {
     "name": "stderr",
     "output_type": "stream",
     "text": [
      "100%|██████████| 42696/42696 [52:31<00:00, 13.55it/s]\n"
     ]
    }
   ],
   "source": [
    "for file_path in tqdm(file_list):\n",
    "    temp=pd.read_csv(file_path, encoding='utf-8-sig') #각 일자별 박스오피스 데이터\n",
    "    result = pd.concat([result, temp], ignore_index=True)"
   ]
  },
  {
   "cell_type": "code",
   "execution_count": 24,
   "id": "f3367128",
   "metadata": {},
   "outputs": [],
   "source": [
    "result.to_csv(\"최종_박스오피스_데이터.csv\", index=False, encoding='utf-8-sig')"
   ]
  }
 ],
 "metadata": {
  "kernelspec": {
   "display_name": "base",
   "language": "python",
   "name": "python3"
  },
  "language_info": {
   "codemirror_mode": {
    "name": "ipython",
    "version": 3
   },
   "file_extension": ".py",
   "mimetype": "text/x-python",
   "name": "python",
   "nbconvert_exporter": "python",
   "pygments_lexer": "ipython3",
   "version": "3.12.7"
  }
 },
 "nbformat": 4,
 "nbformat_minor": 5
}
