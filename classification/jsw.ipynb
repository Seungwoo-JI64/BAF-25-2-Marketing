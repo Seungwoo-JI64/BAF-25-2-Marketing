{
 "cells": [
  {
   "cell_type": "markdown",
   "id": "02744737",
   "metadata": {
    "id": "02744737"
   },
   "source": [
    "# 이곳에서는\n",
    "각 영화의 박스오피스 특징을 살펴본다  \n",
    "특히 초반 흥행, 추반 입소문 영화를 구분하는데에 도전한다"
   ]
  },
  {
   "cell_type": "markdown",
   "id": "f876a956",
   "metadata": {
    "id": "f876a956"
   },
   "source": [
    "이전 분석에서는 총 관객수와 총 상영주차, 상영횟수는 상관이 없었다.  \n",
    "현재 분석에서는 총 관객수와 총 상영주차 두 데이터를 사용한다.  \n",
    "그 이유는 2주차 까지의 데이터가 총 관객수와 큰 차이가 없을 경우 초반 흥행으로 판단할 수 있기 때문이다.  \n",
    "따라서 최종 분석에서는 2주차 까지의 영화 패턴이랑 예측한 총 관객수 두개를 결합 비교해야 한다.  \n",
    "총 상영주차는 총 관객수와 상관이 없으므로 예측 모델을 생성할 수 없었다. (그냥 지멋대로라고 생각한다)  \n",
    "따라서 이거는 영화 데이터의 분포적 특성을 통해 파악할 수 있도록 한다. (이걸 통해 예측을 대체할 수 있을지도)"
   ]
  },
  {
   "cell_type": "markdown",
   "id": "f5e2d8e2",
   "metadata": {
    "id": "f5e2d8e2"
   },
   "source": [
    "즉, 해당 분석에서 총 관객수는 사용해도 괜찮다. 최종 분석에서는 2주차 데이터 + 예측 총 관객수 데이터를 사용하기 때문이다 (물론 해당 모델의 신뢰도가 높아야 한다)  \n",
    "따라서 총 상영주차는 분석의 재료로 사용되어서는 안된다. 분석의 대상이 되어야 한다."
   ]
  },
  {
   "cell_type": "markdown",
   "id": "f347b2d4",
   "metadata": {
    "id": "f347b2d4"
   },
   "source": [
    "# 라이브러리"
   ]
  },
  {
   "cell_type": "code",
   "execution_count": 98,
   "id": "fb84f7e3",
   "metadata": {
    "id": "fb84f7e3"
   },
   "outputs": [],
   "source": [
    "import pandas as pd\n",
    "import numpy as np\n",
    "import matplotlib.pyplot as plt\n",
    "import seaborn as sns\n",
    "from sklearn.cluster import KMeans\n",
    "from yellowbrick.cluster import KElbowVisualizer\n",
    "from sklearn.metrics import silhouette_score\n",
    "from sklearn.metrics import silhouette_samples\n",
    "from yellowbrick.cluster import SilhouetteVisualizer\n",
    "from factor_analyzer import FactorAnalyzer\n",
    "from factor_analyzer.factor_analyzer import calculate_bartlett_sphericity, calculate_kmo\n",
    "from sklearn.preprocessing import StandardScaler\n",
    "import ast\n",
    "from matplotlib import colormaps\n",
    "from matplotlib import patches as mpatches\n",
    "import math"
   ]
  },
  {
   "cell_type": "code",
   "execution_count": 99,
   "id": "4052a04e",
   "metadata": {
    "id": "4052a04e",
    "outputId": "2e37fe44-2aea-4452-8248-9a5a24bba71c"
   },
   "outputs": [
    {
     "name": "stdout",
     "output_type": "stream",
     "text": [
      "The koreanize_matplotlib module is not an IPython extension.\n"
     ]
    }
   ],
   "source": [
    "%load_ext koreanize_matplotlib\n"
   ]
  },
  {
   "cell_type": "markdown",
   "id": "22f2f372",
   "metadata": {
    "id": "22f2f372"
   },
   "source": [
    "# 데이터"
   ]
  },
  {
   "cell_type": "markdown",
   "id": "e94520c6",
   "metadata": {
    "id": "e94520c6"
   },
   "source": [
    "1만명 ~ 500만명 영화만 사용한다  \n",
    "현재의 분석에선 배우, 감독 장르 벡터는 사용하지 않는다"
   ]
  },
  {
   "cell_type": "code",
   "execution_count": 100,
   "id": "66d2a4f2",
   "metadata": {
    "id": "66d2a4f2"
   },
   "outputs": [],
   "source": [
    "data_train = pd.read_csv(\"../model/model_train_data.csv\", encoding=\"utf-8-sig\")\n",
    "data_test = pd.read_csv(\"../model/model_test_data.csv\", encoding=\"utf-8-sig\")\n",
    "data_full = pd.concat([data_train, data_test], axis=0).reset_index(drop=True)"
   ]
  },
  {
   "cell_type": "markdown",
   "id": "8957fc68",
   "metadata": {
    "id": "8957fc68"
   },
   "source": [
    "각 영화의 장르 벡터도 가져온다 (배우, 감독 장르 벡터가 아니다)"
   ]
  },
  {
   "cell_type": "code",
   "execution_count": 101,
   "id": "58e83da5",
   "metadata": {
    "id": "58e83da5"
   },
   "outputs": [],
   "source": [
    "movie_genre = pd.read_csv(\"../analysis/movie_genre_multi_hot.csv\", encoding=\"utf-8-sig\")"
   ]
  },
  {
   "cell_type": "code",
   "execution_count": 102,
   "id": "3d6fb07e",
   "metadata": {
    "id": "3d6fb07e",
    "outputId": "d74dab26-6060-4a3a-c683-3bbd0e90c253"
   },
   "outputs": [
    {
     "data": {
      "text/html": [
       "<div>\n",
       "<style scoped>\n",
       "    .dataframe tbody tr th:only-of-type {\n",
       "        vertical-align: middle;\n",
       "    }\n",
       "\n",
       "    .dataframe tbody tr th {\n",
       "        vertical-align: top;\n",
       "    }\n",
       "\n",
       "    .dataframe thead th {\n",
       "        text-align: right;\n",
       "    }\n",
       "</style>\n",
       "<table border=\"1\" class=\"dataframe\">\n",
       "  <thead>\n",
       "    <tr style=\"text-align: right;\">\n",
       "      <th></th>\n",
       "      <th>Movie_Title</th>\n",
       "      <th>genre_multi_hot</th>\n",
       "    </tr>\n",
       "  </thead>\n",
       "  <tbody>\n",
       "    <tr>\n",
       "      <th>0</th>\n",
       "      <td>#살아있다</td>\n",
       "      <td>[1, 0, 0, 0, 0, 0, 0, 0, 0, 0, 0, 0, 0, 0, 0, ...</td>\n",
       "    </tr>\n",
       "    <tr>\n",
       "      <th>1</th>\n",
       "      <td>#아이엠히어</td>\n",
       "      <td>[0, 1, 0, 0, 0, 0, 0, 1, 0, 0, 0, 0, 0, 0, 0, ...</td>\n",
       "    </tr>\n",
       "    <tr>\n",
       "      <th>2</th>\n",
       "      <td>#위왓치유</td>\n",
       "      <td>[0, 0, 1, 0, 0, 0, 0, 0, 0, 0, 0, 0, 0, 0, 0, ...</td>\n",
       "    </tr>\n",
       "    <tr>\n",
       "      <th>3</th>\n",
       "      <td>(여자)아이들 월드투어 [아이돌] 인 시네마</td>\n",
       "      <td>[0, 0, 0, 1, 0, 0, 0, 0, 0, 0, 0, 0, 0, 0, 0, ...</td>\n",
       "    </tr>\n",
       "    <tr>\n",
       "      <th>4</th>\n",
       "      <td>0.0MHz</td>\n",
       "      <td>[0, 0, 0, 0, 1, 0, 0, 0, 0, 0, 0, 0, 0, 0, 0, ...</td>\n",
       "    </tr>\n",
       "  </tbody>\n",
       "</table>\n",
       "</div>"
      ],
      "text/plain": [
       "                Movie_Title                                    genre_multi_hot\n",
       "0                     #살아있다  [1, 0, 0, 0, 0, 0, 0, 0, 0, 0, 0, 0, 0, 0, 0, ...\n",
       "1                    #아이엠히어  [0, 1, 0, 0, 0, 0, 0, 1, 0, 0, 0, 0, 0, 0, 0, ...\n",
       "2                     #위왓치유  [0, 0, 1, 0, 0, 0, 0, 0, 0, 0, 0, 0, 0, 0, 0, ...\n",
       "3  (여자)아이들 월드투어 [아이돌] 인 시네마  [0, 0, 0, 1, 0, 0, 0, 0, 0, 0, 0, 0, 0, 0, 0, ...\n",
       "4                    0.0MHz  [0, 0, 0, 0, 1, 0, 0, 0, 0, 0, 0, 0, 0, 0, 0, ..."
      ]
     },
     "execution_count": 102,
     "metadata": {},
     "output_type": "execute_result"
    }
   ],
   "source": [
    "movie_genre.head()"
   ]
  },
  {
   "cell_type": "code",
   "execution_count": 103,
   "id": "dd11e630",
   "metadata": {
    "id": "dd11e630"
   },
   "outputs": [],
   "source": [
    "def _ensure_list_of_ints(x):\n",
    "    \"\"\"\n",
    "    genre_multi_hot이 object형(리스트) 또는 문자열('[0,1,0,...]')이어도\n",
    "    안전하게 정수 리스트로 변환\n",
    "    \"\"\"\n",
    "    if x is None or (isinstance(x, float) and np.isnan(x)):\n",
    "        return None\n",
    "    if isinstance(x, list):\n",
    "        return [int(v) for v in x]\n",
    "    if isinstance(x, np.ndarray):\n",
    "        return [int(v) for v in x.tolist()]\n",
    "    if isinstance(x, str):\n",
    "        s = x.strip()\n",
    "        try:\n",
    "            arr = ast.literal_eval(s)  # '[0,1,0]' → [0,1,0]\n",
    "            return [int(v) for v in arr]\n",
    "        except Exception:\n",
    "            # '0,1,0' 같은 형태 대비\n",
    "            s = s.strip(\"[]\")\n",
    "            parts = [p.strip() for p in s.split(\",\") if p.strip() != \"\"]\n",
    "            return [int(float(p)) for p in parts]\n",
    "    # 그 외 타입은 실패 처리\n",
    "    raise ValueError(f\"genre_multi_hot 값을 리스트로 변환할 수 없습니다: {x}\")"
   ]
  },
  {
   "cell_type": "code",
   "execution_count": 104,
   "id": "15d2d332",
   "metadata": {
    "id": "15d2d332",
    "outputId": "fdf04c89-cff1-47fd-c263-bbecfd22a208"
   },
   "outputs": [
    {
     "data": {
      "text/html": [
       "<div>\n",
       "<style scoped>\n",
       "    .dataframe tbody tr th:only-of-type {\n",
       "        vertical-align: middle;\n",
       "    }\n",
       "\n",
       "    .dataframe tbody tr th {\n",
       "        vertical-align: top;\n",
       "    }\n",
       "\n",
       "    .dataframe thead th {\n",
       "        text-align: right;\n",
       "    }\n",
       "</style>\n",
       "<table border=\"1\" class=\"dataframe\">\n",
       "  <thead>\n",
       "    <tr style=\"text-align: right;\">\n",
       "      <th></th>\n",
       "      <th>드라마</th>\n",
       "      <th>멜로/로맨스</th>\n",
       "      <th>다큐멘터리</th>\n",
       "      <th>공연</th>\n",
       "      <th>공포(호러)</th>\n",
       "      <th>액션</th>\n",
       "      <th>애니메이션</th>\n",
       "      <th>코미디</th>\n",
       "      <th>스릴러</th>\n",
       "      <th>SF</th>\n",
       "      <th>미스터리</th>\n",
       "      <th>어드벤처</th>\n",
       "      <th>범죄</th>\n",
       "      <th>판타지</th>\n",
       "      <th>전쟁</th>\n",
       "      <th>가족</th>\n",
       "      <th>사극</th>\n",
       "      <th>뮤지컬</th>\n",
       "    </tr>\n",
       "  </thead>\n",
       "  <tbody>\n",
       "    <tr>\n",
       "      <th>0</th>\n",
       "      <td>1</td>\n",
       "      <td>0</td>\n",
       "      <td>0</td>\n",
       "      <td>0</td>\n",
       "      <td>0</td>\n",
       "      <td>0</td>\n",
       "      <td>0</td>\n",
       "      <td>0</td>\n",
       "      <td>0</td>\n",
       "      <td>0</td>\n",
       "      <td>0</td>\n",
       "      <td>0</td>\n",
       "      <td>0</td>\n",
       "      <td>0</td>\n",
       "      <td>0</td>\n",
       "      <td>0</td>\n",
       "      <td>0</td>\n",
       "      <td>0</td>\n",
       "    </tr>\n",
       "    <tr>\n",
       "      <th>1</th>\n",
       "      <td>0</td>\n",
       "      <td>1</td>\n",
       "      <td>0</td>\n",
       "      <td>0</td>\n",
       "      <td>0</td>\n",
       "      <td>0</td>\n",
       "      <td>0</td>\n",
       "      <td>1</td>\n",
       "      <td>0</td>\n",
       "      <td>0</td>\n",
       "      <td>0</td>\n",
       "      <td>0</td>\n",
       "      <td>0</td>\n",
       "      <td>0</td>\n",
       "      <td>0</td>\n",
       "      <td>0</td>\n",
       "      <td>0</td>\n",
       "      <td>0</td>\n",
       "    </tr>\n",
       "  </tbody>\n",
       "</table>\n",
       "</div>"
      ],
      "text/plain": [
       "   드라마  멜로/로맨스  다큐멘터리  공연  공포(호러)  액션  애니메이션  코미디  스릴러  SF  미스터리  어드벤처  범죄  \\\n",
       "0    1       0      0   0       0   0      0    0    0   0     0     0   0   \n",
       "1    0       1      0   0       0   0      0    1    0   0     0     0   0   \n",
       "\n",
       "   판타지  전쟁  가족  사극  뮤지컬  \n",
       "0    0   0   0   0    0  \n",
       "1    0   0   0   0    0  "
      ]
     },
     "execution_count": 104,
     "metadata": {},
     "output_type": "execute_result"
    }
   ],
   "source": [
    "genre_vector = pd.DataFrame(list(movie_genre[\"genre_multi_hot\"].apply(_ensure_list_of_ints)), columns=['드라마', '멜로/로맨스', '다큐멘터리', '공연', '공포(호러)', '액션', '애니메이션', '코미디', '스릴러', 'SF', '미스터리', '어드벤처', '범죄', '판타지', '전쟁', '가족', '사극', '뮤지컬'])\n",
    "genre_vector.head(2)"
   ]
  },
  {
   "cell_type": "code",
   "execution_count": 105,
   "id": "0d0c4adb",
   "metadata": {
    "id": "0d0c4adb"
   },
   "outputs": [],
   "source": [
    "movie_genre = pd.concat([movie_genre[['Movie_Title']], genre_vector], axis=1)"
   ]
  },
  {
   "cell_type": "markdown",
   "id": "f8e551c4",
   "metadata": {
    "id": "f8e551c4"
   },
   "source": [
    "줄거리 임베딩 벡터는 사용하지 않는다"
   ]
  },
  {
   "cell_type": "code",
   "execution_count": 106,
   "id": "daa9626b",
   "metadata": {
    "id": "daa9626b"
   },
   "outputs": [],
   "source": [
    "embedding_list = [f\"e{i}\" for i in range(1, 256+1)]\n",
    "data_full.drop(columns=embedding_list, inplace=True)"
   ]
  },
  {
   "cell_type": "code",
   "execution_count": 107,
   "id": "3609cb0d",
   "metadata": {
    "id": "3609cb0d"
   },
   "outputs": [],
   "source": [
    "data_full.drop(columns=[\"Total_Show_Days\"], inplace=True)"
   ]
  },
  {
   "cell_type": "code",
   "execution_count": 108,
   "id": "5d85c006",
   "metadata": {
    "id": "5d85c006",
    "outputId": "9475b9b8-3501-4371-8b51-47f9ffc77fd5"
   },
   "outputs": [
    {
     "data": {
      "text/html": [
       "<div>\n",
       "<style scoped>\n",
       "    .dataframe tbody tr th:only-of-type {\n",
       "        vertical-align: middle;\n",
       "    }\n",
       "\n",
       "    .dataframe tbody tr th {\n",
       "        vertical-align: top;\n",
       "    }\n",
       "\n",
       "    .dataframe thead th {\n",
       "        text-align: right;\n",
       "    }\n",
       "</style>\n",
       "<table border=\"1\" class=\"dataframe\">\n",
       "  <thead>\n",
       "    <tr style=\"text-align: right;\">\n",
       "      <th></th>\n",
       "      <th>Movie_Title</th>\n",
       "      <th>Total_Audience_Count</th>\n",
       "      <th>Total_Weeks</th>\n",
       "      <th>wk1_Audience</th>\n",
       "      <th>wk1_AudiencePerShow</th>\n",
       "      <th>wk2_Audience</th>\n",
       "      <th>wk2_AudiencePerShow</th>\n",
       "      <th>Show_Change</th>\n",
       "      <th>opening_Ho_Retention</th>\n",
       "      <th>wk1_Holiday_AudienceMean</th>\n",
       "      <th>wk1_Holiday_ShowMean</th>\n",
       "      <th>wk2_Holiday_AudienceMean</th>\n",
       "      <th>wk2_Holiday_ShowMean</th>\n",
       "      <th>opening_AudienceStd</th>\n",
       "      <th>Year</th>\n",
       "      <th>Month</th>\n",
       "      <th>Pandemic</th>\n",
       "      <th>dist_big_flop</th>\n",
       "      <th>dist_big_hit</th>\n",
       "      <th>dist_small_flop</th>\n",
       "      <th>dist_small_hit</th>\n",
       "      <th>Grade</th>\n",
       "      <th>Main_Country</th>\n",
       "    </tr>\n",
       "  </thead>\n",
       "  <tbody>\n",
       "    <tr>\n",
       "      <th>0</th>\n",
       "      <td>도쿄 리벤저스</td>\n",
       "      <td>13122</td>\n",
       "      <td>8</td>\n",
       "      <td>8617.0</td>\n",
       "      <td>5.654199</td>\n",
       "      <td>2925</td>\n",
       "      <td>5.034423</td>\n",
       "      <td>0.381234</td>\n",
       "      <td>0.130780</td>\n",
       "      <td>1762.50</td>\n",
       "      <td>288.00</td>\n",
       "      <td>230.5</td>\n",
       "      <td>18.5</td>\n",
       "      <td>786.574025</td>\n",
       "      <td>2022</td>\n",
       "      <td>1</td>\n",
       "      <td>1</td>\n",
       "      <td>0.0</td>\n",
       "      <td>1.0</td>\n",
       "      <td>0.0</td>\n",
       "      <td>0.0</td>\n",
       "      <td>15세이상관람가</td>\n",
       "      <td>일본</td>\n",
       "    </tr>\n",
       "    <tr>\n",
       "      <th>1</th>\n",
       "      <td>매직브러시</td>\n",
       "      <td>169106</td>\n",
       "      <td>8</td>\n",
       "      <td>145560.0</td>\n",
       "      <td>37.670807</td>\n",
       "      <td>18117</td>\n",
       "      <td>14.717303</td>\n",
       "      <td>0.318582</td>\n",
       "      <td>0.182869</td>\n",
       "      <td>33644.25</td>\n",
       "      <td>835.75</td>\n",
       "      <td>6152.5</td>\n",
       "      <td>207.0</td>\n",
       "      <td>19587.819778</td>\n",
       "      <td>2016</td>\n",
       "      <td>5</td>\n",
       "      <td>0</td>\n",
       "      <td>1.0</td>\n",
       "      <td>0.0</td>\n",
       "      <td>0.0</td>\n",
       "      <td>0.0</td>\n",
       "      <td>전체관람가</td>\n",
       "      <td>기타</td>\n",
       "    </tr>\n",
       "  </tbody>\n",
       "</table>\n",
       "</div>"
      ],
      "text/plain": [
       "  Movie_Title  Total_Audience_Count  Total_Weeks  wk1_Audience  \\\n",
       "0     도쿄 리벤저스                 13122            8        8617.0   \n",
       "1       매직브러시                169106            8      145560.0   \n",
       "\n",
       "   wk1_AudiencePerShow  wk2_Audience  wk2_AudiencePerShow  Show_Change  \\\n",
       "0             5.654199          2925             5.034423     0.381234   \n",
       "1            37.670807         18117            14.717303     0.318582   \n",
       "\n",
       "   opening_Ho_Retention  wk1_Holiday_AudienceMean  wk1_Holiday_ShowMean  \\\n",
       "0              0.130780                   1762.50                288.00   \n",
       "1              0.182869                  33644.25                835.75   \n",
       "\n",
       "   wk2_Holiday_AudienceMean  wk2_Holiday_ShowMean  opening_AudienceStd  Year  \\\n",
       "0                     230.5                  18.5           786.574025  2022   \n",
       "1                    6152.5                 207.0         19587.819778  2016   \n",
       "\n",
       "   Month  Pandemic  dist_big_flop  dist_big_hit  dist_small_flop  \\\n",
       "0      1         1            0.0           1.0              0.0   \n",
       "1      5         0            1.0           0.0              0.0   \n",
       "\n",
       "   dist_small_hit     Grade Main_Country  \n",
       "0             0.0  15세이상관람가           일본  \n",
       "1             0.0     전체관람가           기타  "
      ]
     },
     "execution_count": 108,
     "metadata": {},
     "output_type": "execute_result"
    }
   ],
   "source": [
    "pd.set_option('display.max_columns', None)\n",
    "data_full.head(2)"
   ]
  },
  {
   "cell_type": "markdown",
   "id": "ac502fa3",
   "metadata": {
    "id": "ac502fa3"
   },
   "source": [
    "grade, main country 원핫인코딩"
   ]
  },
  {
   "cell_type": "code",
   "execution_count": 109,
   "id": "ad0bff2d",
   "metadata": {
    "id": "ad0bff2d",
    "outputId": "04e3d710-a5d0-413f-bcc3-bda28869e226"
   },
   "outputs": [
    {
     "data": {
      "text/html": [
       "<div>\n",
       "<style scoped>\n",
       "    .dataframe tbody tr th:only-of-type {\n",
       "        vertical-align: middle;\n",
       "    }\n",
       "\n",
       "    .dataframe tbody tr th {\n",
       "        vertical-align: top;\n",
       "    }\n",
       "\n",
       "    .dataframe thead th {\n",
       "        text-align: right;\n",
       "    }\n",
       "</style>\n",
       "<table border=\"1\" class=\"dataframe\">\n",
       "  <thead>\n",
       "    <tr style=\"text-align: right;\">\n",
       "      <th></th>\n",
       "      <th>Movie_Title</th>\n",
       "      <th>Total_Audience_Count</th>\n",
       "      <th>Total_Weeks</th>\n",
       "      <th>wk1_Audience</th>\n",
       "      <th>wk1_AudiencePerShow</th>\n",
       "      <th>wk2_Audience</th>\n",
       "      <th>wk2_AudiencePerShow</th>\n",
       "      <th>Show_Change</th>\n",
       "      <th>opening_Ho_Retention</th>\n",
       "      <th>wk1_Holiday_AudienceMean</th>\n",
       "      <th>wk1_Holiday_ShowMean</th>\n",
       "      <th>wk2_Holiday_AudienceMean</th>\n",
       "      <th>wk2_Holiday_ShowMean</th>\n",
       "      <th>opening_AudienceStd</th>\n",
       "      <th>Year</th>\n",
       "      <th>Month</th>\n",
       "      <th>Pandemic</th>\n",
       "      <th>dist_big_flop</th>\n",
       "      <th>dist_big_hit</th>\n",
       "      <th>dist_small_flop</th>\n",
       "      <th>dist_small_hit</th>\n",
       "      <th>Grade_15세이상관람가</th>\n",
       "      <th>Grade_전체관람가</th>\n",
       "      <th>Grade_청소년관람불가</th>\n",
       "      <th>Main_Country_미국</th>\n",
       "      <th>Main_Country_일본</th>\n",
       "      <th>Main_Country_한국</th>\n",
       "    </tr>\n",
       "  </thead>\n",
       "  <tbody>\n",
       "    <tr>\n",
       "      <th>0</th>\n",
       "      <td>도쿄 리벤저스</td>\n",
       "      <td>13122</td>\n",
       "      <td>8</td>\n",
       "      <td>8617.0</td>\n",
       "      <td>5.654199</td>\n",
       "      <td>2925</td>\n",
       "      <td>5.034423</td>\n",
       "      <td>0.381234</td>\n",
       "      <td>0.130780</td>\n",
       "      <td>1762.50</td>\n",
       "      <td>288.00</td>\n",
       "      <td>230.5</td>\n",
       "      <td>18.5</td>\n",
       "      <td>786.574025</td>\n",
       "      <td>2022</td>\n",
       "      <td>1</td>\n",
       "      <td>1</td>\n",
       "      <td>0.0</td>\n",
       "      <td>1.0</td>\n",
       "      <td>0.0</td>\n",
       "      <td>0.0</td>\n",
       "      <td>1</td>\n",
       "      <td>0</td>\n",
       "      <td>0</td>\n",
       "      <td>0</td>\n",
       "      <td>1</td>\n",
       "      <td>0</td>\n",
       "    </tr>\n",
       "    <tr>\n",
       "      <th>1</th>\n",
       "      <td>매직브러시</td>\n",
       "      <td>169106</td>\n",
       "      <td>8</td>\n",
       "      <td>145560.0</td>\n",
       "      <td>37.670807</td>\n",
       "      <td>18117</td>\n",
       "      <td>14.717303</td>\n",
       "      <td>0.318582</td>\n",
       "      <td>0.182869</td>\n",
       "      <td>33644.25</td>\n",
       "      <td>835.75</td>\n",
       "      <td>6152.5</td>\n",
       "      <td>207.0</td>\n",
       "      <td>19587.819778</td>\n",
       "      <td>2016</td>\n",
       "      <td>5</td>\n",
       "      <td>0</td>\n",
       "      <td>1.0</td>\n",
       "      <td>0.0</td>\n",
       "      <td>0.0</td>\n",
       "      <td>0.0</td>\n",
       "      <td>0</td>\n",
       "      <td>1</td>\n",
       "      <td>0</td>\n",
       "      <td>0</td>\n",
       "      <td>0</td>\n",
       "      <td>0</td>\n",
       "    </tr>\n",
       "  </tbody>\n",
       "</table>\n",
       "</div>"
      ],
      "text/plain": [
       "  Movie_Title  Total_Audience_Count  Total_Weeks  wk1_Audience  \\\n",
       "0     도쿄 리벤저스                 13122            8        8617.0   \n",
       "1       매직브러시                169106            8      145560.0   \n",
       "\n",
       "   wk1_AudiencePerShow  wk2_Audience  wk2_AudiencePerShow  Show_Change  \\\n",
       "0             5.654199          2925             5.034423     0.381234   \n",
       "1            37.670807         18117            14.717303     0.318582   \n",
       "\n",
       "   opening_Ho_Retention  wk1_Holiday_AudienceMean  wk1_Holiday_ShowMean  \\\n",
       "0              0.130780                   1762.50                288.00   \n",
       "1              0.182869                  33644.25                835.75   \n",
       "\n",
       "   wk2_Holiday_AudienceMean  wk2_Holiday_ShowMean  opening_AudienceStd  Year  \\\n",
       "0                     230.5                  18.5           786.574025  2022   \n",
       "1                    6152.5                 207.0         19587.819778  2016   \n",
       "\n",
       "   Month  Pandemic  dist_big_flop  dist_big_hit  dist_small_flop  \\\n",
       "0      1         1            0.0           1.0              0.0   \n",
       "1      5         0            1.0           0.0              0.0   \n",
       "\n",
       "   dist_small_hit  Grade_15세이상관람가  Grade_전체관람가  Grade_청소년관람불가  \\\n",
       "0             0.0               1            0              0   \n",
       "1             0.0               0            1              0   \n",
       "\n",
       "   Main_Country_미국  Main_Country_일본  Main_Country_한국  \n",
       "0                0                1                0  \n",
       "1                0                0                0  "
      ]
     },
     "execution_count": 109,
     "metadata": {},
     "output_type": "execute_result"
    }
   ],
   "source": [
    "make_dummies_cols = [\"Grade\", \"Main_Country\"]\n",
    "data_no_dummies = data_full.copy()\n",
    "data_full = pd.get_dummies(data_full, columns=make_dummies_cols, drop_first=True)\n",
    "one_hot_cols = [col for col in data_full.columns if col.startswith(\"Grade_\") or col.startswith(\"Main_Country_\")]\n",
    "data_full[one_hot_cols] = data_full[one_hot_cols].astype(\"int8\")\n",
    "data_full.head(2)"
   ]
  },
  {
   "cell_type": "markdown",
   "id": "6a21750d",
   "metadata": {
    "id": "6a21750d"
   },
   "source": [
    "박스오피스 데이터랑 장르 벡터랑 결합"
   ]
  },
  {
   "cell_type": "code",
   "execution_count": 110,
   "id": "1b9ca601",
   "metadata": {
    "id": "1b9ca601"
   },
   "outputs": [],
   "source": [
    "data_full = pd.merge(data_full, movie_genre, how=\"left\", on=\"Movie_Title\")"
   ]
  },
  {
   "cell_type": "code",
   "execution_count": 111,
   "id": "404ac6df",
   "metadata": {
    "id": "404ac6df"
   },
   "outputs": [],
   "source": [
    "movie_title = data_full[[\"Movie_Title\"]].copy()\n",
    "movie_data = data_full.drop(columns=[\"Movie_Title\"]).copy()"
   ]
  },
  {
   "cell_type": "markdown",
   "id": "73ca89ab",
   "metadata": {
    "id": "73ca89ab"
   },
   "source": [
    "# 1. 영화 흥행 유형 구분 라벨 생성"
   ]
  },
  {
   "cell_type": "markdown",
   "id": "a985828d",
   "metadata": {
    "id": "a985828d"
   },
   "source": [
    "### 변수 생성"
   ]
  },
  {
   "cell_type": "code",
   "execution_count": 112,
   "id": "eeb9a987",
   "metadata": {
    "id": "eeb9a987"
   },
   "outputs": [],
   "source": [
    "temp1 = movie_data[[\"Total_Audience_Count\", \"wk1_Audience\", \"wk2_Audience\"]].copy()\n",
    "temp1.loc[:,\"con_wk2\"] = temp1[\"wk1_Audience\"] + temp1[\"wk2_Audience\"]\n",
    "temp1.loc[:,\"wk1_wk2\"] = round((temp1[\"con_wk2\"]/temp1[\"wk1_Audience\"]-1)*100, 2)\n",
    "temp1.loc[:,\"wk2_total\"] = round((temp1[\"Total_Audience_Count\"]/temp1[\"con_wk2\"]-1)*100, 2)"
   ]
  },
  {
   "cell_type": "markdown",
   "id": "2ea82881",
   "metadata": {
    "id": "2ea82881"
   },
   "source": [
    "`wk1_wk2` : 1주차와 2주차의 관객수 변화율(백분율)  \n",
    "`wk2_total` : 2주차와 총 관객수의 변화율(백분율)  \n",
    "\n",
    "이제 이걸 통해 초반 흥행과 후반 흥행을 분류할 수 있는지 확인한다"
   ]
  },
  {
   "cell_type": "code",
   "execution_count": 113,
   "id": "ea089338",
   "metadata": {
    "id": "ea089338",
    "outputId": "a1feefb6-5578-4986-cfbc-0814100b46c4"
   },
   "outputs": [
    {
     "data": {
      "text/html": [
       "<div>\n",
       "<style scoped>\n",
       "    .dataframe tbody tr th:only-of-type {\n",
       "        vertical-align: middle;\n",
       "    }\n",
       "\n",
       "    .dataframe tbody tr th {\n",
       "        vertical-align: top;\n",
       "    }\n",
       "\n",
       "    .dataframe thead th {\n",
       "        text-align: right;\n",
       "    }\n",
       "</style>\n",
       "<table border=\"1\" class=\"dataframe\">\n",
       "  <thead>\n",
       "    <tr style=\"text-align: right;\">\n",
       "      <th></th>\n",
       "      <th>wk1_wk2</th>\n",
       "      <th>wk2_total</th>\n",
       "    </tr>\n",
       "  </thead>\n",
       "  <tbody>\n",
       "    <tr>\n",
       "      <th>count</th>\n",
       "      <td>2568.000000</td>\n",
       "      <td>2568.000000</td>\n",
       "    </tr>\n",
       "    <tr>\n",
       "      <th>mean</th>\n",
       "      <td>75.819206</td>\n",
       "      <td>42.726908</td>\n",
       "    </tr>\n",
       "    <tr>\n",
       "      <th>std</th>\n",
       "      <td>51.384244</td>\n",
       "      <td>247.551834</td>\n",
       "    </tr>\n",
       "    <tr>\n",
       "      <th>min</th>\n",
       "      <td>2.730000</td>\n",
       "      <td>0.000000</td>\n",
       "    </tr>\n",
       "    <tr>\n",
       "      <th>25%</th>\n",
       "      <td>42.912500</td>\n",
       "      <td>6.485000</td>\n",
       "    </tr>\n",
       "    <tr>\n",
       "      <th>50%</th>\n",
       "      <td>64.820000</td>\n",
       "      <td>17.135000</td>\n",
       "    </tr>\n",
       "    <tr>\n",
       "      <th>75%</th>\n",
       "      <td>95.305000</td>\n",
       "      <td>42.582500</td>\n",
       "    </tr>\n",
       "    <tr>\n",
       "      <th>max</th>\n",
       "      <td>718.180000</td>\n",
       "      <td>11595.360000</td>\n",
       "    </tr>\n",
       "  </tbody>\n",
       "</table>\n",
       "</div>"
      ],
      "text/plain": [
       "           wk1_wk2     wk2_total\n",
       "count  2568.000000   2568.000000\n",
       "mean     75.819206     42.726908\n",
       "std      51.384244    247.551834\n",
       "min       2.730000      0.000000\n",
       "25%      42.912500      6.485000\n",
       "50%      64.820000     17.135000\n",
       "75%      95.305000     42.582500\n",
       "max     718.180000  11595.360000"
      ]
     },
     "execution_count": 113,
     "metadata": {},
     "output_type": "execute_result"
    }
   ],
   "source": [
    "cluster_1 = temp1[[\"wk1_wk2\", \"wk2_total\"]].copy()\n",
    "cluster_1.describe()"
   ]
  },
  {
   "cell_type": "markdown",
   "id": "1c47cbf6",
   "metadata": {
    "id": "1c47cbf6"
   },
   "source": [
    "`ratio` : `wk1_wk2`와 `wk2_total`의 비율\n",
    "이것으로 초반 오픈형인지, 후반 입소문형인지, 균형형인지 구분한다"
   ]
  },
  {
   "cell_type": "code",
   "execution_count": 114,
   "id": "24a32716",
   "metadata": {
    "id": "24a32716"
   },
   "outputs": [],
   "source": [
    "cluster_1.loc[:,\"ratio\"] = cluster_1[\"wk2_total\"]/cluster_1[\"wk1_wk2\"]"
   ]
  },
  {
   "cell_type": "markdown",
   "id": "d5a37c57",
   "metadata": {
    "id": "d5a37c57"
   },
   "source": [
    "`diff`값이 크면 초반 주차에 후반 주차보다 관객이 많이 몰렸다는 것이다"
   ]
  },
  {
   "cell_type": "code",
   "execution_count": 115,
   "id": "12b2e586",
   "metadata": {
    "id": "12b2e586",
    "outputId": "062bb0db-1bb6-4db9-d736-14c618c8cdf0"
   },
   "outputs": [
    {
     "data": {
      "text/plain": [
       "<Axes: xlabel='ratio', ylabel='Count'>"
      ]
     },
     "execution_count": 115,
     "metadata": {},
     "output_type": "execute_result"
    },
    {
     "data": {
      "image/png": "[encoded data removed]",
      "text/plain": [
       "<Figure size 1200x600 with 1 Axes>"
      ]
     },
     "metadata": {},
     "output_type": "display_data"
    }
   ],
   "source": [
    "plt.figure(figsize=(12, 6))\n",
    "sns.histplot(cluster_1['ratio'], kde=True)"
   ]
  },
  {
   "cell_type": "markdown",
   "id": "6455b7b0",
   "metadata": {
    "id": "6455b7b0"
   },
   "source": [
    "### 이상치 탐지"
   ]
  },
  {
   "cell_type": "code",
   "execution_count": 116,
   "id": "814459b0",
   "metadata": {
    "id": "814459b0",
    "outputId": "8fb71f45-0ad2-476a-a702-ce5118a8bff4"
   },
   "outputs": [
    {
     "data": {
      "text/plain": [
       "{'whiskers': [<matplotlib.lines.Line2D at 0x289c842cb90>,\n",
       "  <matplotlib.lines.Line2D at 0x289c842ce60>],\n",
       " 'caps': [<matplotlib.lines.Line2D at 0x289c842d130>,\n",
       "  <matplotlib.lines.Line2D at 0x289c842d340>],\n",
       " 'boxes': [<matplotlib.lines.Line2D at 0x289c842cbc0>],\n",
       " 'medians': [<matplotlib.lines.Line2D at 0x289c842d610>],\n",
       " 'fliers': [<matplotlib.lines.Line2D at 0x289c842d8e0>],\n",
       " 'means': []}"
      ]
     },
     "execution_count": 116,
     "metadata": {},
     "output_type": "execute_result"
    },
    {
     "data": {
      "image/png": "[encoded data removed]",
      "text/plain": [
       "<Figure size 800x550 with 1 Axes>"
      ]
     },
     "metadata": {},
     "output_type": "display_data"
    }
   ],
   "source": [
    "plt.boxplot(cluster_1['ratio'])"
   ]
  },
  {
   "cell_type": "code",
   "execution_count": 117,
   "id": "49dabbc0",
   "metadata": {
    "id": "49dabbc0",
    "outputId": "4bf87079-f348-43cd-805f-c604b9175611"
   },
   "outputs": [
    {
     "data": {
      "text/plain": [
       "<Axes: xlabel='ratio', ylabel='Count'>"
      ]
     },
     "execution_count": 117,
     "metadata": {},
     "output_type": "execute_result"
    },
    {
     "data": {
      "image/png": "[encoded data removed]",
      "text/plain": [
       "<Figure size 1200x600 with 1 Axes>"
      ]
     },
     "metadata": {},
     "output_type": "display_data"
    }
   ],
   "source": [
    "#박스플롯 기준 이상치 탐지\n",
    "def find_outliers_iqr(data_series):\n",
    "    Q1 = data_series.quantile(0.25)\n",
    "    Q3 = data_series.quantile(0.75)\n",
    "    IQR = Q3 - Q1\n",
    "    lower_bound = Q1 - 1.5 * IQR\n",
    "    upper_bound = Q3 + 1.5 * IQR\n",
    "    return (data_series < lower_bound) | (data_series > upper_bound)\n",
    "\n",
    "is_outlier = cluster_1[['ratio']].apply(find_outliers_iqr)\n",
    "\n",
    "cluster_1_box = cluster_1[~is_outlier['ratio']].copy()\n",
    "plt.figure(figsize=(12, 6))\n",
    "sns.histplot(cluster_1_box['ratio'], kde=True)"
   ]
  },
  {
   "cell_type": "markdown",
   "id": "b11ab743",
   "metadata": {
    "id": "b11ab743"
   },
   "source": [
    "사실 2주차 까지와 2주차 ~ 상영종료일까지의 간격은 클수밖에 없다. 따라서 박스플롯으로 이상치 제거는 하지 않는것이 좋을 것 같다 (이상치같지만 이상치가 아니다)"
   ]
  },
  {
   "cell_type": "code",
   "execution_count": 118,
   "id": "4ee6a4dc",
   "metadata": {
    "id": "4ee6a4dc",
    "outputId": "5fd48217-4652-4f4c-f4ea-3a36423987b5"
   },
   "outputs": [
    {
     "data": {
      "text/plain": [
       "count    2568.000000\n",
       "mean        0.422740\n",
       "std         0.971192\n",
       "min         0.000000\n",
       "25%         0.132043\n",
       "50%         0.270109\n",
       "75%         0.499638\n",
       "max        41.441601\n",
       "Name: ratio, dtype: float64"
      ]
     },
     "execution_count": 118,
     "metadata": {},
     "output_type": "execute_result"
    }
   ],
   "source": [
    "cluster_1['ratio'].describe()"
   ]
  },
  {
   "cell_type": "markdown",
   "id": "8f940d9f",
   "metadata": {
    "id": "8f940d9f"
   },
   "source": [
    "### 영화 흥행 유형"
   ]
  },
  {
   "cell_type": "markdown",
   "id": "ef4a423c",
   "metadata": {
    "id": "ef4a423c"
   },
   "source": [
    "백분위수를 통해 구분한다"
   ]
  },
  {
   "cell_type": "code",
   "execution_count": 119,
   "id": "1ae48cc7",
   "metadata": {
    "id": "1ae48cc7",
    "outputId": "3f3392c3-8e10-4293-bdc5-f0dd76b4cec4"
   },
   "outputs": [
    {
     "name": "stdout",
     "output_type": "stream",
     "text": [
      "33백분위수 (하위 그룹 경계): 0.17\n",
      "66백분위수 (상위 그룹 경계): 0.40\n"
     ]
    }
   ],
   "source": [
    "# 33, 66 백분위수 계산\n",
    "p33 = cluster_1['ratio'].quantile(0.33)\n",
    "p66 = cluster_1['ratio'].quantile(0.66)\n",
    "\n",
    "print(f\"33백분위수 (하위 그룹 경계): {p33:.2f}\")\n",
    "print(f\"66백분위수 (상위 그룹 경계): {p66:.2f}\")"
   ]
  },
  {
   "cell_type": "code",
   "execution_count": 120,
   "id": "ef7bdead",
   "metadata": {
    "id": "ef7bdead",
    "outputId": "39d08ed6-1fab-47e7-b39f-130d9fd4b9cb"
   },
   "outputs": [
    {
     "name": "stdout",
     "output_type": "stream",
     "text": [
      "ratio < 1인 경우 백분위수: 93.03\n"
     ]
    }
   ],
   "source": [
    "percentile_lt = (cluster_1['ratio'] < 1).mean() * 100\n",
    "print(f\"ratio < 1인 경우 백분위수: {percentile_lt:.2f}\")"
   ]
  },
  {
   "cell_type": "markdown",
   "id": "b555a5c3",
   "metadata": {
    "id": "b555a5c3"
   },
   "source": [
    "1. 초반 폭발형 : 66분위수보다 아래\n",
    "2. 중반 균형형 : 66분위수 ~ ratio < 1\n",
    "4. 후반 입소문형 : ratio >= 1"
   ]
  },
  {
   "cell_type": "code",
   "execution_count": 121,
   "id": "fa7e4e11",
   "metadata": {
    "id": "fa7e4e11"
   },
   "outputs": [],
   "source": [
    "def classify_ratio(ratio):\n",
    "    if ratio < p66:\n",
    "        return '초반 폭발형'\n",
    "    elif p66 <= ratio < 1:\n",
    "        return '중반 균형형'\n",
    "    else:\n",
    "        return '후반 입소문형'\n",
    "\n",
    "cluster_1['hit_category'] = cluster_1['ratio'].apply(classify_ratio)"
   ]
  },
  {
   "cell_type": "code",
   "execution_count": 122,
   "id": "893dc951",
   "metadata": {
    "id": "893dc951",
    "outputId": "6bf46755-8664-4454-e883-4e412e832839"
   },
   "outputs": [
    {
     "data": {
      "text/html": [
       "<div>\n",
       "<style scoped>\n",
       "    .dataframe tbody tr th:only-of-type {\n",
       "        vertical-align: middle;\n",
       "    }\n",
       "\n",
       "    .dataframe tbody tr th {\n",
       "        vertical-align: top;\n",
       "    }\n",
       "\n",
       "    .dataframe thead th {\n",
       "        text-align: right;\n",
       "    }\n",
       "</style>\n",
       "<table border=\"1\" class=\"dataframe\">\n",
       "  <thead>\n",
       "    <tr style=\"text-align: right;\">\n",
       "      <th></th>\n",
       "      <th>wk1_wk2</th>\n",
       "      <th>wk2_total</th>\n",
       "      <th>ratio</th>\n",
       "      <th>hit_category</th>\n",
       "    </tr>\n",
       "  </thead>\n",
       "  <tbody>\n",
       "    <tr>\n",
       "      <th>2563</th>\n",
       "      <td>133.77</td>\n",
       "      <td>78.29</td>\n",
       "      <td>0.585258</td>\n",
       "      <td>중반 균형형</td>\n",
       "    </tr>\n",
       "    <tr>\n",
       "      <th>2564</th>\n",
       "      <td>12.47</td>\n",
       "      <td>22.57</td>\n",
       "      <td>1.809944</td>\n",
       "      <td>후반 입소문형</td>\n",
       "    </tr>\n",
       "    <tr>\n",
       "      <th>2565</th>\n",
       "      <td>58.13</td>\n",
       "      <td>12.23</td>\n",
       "      <td>0.210391</td>\n",
       "      <td>초반 폭발형</td>\n",
       "    </tr>\n",
       "    <tr>\n",
       "      <th>2566</th>\n",
       "      <td>107.95</td>\n",
       "      <td>122.33</td>\n",
       "      <td>1.133210</td>\n",
       "      <td>후반 입소문형</td>\n",
       "    </tr>\n",
       "    <tr>\n",
       "      <th>2567</th>\n",
       "      <td>65.57</td>\n",
       "      <td>23.64</td>\n",
       "      <td>0.360531</td>\n",
       "      <td>초반 폭발형</td>\n",
       "    </tr>\n",
       "  </tbody>\n",
       "</table>\n",
       "</div>"
      ],
      "text/plain": [
       "      wk1_wk2  wk2_total     ratio hit_category\n",
       "2563   133.77      78.29  0.585258       중반 균형형\n",
       "2564    12.47      22.57  1.809944      후반 입소문형\n",
       "2565    58.13      12.23  0.210391       초반 폭발형\n",
       "2566   107.95     122.33  1.133210      후반 입소문형\n",
       "2567    65.57      23.64  0.360531       초반 폭발형"
      ]
     },
     "execution_count": 122,
     "metadata": {},
     "output_type": "execute_result"
    }
   ],
   "source": [
    "cluster_1.tail()"
   ]
  },
  {
   "cell_type": "markdown",
   "id": "adb1d7c9",
   "metadata": {
    "id": "adb1d7c9"
   },
   "source": [
    "원핫인코딩"
   ]
  },
  {
   "cell_type": "code",
   "execution_count": 123,
   "id": "0844e6ea",
   "metadata": {
    "id": "0844e6ea",
    "outputId": "1cd0b607-0018-4828-8dd2-af5976cd2a34"
   },
   "outputs": [
    {
     "data": {
      "text/html": [
       "<div>\n",
       "<style scoped>\n",
       "    .dataframe tbody tr th:only-of-type {\n",
       "        vertical-align: middle;\n",
       "    }\n",
       "\n",
       "    .dataframe tbody tr th {\n",
       "        vertical-align: top;\n",
       "    }\n",
       "\n",
       "    .dataframe thead th {\n",
       "        text-align: right;\n",
       "    }\n",
       "</style>\n",
       "<table border=\"1\" class=\"dataframe\">\n",
       "  <thead>\n",
       "    <tr style=\"text-align: right;\">\n",
       "      <th></th>\n",
       "      <th>hit_category_초반 폭발형</th>\n",
       "      <th>hit_category_후반 입소문형</th>\n",
       "    </tr>\n",
       "  </thead>\n",
       "  <tbody>\n",
       "    <tr>\n",
       "      <th>2563</th>\n",
       "      <td>0</td>\n",
       "      <td>0</td>\n",
       "    </tr>\n",
       "    <tr>\n",
       "      <th>2564</th>\n",
       "      <td>0</td>\n",
       "      <td>1</td>\n",
       "    </tr>\n",
       "    <tr>\n",
       "      <th>2565</th>\n",
       "      <td>1</td>\n",
       "      <td>0</td>\n",
       "    </tr>\n",
       "    <tr>\n",
       "      <th>2566</th>\n",
       "      <td>0</td>\n",
       "      <td>1</td>\n",
       "    </tr>\n",
       "    <tr>\n",
       "      <th>2567</th>\n",
       "      <td>1</td>\n",
       "      <td>0</td>\n",
       "    </tr>\n",
       "  </tbody>\n",
       "</table>\n",
       "</div>"
      ],
      "text/plain": [
       "      hit_category_초반 폭발형  hit_category_후반 입소문형\n",
       "2563                    0                     0\n",
       "2564                    0                     1\n",
       "2565                    1                     0\n",
       "2566                    0                     1\n",
       "2567                    1                     0"
      ]
     },
     "execution_count": 123,
     "metadata": {},
     "output_type": "execute_result"
    }
   ],
   "source": [
    "temp = cluster_1[[\"hit_category\"]].copy()\n",
    "temp = pd.get_dummies(temp, columns=[\"hit_category\"], drop_first=True)\n",
    "one_hot_cols = [col for col in temp.columns if col.startswith(\"hit_category_\")]\n",
    "temp[one_hot_cols] = temp[one_hot_cols].astype(\"int8\")\n",
    "temp.tail()"
   ]
  },
  {
   "cell_type": "code",
   "execution_count": 124,
   "id": "6baa5334",
   "metadata": {
    "id": "6baa5334"
   },
   "outputs": [],
   "source": [
    "data_full = pd.concat([data_full, temp], axis=1)"
   ]
  },
  {
   "cell_type": "code",
   "execution_count": 125,
   "id": "ff77d8ec",
   "metadata": {
    "id": "ff77d8ec",
    "outputId": "06eebd8f-2c84-4e12-c097-7f16006705f0"
   },
   "outputs": [
    {
     "data": {
      "text/html": [
       "<div>\n",
       "<style scoped>\n",
       "    .dataframe tbody tr th:only-of-type {\n",
       "        vertical-align: middle;\n",
       "    }\n",
       "\n",
       "    .dataframe tbody tr th {\n",
       "        vertical-align: top;\n",
       "    }\n",
       "\n",
       "    .dataframe thead th {\n",
       "        text-align: right;\n",
       "    }\n",
       "</style>\n",
       "<table border=\"1\" class=\"dataframe\">\n",
       "  <thead>\n",
       "    <tr style=\"text-align: right;\">\n",
       "      <th></th>\n",
       "      <th>Movie_Title</th>\n",
       "      <th>Total_Audience_Count</th>\n",
       "      <th>Total_Weeks</th>\n",
       "      <th>wk1_Audience</th>\n",
       "      <th>wk1_AudiencePerShow</th>\n",
       "      <th>wk2_Audience</th>\n",
       "      <th>wk2_AudiencePerShow</th>\n",
       "      <th>Show_Change</th>\n",
       "      <th>opening_Ho_Retention</th>\n",
       "      <th>wk1_Holiday_AudienceMean</th>\n",
       "      <th>wk1_Holiday_ShowMean</th>\n",
       "      <th>wk2_Holiday_AudienceMean</th>\n",
       "      <th>wk2_Holiday_ShowMean</th>\n",
       "      <th>opening_AudienceStd</th>\n",
       "      <th>Year</th>\n",
       "      <th>Month</th>\n",
       "      <th>Pandemic</th>\n",
       "      <th>dist_big_flop</th>\n",
       "      <th>dist_big_hit</th>\n",
       "      <th>dist_small_flop</th>\n",
       "      <th>dist_small_hit</th>\n",
       "      <th>Grade_15세이상관람가</th>\n",
       "      <th>Grade_전체관람가</th>\n",
       "      <th>Grade_청소년관람불가</th>\n",
       "      <th>Main_Country_미국</th>\n",
       "      <th>Main_Country_일본</th>\n",
       "      <th>Main_Country_한국</th>\n",
       "      <th>드라마</th>\n",
       "      <th>멜로/로맨스</th>\n",
       "      <th>다큐멘터리</th>\n",
       "      <th>공연</th>\n",
       "      <th>공포(호러)</th>\n",
       "      <th>액션</th>\n",
       "      <th>애니메이션</th>\n",
       "      <th>코미디</th>\n",
       "      <th>스릴러</th>\n",
       "      <th>SF</th>\n",
       "      <th>미스터리</th>\n",
       "      <th>어드벤처</th>\n",
       "      <th>범죄</th>\n",
       "      <th>판타지</th>\n",
       "      <th>전쟁</th>\n",
       "      <th>가족</th>\n",
       "      <th>사극</th>\n",
       "      <th>뮤지컬</th>\n",
       "      <th>hit_category_초반 폭발형</th>\n",
       "      <th>hit_category_후반 입소문형</th>\n",
       "    </tr>\n",
       "  </thead>\n",
       "  <tbody>\n",
       "    <tr>\n",
       "      <th>0</th>\n",
       "      <td>도쿄 리벤저스</td>\n",
       "      <td>13122</td>\n",
       "      <td>8</td>\n",
       "      <td>8617.0</td>\n",
       "      <td>5.654199</td>\n",
       "      <td>2925</td>\n",
       "      <td>5.034423</td>\n",
       "      <td>0.381234</td>\n",
       "      <td>0.130780</td>\n",
       "      <td>1762.500000</td>\n",
       "      <td>288.00</td>\n",
       "      <td>230.500000</td>\n",
       "      <td>18.500000</td>\n",
       "      <td>786.574025</td>\n",
       "      <td>2022</td>\n",
       "      <td>1</td>\n",
       "      <td>1</td>\n",
       "      <td>0.0</td>\n",
       "      <td>1.0</td>\n",
       "      <td>0.0</td>\n",
       "      <td>0.0</td>\n",
       "      <td>1</td>\n",
       "      <td>0</td>\n",
       "      <td>0</td>\n",
       "      <td>0</td>\n",
       "      <td>1</td>\n",
       "      <td>0</td>\n",
       "      <td>1</td>\n",
       "      <td>0</td>\n",
       "      <td>0</td>\n",
       "      <td>0</td>\n",
       "      <td>0</td>\n",
       "      <td>1</td>\n",
       "      <td>0</td>\n",
       "      <td>0</td>\n",
       "      <td>0</td>\n",
       "      <td>0</td>\n",
       "      <td>0</td>\n",
       "      <td>0</td>\n",
       "      <td>0</td>\n",
       "      <td>0</td>\n",
       "      <td>0</td>\n",
       "      <td>0</td>\n",
       "      <td>0</td>\n",
       "      <td>0</td>\n",
       "      <td>0</td>\n",
       "      <td>0</td>\n",
       "    </tr>\n",
       "    <tr>\n",
       "      <th>1</th>\n",
       "      <td>매직브러시</td>\n",
       "      <td>169106</td>\n",
       "      <td>8</td>\n",
       "      <td>145560.0</td>\n",
       "      <td>37.670807</td>\n",
       "      <td>18117</td>\n",
       "      <td>14.717303</td>\n",
       "      <td>0.318582</td>\n",
       "      <td>0.182869</td>\n",
       "      <td>33644.250000</td>\n",
       "      <td>835.75</td>\n",
       "      <td>6152.500000</td>\n",
       "      <td>207.000000</td>\n",
       "      <td>19587.819778</td>\n",
       "      <td>2016</td>\n",
       "      <td>5</td>\n",
       "      <td>0</td>\n",
       "      <td>1.0</td>\n",
       "      <td>0.0</td>\n",
       "      <td>0.0</td>\n",
       "      <td>0.0</td>\n",
       "      <td>0</td>\n",
       "      <td>1</td>\n",
       "      <td>0</td>\n",
       "      <td>0</td>\n",
       "      <td>0</td>\n",
       "      <td>0</td>\n",
       "      <td>0</td>\n",
       "      <td>0</td>\n",
       "      <td>0</td>\n",
       "      <td>0</td>\n",
       "      <td>0</td>\n",
       "      <td>0</td>\n",
       "      <td>1</td>\n",
       "      <td>0</td>\n",
       "      <td>0</td>\n",
       "      <td>0</td>\n",
       "      <td>0</td>\n",
       "      <td>0</td>\n",
       "      <td>0</td>\n",
       "      <td>0</td>\n",
       "      <td>0</td>\n",
       "      <td>0</td>\n",
       "      <td>0</td>\n",
       "      <td>0</td>\n",
       "      <td>1</td>\n",
       "      <td>0</td>\n",
       "    </tr>\n",
       "    <tr>\n",
       "      <th>2</th>\n",
       "      <td>숨바꼭질</td>\n",
       "      <td>656089</td>\n",
       "      <td>8</td>\n",
       "      <td>195760.0</td>\n",
       "      <td>92.645528</td>\n",
       "      <td>307980</td>\n",
       "      <td>65.807692</td>\n",
       "      <td>2.214860</td>\n",
       "      <td>0.892172</td>\n",
       "      <td>72350.000000</td>\n",
       "      <td>708.00</td>\n",
       "      <td>64548.666667</td>\n",
       "      <td>689.333333</td>\n",
       "      <td>21173.653550</td>\n",
       "      <td>2005</td>\n",
       "      <td>2</td>\n",
       "      <td>0</td>\n",
       "      <td>0.0</td>\n",
       "      <td>1.0</td>\n",
       "      <td>0.0</td>\n",
       "      <td>0.0</td>\n",
       "      <td>1</td>\n",
       "      <td>0</td>\n",
       "      <td>0</td>\n",
       "      <td>1</td>\n",
       "      <td>0</td>\n",
       "      <td>0</td>\n",
       "      <td>1</td>\n",
       "      <td>0</td>\n",
       "      <td>0</td>\n",
       "      <td>0</td>\n",
       "      <td>1</td>\n",
       "      <td>0</td>\n",
       "      <td>0</td>\n",
       "      <td>0</td>\n",
       "      <td>1</td>\n",
       "      <td>0</td>\n",
       "      <td>0</td>\n",
       "      <td>0</td>\n",
       "      <td>0</td>\n",
       "      <td>0</td>\n",
       "      <td>0</td>\n",
       "      <td>0</td>\n",
       "      <td>0</td>\n",
       "      <td>0</td>\n",
       "      <td>1</td>\n",
       "      <td>0</td>\n",
       "    </tr>\n",
       "    <tr>\n",
       "      <th>3</th>\n",
       "      <td>해빙</td>\n",
       "      <td>1201576</td>\n",
       "      <td>9</td>\n",
       "      <td>906864.0</td>\n",
       "      <td>44.818820</td>\n",
       "      <td>232306</td>\n",
       "      <td>13.362439</td>\n",
       "      <td>0.859197</td>\n",
       "      <td>0.189943</td>\n",
       "      <td>242744.333333</td>\n",
       "      <td>4170.00</td>\n",
       "      <td>46107.500000</td>\n",
       "      <td>1973.500000</td>\n",
       "      <td>106514.990773</td>\n",
       "      <td>2017</td>\n",
       "      <td>3</td>\n",
       "      <td>0</td>\n",
       "      <td>0.0</td>\n",
       "      <td>1.0</td>\n",
       "      <td>0.0</td>\n",
       "      <td>0.0</td>\n",
       "      <td>1</td>\n",
       "      <td>0</td>\n",
       "      <td>0</td>\n",
       "      <td>0</td>\n",
       "      <td>0</td>\n",
       "      <td>1</td>\n",
       "      <td>0</td>\n",
       "      <td>0</td>\n",
       "      <td>0</td>\n",
       "      <td>0</td>\n",
       "      <td>0</td>\n",
       "      <td>0</td>\n",
       "      <td>0</td>\n",
       "      <td>0</td>\n",
       "      <td>1</td>\n",
       "      <td>0</td>\n",
       "      <td>0</td>\n",
       "      <td>0</td>\n",
       "      <td>0</td>\n",
       "      <td>0</td>\n",
       "      <td>0</td>\n",
       "      <td>0</td>\n",
       "      <td>0</td>\n",
       "      <td>0</td>\n",
       "      <td>1</td>\n",
       "      <td>0</td>\n",
       "    </tr>\n",
       "    <tr>\n",
       "      <th>4</th>\n",
       "      <td>다시, 봄</td>\n",
       "      <td>25506</td>\n",
       "      <td>4</td>\n",
       "      <td>18609.0</td>\n",
       "      <td>5.126446</td>\n",
       "      <td>3969</td>\n",
       "      <td>3.598368</td>\n",
       "      <td>0.303857</td>\n",
       "      <td>0.028099</td>\n",
       "      <td>3897.000000</td>\n",
       "      <td>656.00</td>\n",
       "      <td>109.500000</td>\n",
       "      <td>9.500000</td>\n",
       "      <td>1733.336745</td>\n",
       "      <td>2019</td>\n",
       "      <td>4</td>\n",
       "      <td>0</td>\n",
       "      <td>0.0</td>\n",
       "      <td>1.0</td>\n",
       "      <td>0.0</td>\n",
       "      <td>0.0</td>\n",
       "      <td>0</td>\n",
       "      <td>0</td>\n",
       "      <td>0</td>\n",
       "      <td>0</td>\n",
       "      <td>0</td>\n",
       "      <td>1</td>\n",
       "      <td>1</td>\n",
       "      <td>0</td>\n",
       "      <td>0</td>\n",
       "      <td>0</td>\n",
       "      <td>0</td>\n",
       "      <td>0</td>\n",
       "      <td>0</td>\n",
       "      <td>0</td>\n",
       "      <td>0</td>\n",
       "      <td>0</td>\n",
       "      <td>0</td>\n",
       "      <td>0</td>\n",
       "      <td>0</td>\n",
       "      <td>1</td>\n",
       "      <td>0</td>\n",
       "      <td>0</td>\n",
       "      <td>0</td>\n",
       "      <td>0</td>\n",
       "      <td>0</td>\n",
       "      <td>0</td>\n",
       "    </tr>\n",
       "  </tbody>\n",
       "</table>\n",
       "</div>"
      ],
      "text/plain": [
       "  Movie_Title  Total_Audience_Count  Total_Weeks  wk1_Audience  \\\n",
       "0     도쿄 리벤저스                 13122            8        8617.0   \n",
       "1       매직브러시                169106            8      145560.0   \n",
       "2        숨바꼭질                656089            8      195760.0   \n",
       "3          해빙               1201576            9      906864.0   \n",
       "4       다시, 봄                 25506            4       18609.0   \n",
       "\n",
       "   wk1_AudiencePerShow  wk2_Audience  wk2_AudiencePerShow  Show_Change  \\\n",
       "0             5.654199          2925             5.034423     0.381234   \n",
       "1            37.670807         18117            14.717303     0.318582   \n",
       "2            92.645528        307980            65.807692     2.214860   \n",
       "3            44.818820        232306            13.362439     0.859197   \n",
       "4             5.126446          3969             3.598368     0.303857   \n",
       "\n",
       "   opening_Ho_Retention  wk1_Holiday_AudienceMean  wk1_Holiday_ShowMean  \\\n",
       "0              0.130780               1762.500000                288.00   \n",
       "1              0.182869              33644.250000                835.75   \n",
       "2              0.892172              72350.000000                708.00   \n",
       "3              0.189943             242744.333333               4170.00   \n",
       "4              0.028099               3897.000000                656.00   \n",
       "\n",
       "   wk2_Holiday_AudienceMean  wk2_Holiday_ShowMean  opening_AudienceStd  Year  \\\n",
       "0                230.500000             18.500000           786.574025  2022   \n",
       "1               6152.500000            207.000000         19587.819778  2016   \n",
       "2              64548.666667            689.333333         21173.653550  2005   \n",
       "3              46107.500000           1973.500000        106514.990773  2017   \n",
       "4                109.500000              9.500000          1733.336745  2019   \n",
       "\n",
       "   Month  Pandemic  dist_big_flop  dist_big_hit  dist_small_flop  \\\n",
       "0      1         1            0.0           1.0              0.0   \n",
       "1      5         0            1.0           0.0              0.0   \n",
       "2      2         0            0.0           1.0              0.0   \n",
       "3      3         0            0.0           1.0              0.0   \n",
       "4      4         0            0.0           1.0              0.0   \n",
       "\n",
       "   dist_small_hit  Grade_15세이상관람가  Grade_전체관람가  Grade_청소년관람불가  \\\n",
       "0             0.0               1            0              0   \n",
       "1             0.0               0            1              0   \n",
       "2             0.0               1            0              0   \n",
       "3             0.0               1            0              0   \n",
       "4             0.0               0            0              0   \n",
       "\n",
       "   Main_Country_미국  Main_Country_일본  Main_Country_한국  드라마  멜로/로맨스  다큐멘터리  공연  \\\n",
       "0                0                1                0    1       0      0   0   \n",
       "1                0                0                0    0       0      0   0   \n",
       "2                1                0                0    1       0      0   0   \n",
       "3                0                0                1    0       0      0   0   \n",
       "4                0                0                1    1       0      0   0   \n",
       "\n",
       "   공포(호러)  액션  애니메이션  코미디  스릴러  SF  미스터리  어드벤처  범죄  판타지  전쟁  가족  사극  뮤지컬  \\\n",
       "0       0   1      0    0    0   0     0     0   0    0   0   0   0    0   \n",
       "1       0   0      1    0    0   0     0     0   0    0   0   0   0    0   \n",
       "2       1   0      0    0    1   0     0     0   0    0   0   0   0    0   \n",
       "3       0   0      0    0    1   0     0     0   0    0   0   0   0    0   \n",
       "4       0   0      0    0    0   0     0     0   0    1   0   0   0    0   \n",
       "\n",
       "   hit_category_초반 폭발형  hit_category_후반 입소문형  \n",
       "0                    0                     0  \n",
       "1                    1                     0  \n",
       "2                    1                     0  \n",
       "3                    1                     0  \n",
       "4                    0                     0  "
      ]
     },
     "execution_count": 125,
     "metadata": {},
     "output_type": "execute_result"
    }
   ],
   "source": [
    "data_full.head()"
   ]
  },
  {
   "cell_type": "markdown",
   "id": "fafc19e4",
   "metadata": {},
   "source": [
    "# 2. 집단간 차이 검정"
   ]
  },
  {
   "cell_type": "markdown",
   "id": "b3523536",
   "metadata": {},
   "source": [
    "hit_category 집단간 차이가 있는지 검정한다  \n",
    "가설검정을 통과, 유의한 변수는 FA분석에 사용된다"
   ]
  },
  {
   "cell_type": "markdown",
   "id": "a21306a6",
   "metadata": {},
   "source": [
    "1. 연속형 변수 : ANOVA\n",
    "2. 비정규성 연속형 변수 : Kruskal–Wallis 비모수 검정\n",
    "3. 범주형 변수 : 카이제곱 검정"
   ]
  },
  {
   "cell_type": "markdown",
   "id": "80030b8e",
   "metadata": {},
   "source": [
    "Shapiro-Wilk test / Levene test : 정규성, 등분산성 확인 (연속형)  \n",
    "Post-hoc test (Tukey HSD) : 어떤 집단 간 차이가 유의한지 구체적으로 확인"
   ]
  },
  {
   "cell_type": "markdown",
   "id": "3db56c00",
   "metadata": {},
   "source": [
    "원핫 인코딩으로 변환한 범주형 변수는 다시 원래대로 재변환  \n",
    "장르벡터는 예측에만 사용하지 집단 차이 검정, FA에는 사용하지 않는다  \n",
    "month는 sin, cos 계절성 변형 후 연속형 변수로 취급"
   ]
  },
  {
   "cell_type": "code",
   "execution_count": 126,
   "id": "5e7609dd",
   "metadata": {},
   "outputs": [
    {
     "name": "stdout",
     "output_type": "stream",
     "text": [
      "['Movie_Title', 'Total_Audience_Count', 'Total_Weeks', 'wk1_Audience', 'wk1_AudiencePerShow', 'wk2_Audience', 'wk2_AudiencePerShow', 'Show_Change', 'opening_Ho_Retention', 'wk1_Holiday_AudienceMean', 'wk1_Holiday_ShowMean', 'wk2_Holiday_AudienceMean', 'wk2_Holiday_ShowMean', 'opening_AudienceStd', 'Year', 'Month', 'Pandemic', 'dist_big_flop', 'dist_big_hit', 'dist_small_flop', 'dist_small_hit', 'Grade', 'Main_Country']\n"
     ]
    }
   ],
   "source": [
    "print(list(data_no_dummies.columns))"
   ]
  },
  {
   "cell_type": "code",
   "execution_count": 127,
   "id": "59ab0279",
   "metadata": {},
   "outputs": [],
   "source": [
    "hypo_data = pd.concat([data_no_dummies[['wk1_Audience', 'wk1_AudiencePerShow', 'wk2_Audience', 'wk2_AudiencePerShow',\n",
    "                       'Show_Change', 'opening_Ho_Retention', 'wk1_Holiday_AudienceMean', 'wk1_Holiday_ShowMean', \n",
    "                       'wk2_Holiday_AudienceMean', 'wk2_Holiday_ShowMean', 'opening_AudienceStd', \n",
    "                       'Year', 'Month', 'Pandemic', \n",
    "                       'dist_big_flop', 'dist_big_hit', 'dist_small_flop', 'dist_small_hit', \n",
    "                       'Grade', 'Main_Country']].copy(),\n",
    "                       cluster_1[[\"hit_category\"]]], axis=1)\n"
   ]
  },
  {
   "cell_type": "code",
   "execution_count": 134,
   "id": "9ecaa9f9",
   "metadata": {},
   "outputs": [],
   "source": [
    "for col in [\"Grade\", \"Main_Country\", \"hit_category\"]:\n",
    "    hypo_data[col] = hypo_data[col].astype(\"category\").cat.codes"
   ]
  },
  {
   "cell_type": "code",
   "execution_count": 135,
   "id": "c12b2859",
   "metadata": {},
   "outputs": [
    {
     "data": {
      "text/html": [
       "<div>\n",
       "<style scoped>\n",
       "    .dataframe tbody tr th:only-of-type {\n",
       "        vertical-align: middle;\n",
       "    }\n",
       "\n",
       "    .dataframe tbody tr th {\n",
       "        vertical-align: top;\n",
       "    }\n",
       "\n",
       "    .dataframe thead th {\n",
       "        text-align: right;\n",
       "    }\n",
       "</style>\n",
       "<table border=\"1\" class=\"dataframe\">\n",
       "  <thead>\n",
       "    <tr style=\"text-align: right;\">\n",
       "      <th></th>\n",
       "      <th>wk1_Audience</th>\n",
       "      <th>wk1_AudiencePerShow</th>\n",
       "      <th>wk2_Audience</th>\n",
       "      <th>wk2_AudiencePerShow</th>\n",
       "      <th>Show_Change</th>\n",
       "      <th>opening_Ho_Retention</th>\n",
       "      <th>wk1_Holiday_AudienceMean</th>\n",
       "      <th>wk1_Holiday_ShowMean</th>\n",
       "      <th>wk2_Holiday_AudienceMean</th>\n",
       "      <th>wk2_Holiday_ShowMean</th>\n",
       "      <th>opening_AudienceStd</th>\n",
       "      <th>Year</th>\n",
       "      <th>Month</th>\n",
       "      <th>Pandemic</th>\n",
       "      <th>dist_big_flop</th>\n",
       "      <th>dist_big_hit</th>\n",
       "      <th>dist_small_flop</th>\n",
       "      <th>dist_small_hit</th>\n",
       "      <th>Grade</th>\n",
       "      <th>Main_Country</th>\n",
       "      <th>hit_category</th>\n",
       "    </tr>\n",
       "  </thead>\n",
       "  <tbody>\n",
       "    <tr>\n",
       "      <th>0</th>\n",
       "      <td>8617.0</td>\n",
       "      <td>5.654199</td>\n",
       "      <td>2925</td>\n",
       "      <td>5.034423</td>\n",
       "      <td>0.381234</td>\n",
       "      <td>0.130780</td>\n",
       "      <td>1762.500000</td>\n",
       "      <td>288.00</td>\n",
       "      <td>230.500000</td>\n",
       "      <td>18.500000</td>\n",
       "      <td>786.574025</td>\n",
       "      <td>2022</td>\n",
       "      <td>1</td>\n",
       "      <td>1</td>\n",
       "      <td>0.0</td>\n",
       "      <td>1.0</td>\n",
       "      <td>0.0</td>\n",
       "      <td>0.0</td>\n",
       "      <td>1</td>\n",
       "      <td>2</td>\n",
       "      <td>0</td>\n",
       "    </tr>\n",
       "    <tr>\n",
       "      <th>1</th>\n",
       "      <td>145560.0</td>\n",
       "      <td>37.670807</td>\n",
       "      <td>18117</td>\n",
       "      <td>14.717303</td>\n",
       "      <td>0.318582</td>\n",
       "      <td>0.182869</td>\n",
       "      <td>33644.250000</td>\n",
       "      <td>835.75</td>\n",
       "      <td>6152.500000</td>\n",
       "      <td>207.000000</td>\n",
       "      <td>19587.819778</td>\n",
       "      <td>2016</td>\n",
       "      <td>5</td>\n",
       "      <td>0</td>\n",
       "      <td>1.0</td>\n",
       "      <td>0.0</td>\n",
       "      <td>0.0</td>\n",
       "      <td>0.0</td>\n",
       "      <td>2</td>\n",
       "      <td>0</td>\n",
       "      <td>1</td>\n",
       "    </tr>\n",
       "    <tr>\n",
       "      <th>2</th>\n",
       "      <td>195760.0</td>\n",
       "      <td>92.645528</td>\n",
       "      <td>307980</td>\n",
       "      <td>65.807692</td>\n",
       "      <td>2.214860</td>\n",
       "      <td>0.892172</td>\n",
       "      <td>72350.000000</td>\n",
       "      <td>708.00</td>\n",
       "      <td>64548.666667</td>\n",
       "      <td>689.333333</td>\n",
       "      <td>21173.653550</td>\n",
       "      <td>2005</td>\n",
       "      <td>2</td>\n",
       "      <td>0</td>\n",
       "      <td>0.0</td>\n",
       "      <td>1.0</td>\n",
       "      <td>0.0</td>\n",
       "      <td>0.0</td>\n",
       "      <td>1</td>\n",
       "      <td>1</td>\n",
       "      <td>1</td>\n",
       "    </tr>\n",
       "    <tr>\n",
       "      <th>3</th>\n",
       "      <td>906864.0</td>\n",
       "      <td>44.818820</td>\n",
       "      <td>232306</td>\n",
       "      <td>13.362439</td>\n",
       "      <td>0.859197</td>\n",
       "      <td>0.189943</td>\n",
       "      <td>242744.333333</td>\n",
       "      <td>4170.00</td>\n",
       "      <td>46107.500000</td>\n",
       "      <td>1973.500000</td>\n",
       "      <td>106514.990773</td>\n",
       "      <td>2017</td>\n",
       "      <td>3</td>\n",
       "      <td>0</td>\n",
       "      <td>0.0</td>\n",
       "      <td>1.0</td>\n",
       "      <td>0.0</td>\n",
       "      <td>0.0</td>\n",
       "      <td>1</td>\n",
       "      <td>3</td>\n",
       "      <td>1</td>\n",
       "    </tr>\n",
       "    <tr>\n",
       "      <th>4</th>\n",
       "      <td>18609.0</td>\n",
       "      <td>5.126446</td>\n",
       "      <td>3969</td>\n",
       "      <td>3.598368</td>\n",
       "      <td>0.303857</td>\n",
       "      <td>0.028099</td>\n",
       "      <td>3897.000000</td>\n",
       "      <td>656.00</td>\n",
       "      <td>109.500000</td>\n",
       "      <td>9.500000</td>\n",
       "      <td>1733.336745</td>\n",
       "      <td>2019</td>\n",
       "      <td>4</td>\n",
       "      <td>0</td>\n",
       "      <td>0.0</td>\n",
       "      <td>1.0</td>\n",
       "      <td>0.0</td>\n",
       "      <td>0.0</td>\n",
       "      <td>0</td>\n",
       "      <td>3</td>\n",
       "      <td>0</td>\n",
       "    </tr>\n",
       "  </tbody>\n",
       "</table>\n",
       "</div>"
      ],
      "text/plain": [
       "   wk1_Audience  wk1_AudiencePerShow  wk2_Audience  wk2_AudiencePerShow  \\\n",
       "0        8617.0             5.654199          2925             5.034423   \n",
       "1      145560.0            37.670807         18117            14.717303   \n",
       "2      195760.0            92.645528        307980            65.807692   \n",
       "3      906864.0            44.818820        232306            13.362439   \n",
       "4       18609.0             5.126446          3969             3.598368   \n",
       "\n",
       "   Show_Change  opening_Ho_Retention  wk1_Holiday_AudienceMean  \\\n",
       "0     0.381234              0.130780               1762.500000   \n",
       "1     0.318582              0.182869              33644.250000   \n",
       "2     2.214860              0.892172              72350.000000   \n",
       "3     0.859197              0.189943             242744.333333   \n",
       "4     0.303857              0.028099               3897.000000   \n",
       "\n",
       "   wk1_Holiday_ShowMean  wk2_Holiday_AudienceMean  wk2_Holiday_ShowMean  \\\n",
       "0                288.00                230.500000             18.500000   \n",
       "1                835.75               6152.500000            207.000000   \n",
       "2                708.00              64548.666667            689.333333   \n",
       "3               4170.00              46107.500000           1973.500000   \n",
       "4                656.00                109.500000              9.500000   \n",
       "\n",
       "   opening_AudienceStd  Year  Month  Pandemic  dist_big_flop  dist_big_hit  \\\n",
       "0           786.574025  2022      1         1            0.0           1.0   \n",
       "1         19587.819778  2016      5         0            1.0           0.0   \n",
       "2         21173.653550  2005      2         0            0.0           1.0   \n",
       "3        106514.990773  2017      3         0            0.0           1.0   \n",
       "4          1733.336745  2019      4         0            0.0           1.0   \n",
       "\n",
       "   dist_small_flop  dist_small_hit  Grade  Main_Country  hit_category  \n",
       "0              0.0             0.0      1             2             0  \n",
       "1              0.0             0.0      2             0             1  \n",
       "2              0.0             0.0      1             1             1  \n",
       "3              0.0             0.0      1             3             1  \n",
       "4              0.0             0.0      0             3             0  "
      ]
     },
     "execution_count": 135,
     "metadata": {},
     "output_type": "execute_result"
    }
   ],
   "source": [
    "hypo_data.head()"
   ]
  },
  {
   "cell_type": "markdown",
   "id": "5a4eacec",
   "metadata": {},
   "source": [
    "month sin, cos 변환"
   ]
  },
  {
   "cell_type": "code",
   "execution_count": null,
   "id": "7ee45991",
   "metadata": {},
   "outputs": [],
   "source": [
    "#연속형 변수\n",
    "#범주형 변수"
   ]
  },
  {
   "cell_type": "markdown",
   "id": "a98a2571",
   "metadata": {},
   "source": [
    "# 3. FA"
   ]
  },
  {
   "cell_type": "markdown",
   "id": "42b64269",
   "metadata": {},
   "source": [
    "FA분석 결과를 hit_category 예측에 사용한다"
   ]
  },
  {
   "cell_type": "markdown",
   "id": "6efdea64",
   "metadata": {},
   "source": [
    "# 4. hit_category 예측 모델"
   ]
  },
  {
   "cell_type": "markdown",
   "id": "19adf487",
   "metadata": {},
   "source": [
    "최종 예측에서는 2주차까지의 데이터만을 사용한다  \n",
    "hit_category를 만들때에는 총 관객수를 이용하였다  \n",
    "따라서 이것을 2주차 데이터만으로 다시 예측해야할 필요가 있다"
   ]
  }
 ],
 "metadata": {
  "colab": {
   "provenance": []
  },
  "kernelspec": {
   "display_name": "base",
   "language": "python",
   "name": "python3"
  },
  "language_info": {
   "codemirror_mode": {
    "name": "ipython",
    "version": 3
   },
   "file_extension": ".py",
   "mimetype": "text/x-python",
   "name": "python",
   "nbconvert_exporter": "python",
   "pygments_lexer": "ipython3",
   "version": "3.12.7"
  }
 },
 "nbformat": 4,
 "nbformat_minor": 5
}
