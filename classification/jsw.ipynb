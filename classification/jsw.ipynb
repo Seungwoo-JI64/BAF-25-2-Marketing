{
 "cells": [
  {
   "cell_type": "markdown",
   "id": "02744737",
   "metadata": {},
   "source": [
    "# 이곳에서는\n",
    "각 영화의 박스오피스 특징을 살펴본다  \n",
    "특히 초반 흥행, 추반 입소문 영화를 구분하는데에 도전한다"
   ]
  },
  {
   "cell_type": "markdown",
   "id": "f876a956",
   "metadata": {},
   "source": [
    "이전 분석에서는 총 관객수와 총 상영주차, 상영횟수는 상관이 없었다.  \n",
    "현재 분석에서는 총 관객수와 총 상영주차 두 데이터를 사용한다.  \n",
    "그 이유는 2주차 까지의 데이터가 총 관객수와 큰 차이가 없을 경우 초반 흥행으로 판단할 수 있기 때문이다.  \n",
    "따라서 최종 분석에서는 2주차 까지의 영화 패턴이랑 예측한 총 관객수 두개를 결합 비교해야 한다.  \n",
    "총 상영주차는 총 관객수와 상관이 없으므로 예측 모델을 생성할 수 없었다. (그냥 지멋대로라고 생각한다)  \n",
    "따라서 이거는 영화 데이터의 분포적 특성을 통해 파악할 수 있도록 한다. (이걸 통해 예측을 대체할 수 있을지도)"
   ]
  },
  {
   "cell_type": "markdown",
   "id": "f5e2d8e2",
   "metadata": {},
   "source": [
    "즉, 해당 분석에서 총 관객수는 사용해도 괜찮다. 최종 분석에서는 2주차 데이터 + 예측 총 관객수 데이터를 사용하기 때문이다 (물론 해당 모델의 신뢰도가 높아야 한다)  \n",
    "따라서 총 상영주차는 분석의 재료로 사용되어서는 안된다. 분석의 대상이 되어야 한다."
   ]
  },
  {
   "cell_type": "markdown",
   "id": "f347b2d4",
   "metadata": {},
   "source": [
    "# 라이브러리"
   ]
  },
  {
   "cell_type": "code",
   "execution_count": 119,
   "id": "fb84f7e3",
   "metadata": {},
   "outputs": [],
   "source": [
    "import pandas as pd\n",
    "import numpy as np\n",
    "import matplotlib.pyplot as plt\n",
    "import seaborn as sns\n",
    "from sklearn.cluster import KMeans\n",
    "from yellowbrick.cluster import KElbowVisualizer\n",
    "from sklearn.metrics import silhouette_score\n",
    "from sklearn.metrics import silhouette_samples\n",
    "from yellowbrick.cluster import SilhouetteVisualizer\n",
    "from factor_analyzer import FactorAnalyzer\n",
    "from factor_analyzer.factor_analyzer import calculate_bartlett_sphericity, calculate_kmo\n",
    "from sklearn.preprocessing import StandardScaler"
   ]
  },
  {
   "cell_type": "markdown",
   "id": "22f2f372",
   "metadata": {},
   "source": [
    "# 데이터"
   ]
  },
  {
   "cell_type": "markdown",
   "id": "e94520c6",
   "metadata": {},
   "source": [
    "1만명 ~ 500만명 영화만 사용한다  \n",
    "현재의 분석에선 배우, 감독 장르 벡터는 사용하지 않는다"
   ]
  },
  {
   "cell_type": "code",
   "execution_count": 120,
   "id": "66d2a4f2",
   "metadata": {},
   "outputs": [],
   "source": [
    "data_train = pd.read_csv(\"../model/model_train_data.csv\", encoding=\"utf-8-sig\")\n",
    "data_test = pd.read_csv(\"../model/model_test_data.csv\", encoding=\"utf-8-sig\")\n",
    "data_full = pd.concat([data_train, data_test], axis=0).reset_index(drop=True)"
   ]
  },
  {
   "cell_type": "markdown",
   "id": "f8e551c4",
   "metadata": {},
   "source": [
    "줄거리 임베딩 벡터는 사용하지 않는다"
   ]
  },
  {
   "cell_type": "code",
   "execution_count": 121,
   "id": "daa9626b",
   "metadata": {},
   "outputs": [],
   "source": [
    "embedding_list = [f\"e{i}\" for i in range(1, 256+1)]\n",
    "data_full.drop(columns=embedding_list, inplace=True)"
   ]
  },
  {
   "cell_type": "code",
   "execution_count": 122,
   "id": "3609cb0d",
   "metadata": {},
   "outputs": [],
   "source": [
    "data_full.drop(columns=[\"Total_Show_Days\"], inplace=True)"
   ]
  },
  {
   "cell_type": "code",
   "execution_count": 123,
   "id": "5d85c006",
   "metadata": {},
   "outputs": [
    {
     "data": {
      "text/html": [
       "<div>\n",
       "<style scoped>\n",
       "    .dataframe tbody tr th:only-of-type {\n",
       "        vertical-align: middle;\n",
       "    }\n",
       "\n",
       "    .dataframe tbody tr th {\n",
       "        vertical-align: top;\n",
       "    }\n",
       "\n",
       "    .dataframe thead th {\n",
       "        text-align: right;\n",
       "    }\n",
       "</style>\n",
       "<table border=\"1\" class=\"dataframe\">\n",
       "  <thead>\n",
       "    <tr style=\"text-align: right;\">\n",
       "      <th></th>\n",
       "      <th>Movie_Title</th>\n",
       "      <th>Total_Audience_Count</th>\n",
       "      <th>Total_Weeks</th>\n",
       "      <th>wk1_Audience</th>\n",
       "      <th>wk1_AudiencePerShow</th>\n",
       "      <th>wk2_Audience</th>\n",
       "      <th>wk2_AudiencePerShow</th>\n",
       "      <th>Show_Change</th>\n",
       "      <th>opening_Ho_Retention</th>\n",
       "      <th>wk1_Holiday_AudienceMean</th>\n",
       "      <th>wk1_Holiday_ShowMean</th>\n",
       "      <th>wk2_Holiday_AudienceMean</th>\n",
       "      <th>wk2_Holiday_ShowMean</th>\n",
       "      <th>opening_AudienceStd</th>\n",
       "      <th>Year</th>\n",
       "      <th>Month</th>\n",
       "      <th>Pandemic</th>\n",
       "      <th>dist_big_flop</th>\n",
       "      <th>dist_big_hit</th>\n",
       "      <th>dist_small_flop</th>\n",
       "      <th>dist_small_hit</th>\n",
       "      <th>Grade</th>\n",
       "      <th>Main_Country</th>\n",
       "    </tr>\n",
       "  </thead>\n",
       "  <tbody>\n",
       "    <tr>\n",
       "      <th>0</th>\n",
       "      <td>도쿄 리벤저스</td>\n",
       "      <td>13122</td>\n",
       "      <td>8</td>\n",
       "      <td>8617.0</td>\n",
       "      <td>5.654199</td>\n",
       "      <td>2925</td>\n",
       "      <td>5.034423</td>\n",
       "      <td>0.381234</td>\n",
       "      <td>0.130780</td>\n",
       "      <td>1762.50</td>\n",
       "      <td>288.00</td>\n",
       "      <td>230.5</td>\n",
       "      <td>18.5</td>\n",
       "      <td>786.574025</td>\n",
       "      <td>2022</td>\n",
       "      <td>1</td>\n",
       "      <td>1</td>\n",
       "      <td>0.0</td>\n",
       "      <td>1.0</td>\n",
       "      <td>0.0</td>\n",
       "      <td>0.0</td>\n",
       "      <td>15세이상관람가</td>\n",
       "      <td>일본</td>\n",
       "    </tr>\n",
       "    <tr>\n",
       "      <th>1</th>\n",
       "      <td>매직브러시</td>\n",
       "      <td>169106</td>\n",
       "      <td>8</td>\n",
       "      <td>145560.0</td>\n",
       "      <td>37.670807</td>\n",
       "      <td>18117</td>\n",
       "      <td>14.717303</td>\n",
       "      <td>0.318582</td>\n",
       "      <td>0.182869</td>\n",
       "      <td>33644.25</td>\n",
       "      <td>835.75</td>\n",
       "      <td>6152.5</td>\n",
       "      <td>207.0</td>\n",
       "      <td>19587.819778</td>\n",
       "      <td>2016</td>\n",
       "      <td>5</td>\n",
       "      <td>0</td>\n",
       "      <td>1.0</td>\n",
       "      <td>0.0</td>\n",
       "      <td>0.0</td>\n",
       "      <td>0.0</td>\n",
       "      <td>전체관람가</td>\n",
       "      <td>기타</td>\n",
       "    </tr>\n",
       "  </tbody>\n",
       "</table>\n",
       "</div>"
      ],
      "text/plain": [
       "  Movie_Title  Total_Audience_Count  Total_Weeks  wk1_Audience  \\\n",
       "0     도쿄 리벤저스                 13122            8        8617.0   \n",
       "1       매직브러시                169106            8      145560.0   \n",
       "\n",
       "   wk1_AudiencePerShow  wk2_Audience  wk2_AudiencePerShow  Show_Change  \\\n",
       "0             5.654199          2925             5.034423     0.381234   \n",
       "1            37.670807         18117            14.717303     0.318582   \n",
       "\n",
       "   opening_Ho_Retention  wk1_Holiday_AudienceMean  wk1_Holiday_ShowMean  \\\n",
       "0              0.130780                   1762.50                288.00   \n",
       "1              0.182869                  33644.25                835.75   \n",
       "\n",
       "   wk2_Holiday_AudienceMean  wk2_Holiday_ShowMean  opening_AudienceStd  Year  \\\n",
       "0                     230.5                  18.5           786.574025  2022   \n",
       "1                    6152.5                 207.0         19587.819778  2016   \n",
       "\n",
       "   Month  Pandemic  dist_big_flop  dist_big_hit  dist_small_flop  \\\n",
       "0      1         1            0.0           1.0              0.0   \n",
       "1      5         0            1.0           0.0              0.0   \n",
       "\n",
       "   dist_small_hit     Grade Main_Country  \n",
       "0             0.0  15세이상관람가           일본  \n",
       "1             0.0     전체관람가           기타  "
      ]
     },
     "execution_count": 123,
     "metadata": {},
     "output_type": "execute_result"
    }
   ],
   "source": [
    "pd.set_option('display.max_columns', None)\n",
    "data_full.head(2)"
   ]
  },
  {
   "cell_type": "markdown",
   "id": "ac502fa3",
   "metadata": {},
   "source": [
    "grade, main country 원핫인코딩"
   ]
  },
  {
   "cell_type": "code",
   "execution_count": 124,
   "id": "ad0bff2d",
   "metadata": {},
   "outputs": [
    {
     "data": {
      "text/html": [
       "<div>\n",
       "<style scoped>\n",
       "    .dataframe tbody tr th:only-of-type {\n",
       "        vertical-align: middle;\n",
       "    }\n",
       "\n",
       "    .dataframe tbody tr th {\n",
       "        vertical-align: top;\n",
       "    }\n",
       "\n",
       "    .dataframe thead th {\n",
       "        text-align: right;\n",
       "    }\n",
       "</style>\n",
       "<table border=\"1\" class=\"dataframe\">\n",
       "  <thead>\n",
       "    <tr style=\"text-align: right;\">\n",
       "      <th></th>\n",
       "      <th>Movie_Title</th>\n",
       "      <th>Total_Audience_Count</th>\n",
       "      <th>Total_Weeks</th>\n",
       "      <th>wk1_Audience</th>\n",
       "      <th>wk1_AudiencePerShow</th>\n",
       "      <th>wk2_Audience</th>\n",
       "      <th>wk2_AudiencePerShow</th>\n",
       "      <th>Show_Change</th>\n",
       "      <th>opening_Ho_Retention</th>\n",
       "      <th>wk1_Holiday_AudienceMean</th>\n",
       "      <th>wk1_Holiday_ShowMean</th>\n",
       "      <th>wk2_Holiday_AudienceMean</th>\n",
       "      <th>wk2_Holiday_ShowMean</th>\n",
       "      <th>opening_AudienceStd</th>\n",
       "      <th>Year</th>\n",
       "      <th>Month</th>\n",
       "      <th>Pandemic</th>\n",
       "      <th>dist_big_flop</th>\n",
       "      <th>dist_big_hit</th>\n",
       "      <th>dist_small_flop</th>\n",
       "      <th>dist_small_hit</th>\n",
       "      <th>Grade_15세이상관람가</th>\n",
       "      <th>Grade_전체관람가</th>\n",
       "      <th>Grade_청소년관람불가</th>\n",
       "      <th>Main_Country_미국</th>\n",
       "      <th>Main_Country_일본</th>\n",
       "      <th>Main_Country_한국</th>\n",
       "    </tr>\n",
       "  </thead>\n",
       "  <tbody>\n",
       "    <tr>\n",
       "      <th>0</th>\n",
       "      <td>도쿄 리벤저스</td>\n",
       "      <td>13122</td>\n",
       "      <td>8</td>\n",
       "      <td>8617.0</td>\n",
       "      <td>5.654199</td>\n",
       "      <td>2925</td>\n",
       "      <td>5.034423</td>\n",
       "      <td>0.381234</td>\n",
       "      <td>0.130780</td>\n",
       "      <td>1762.50</td>\n",
       "      <td>288.00</td>\n",
       "      <td>230.5</td>\n",
       "      <td>18.5</td>\n",
       "      <td>786.574025</td>\n",
       "      <td>2022</td>\n",
       "      <td>1</td>\n",
       "      <td>1</td>\n",
       "      <td>0.0</td>\n",
       "      <td>1.0</td>\n",
       "      <td>0.0</td>\n",
       "      <td>0.0</td>\n",
       "      <td>1</td>\n",
       "      <td>0</td>\n",
       "      <td>0</td>\n",
       "      <td>0</td>\n",
       "      <td>1</td>\n",
       "      <td>0</td>\n",
       "    </tr>\n",
       "    <tr>\n",
       "      <th>1</th>\n",
       "      <td>매직브러시</td>\n",
       "      <td>169106</td>\n",
       "      <td>8</td>\n",
       "      <td>145560.0</td>\n",
       "      <td>37.670807</td>\n",
       "      <td>18117</td>\n",
       "      <td>14.717303</td>\n",
       "      <td>0.318582</td>\n",
       "      <td>0.182869</td>\n",
       "      <td>33644.25</td>\n",
       "      <td>835.75</td>\n",
       "      <td>6152.5</td>\n",
       "      <td>207.0</td>\n",
       "      <td>19587.819778</td>\n",
       "      <td>2016</td>\n",
       "      <td>5</td>\n",
       "      <td>0</td>\n",
       "      <td>1.0</td>\n",
       "      <td>0.0</td>\n",
       "      <td>0.0</td>\n",
       "      <td>0.0</td>\n",
       "      <td>0</td>\n",
       "      <td>1</td>\n",
       "      <td>0</td>\n",
       "      <td>0</td>\n",
       "      <td>0</td>\n",
       "      <td>0</td>\n",
       "    </tr>\n",
       "  </tbody>\n",
       "</table>\n",
       "</div>"
      ],
      "text/plain": [
       "  Movie_Title  Total_Audience_Count  Total_Weeks  wk1_Audience  \\\n",
       "0     도쿄 리벤저스                 13122            8        8617.0   \n",
       "1       매직브러시                169106            8      145560.0   \n",
       "\n",
       "   wk1_AudiencePerShow  wk2_Audience  wk2_AudiencePerShow  Show_Change  \\\n",
       "0             5.654199          2925             5.034423     0.381234   \n",
       "1            37.670807         18117            14.717303     0.318582   \n",
       "\n",
       "   opening_Ho_Retention  wk1_Holiday_AudienceMean  wk1_Holiday_ShowMean  \\\n",
       "0              0.130780                   1762.50                288.00   \n",
       "1              0.182869                  33644.25                835.75   \n",
       "\n",
       "   wk2_Holiday_AudienceMean  wk2_Holiday_ShowMean  opening_AudienceStd  Year  \\\n",
       "0                     230.5                  18.5           786.574025  2022   \n",
       "1                    6152.5                 207.0         19587.819778  2016   \n",
       "\n",
       "   Month  Pandemic  dist_big_flop  dist_big_hit  dist_small_flop  \\\n",
       "0      1         1            0.0           1.0              0.0   \n",
       "1      5         0            1.0           0.0              0.0   \n",
       "\n",
       "   dist_small_hit  Grade_15세이상관람가  Grade_전체관람가  Grade_청소년관람불가  \\\n",
       "0             0.0               1            0              0   \n",
       "1             0.0               0            1              0   \n",
       "\n",
       "   Main_Country_미국  Main_Country_일본  Main_Country_한국  \n",
       "0                0                1                0  \n",
       "1                0                0                0  "
      ]
     },
     "execution_count": 124,
     "metadata": {},
     "output_type": "execute_result"
    }
   ],
   "source": [
    "make_dummies_cols = [\"Grade\", \"Main_Country\"]\n",
    "data_full = pd.get_dummies(data_full, columns=make_dummies_cols, drop_first=True)\n",
    "one_hot_cols = [col for col in data_full.columns if col.startswith(\"Grade_\") or col.startswith(\"Main_Country_\")]\n",
    "data_full[one_hot_cols] = data_full[one_hot_cols].astype(\"int8\")\n",
    "data_full.head(2)"
   ]
  },
  {
   "cell_type": "code",
   "execution_count": 125,
   "id": "404ac6df",
   "metadata": {},
   "outputs": [],
   "source": [
    "movie_title = data_full[[\"Movie_Title\"]].copy()\n",
    "movie_data = data_full.drop(columns=[\"Movie_Title\"]).copy()"
   ]
  },
  {
   "cell_type": "markdown",
   "id": "45e96a1c",
   "metadata": {},
   "source": [
    "# 관객수 비교"
   ]
  },
  {
   "cell_type": "markdown",
   "id": "73ca89ab",
   "metadata": {},
   "source": [
    "## 1) 1주차, 2주차, 최종 관람객 수 비교"
   ]
  },
  {
   "cell_type": "code",
   "execution_count": 126,
   "id": "eeb9a987",
   "metadata": {},
   "outputs": [],
   "source": [
    "temp1 = movie_data[[\"Total_Audience_Count\", \"wk1_Audience\", \"wk2_Audience\"]].copy()\n",
    "temp1.loc[:,\"con_wk2\"] = temp1[\"wk1_Audience\"] + temp1[\"wk2_Audience\"]\n",
    "temp1.loc[:,\"wk1_wk2\"] = round((temp1[\"con_wk2\"]/temp1[\"wk1_Audience\"]-1)*100, 2)\n",
    "temp1.loc[:,\"wk2_total\"] = round((temp1[\"Total_Audience_Count\"]/temp1[\"con_wk2\"]-1)*100, 2)"
   ]
  },
  {
   "cell_type": "markdown",
   "id": "2ea82881",
   "metadata": {},
   "source": [
    "`wk1_wk2` : 1주차와 2주차의 관객수 변화율(백분율)  \n",
    "`wk2_total` : 2주차와 총 관객수의 변화율(백분율)  \n",
    "\n",
    "이제 이걸 통해 군집분석을 진행, 초반 흥행과 후반 흥행을 분류할 수 있는지 확인한다"
   ]
  },
  {
   "cell_type": "code",
   "execution_count": 127,
   "id": "ea089338",
   "metadata": {},
   "outputs": [
    {
     "data": {
      "text/html": [
       "<div>\n",
       "<style scoped>\n",
       "    .dataframe tbody tr th:only-of-type {\n",
       "        vertical-align: middle;\n",
       "    }\n",
       "\n",
       "    .dataframe tbody tr th {\n",
       "        vertical-align: top;\n",
       "    }\n",
       "\n",
       "    .dataframe thead th {\n",
       "        text-align: right;\n",
       "    }\n",
       "</style>\n",
       "<table border=\"1\" class=\"dataframe\">\n",
       "  <thead>\n",
       "    <tr style=\"text-align: right;\">\n",
       "      <th></th>\n",
       "      <th>wk1_wk2</th>\n",
       "      <th>wk2_total</th>\n",
       "    </tr>\n",
       "  </thead>\n",
       "  <tbody>\n",
       "    <tr>\n",
       "      <th>count</th>\n",
       "      <td>2568.000000</td>\n",
       "      <td>2568.000000</td>\n",
       "    </tr>\n",
       "    <tr>\n",
       "      <th>mean</th>\n",
       "      <td>75.819206</td>\n",
       "      <td>42.726908</td>\n",
       "    </tr>\n",
       "    <tr>\n",
       "      <th>std</th>\n",
       "      <td>51.384244</td>\n",
       "      <td>247.551834</td>\n",
       "    </tr>\n",
       "    <tr>\n",
       "      <th>min</th>\n",
       "      <td>2.730000</td>\n",
       "      <td>0.000000</td>\n",
       "    </tr>\n",
       "    <tr>\n",
       "      <th>25%</th>\n",
       "      <td>42.912500</td>\n",
       "      <td>6.485000</td>\n",
       "    </tr>\n",
       "    <tr>\n",
       "      <th>50%</th>\n",
       "      <td>64.820000</td>\n",
       "      <td>17.135000</td>\n",
       "    </tr>\n",
       "    <tr>\n",
       "      <th>75%</th>\n",
       "      <td>95.305000</td>\n",
       "      <td>42.582500</td>\n",
       "    </tr>\n",
       "    <tr>\n",
       "      <th>max</th>\n",
       "      <td>718.180000</td>\n",
       "      <td>11595.360000</td>\n",
       "    </tr>\n",
       "  </tbody>\n",
       "</table>\n",
       "</div>"
      ],
      "text/plain": [
       "           wk1_wk2     wk2_total\n",
       "count  2568.000000   2568.000000\n",
       "mean     75.819206     42.726908\n",
       "std      51.384244    247.551834\n",
       "min       2.730000      0.000000\n",
       "25%      42.912500      6.485000\n",
       "50%      64.820000     17.135000\n",
       "75%      95.305000     42.582500\n",
       "max     718.180000  11595.360000"
      ]
     },
     "execution_count": 127,
     "metadata": {},
     "output_type": "execute_result"
    }
   ],
   "source": [
    "cluster_1 = temp1[[\"wk1_wk2\", \"wk2_total\"]]\n",
    "cluster_1.describe()"
   ]
  },
  {
   "cell_type": "markdown",
   "id": "3f04ca80",
   "metadata": {},
   "source": [
    "이상치 제거"
   ]
  },
  {
   "cell_type": "code",
   "execution_count": 128,
   "id": "66d198f0",
   "metadata": {},
   "outputs": [
    {
     "data": {
      "image/png": "[encoded data removed]",
      "text/plain": [
       "<Figure size 1200x400 with 2 Axes>"
      ]
     },
     "metadata": {},
     "output_type": "display_data"
    }
   ],
   "source": [
    "fig, axes = plt.subplots(1, 2, figsize=(12, 4))\n",
    "\n",
    "sns.histplot(cluster_1[\"wk1_wk2\"].dropna(), bins=50, ax=axes[0], color=\"C0\")\n",
    "axes[0].set_title(\"wk1_wk2\")\n",
    "\n",
    "sns.histplot(cluster_1[\"wk2_total\"].dropna(), bins=50, ax=axes[1], color=\"C1\")\n",
    "axes[1].set_title(\"wk2_total\")\n",
    "\n",
    "plt.tight_layout()\n",
    "plt.show()"
   ]
  },
  {
   "cell_type": "code",
   "execution_count": null,
   "id": "28408f0c",
   "metadata": {},
   "outputs": [],
   "source": []
  },
  {
   "cell_type": "code",
   "execution_count": 129,
   "id": "712022bb",
   "metadata": {},
   "outputs": [],
   "source": [
    "# scaler = StandardScaler()\n",
    "# cluster_1.loc[:,:] = scaler.fit_transform(cluster_1)\n",
    "# cluster_1.describe()"
   ]
  }
 ],
 "metadata": {
  "kernelspec": {
   "display_name": "base",
   "language": "python",
   "name": "python3"
  },
  "language_info": {
   "codemirror_mode": {
    "name": "ipython",
    "version": 3
   },
   "file_extension": ".py",
   "mimetype": "text/x-python",
   "name": "python",
   "nbconvert_exporter": "python",
   "pygments_lexer": "ipython3",
   "version": "3.12.7"
  }
 },
 "nbformat": 4,
 "nbformat_minor": 5
}
